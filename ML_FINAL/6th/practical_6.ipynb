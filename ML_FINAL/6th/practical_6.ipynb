{
 "cells": [
  {
   "cell_type": "markdown",
   "id": "0900f580",
   "metadata": {
    "papermill": {
     "duration": 0.010007,
     "end_time": "2022-11-14T18:02:00.606531",
     "exception": false,
     "start_time": "2022-11-14T18:02:00.596524",
     "status": "completed"
    },
    "tags": []
   },
   "source": [
    "Hello this is @Ranjeet_Kumbhar,<br>\n",
    "Enjoy the Notebook<br>\n",
    "\n",
    "GitHub:https://github.com/RanjeetKumbhar01/TE_IT_ML_ASSIGNMENTS_SPPU<br>\n",
    "# Question\n",
    "\n",
    "Assignment on Clustering Techniques<br>\n",
    "Download the following customer dataset from below link:<br>\n",
    "Data Set: https://www.kaggle.com/shwetabh123/mall-customers<br>\n",
    "This dataset givesthe data of Income and money spent by the customers visiting a Shopping Mall.<br>\n",
    "The data set contains Customer ID, Gender, Age, Annual Income, Spending Score. Therefore, as<br>\n",
    "a mall owner you need to find the group of people who are the profitable customers for the mall<br>\n",
    "owner. Apply at least two clustering algorithms (based on Spending Score) to find the group of<br>\n",
    "customers.<br>\n",
    "a. Apply Data pre-processing (Label Encoding , Data Transformation….) techniques if<br>\n",
    "necessary.<br>\n",
    "b. Perform data-preparation( Train-Test Split)<br>\n",
    "c. Apply Machine Learning Algorithm<br>\n",
    "d. Evaluate Model.<br>\n",
    "e. Apply Cross-Validation and Evaluate Model<br>\n"
   ]
  },
  {
   "cell_type": "code",
   "execution_count": 5,
   "id": "711d1409",
   "metadata": {
    "execution": {
     "iopub.execute_input": "2022-11-14T18:02:00.626817Z",
     "iopub.status.busy": "2022-11-14T18:02:00.625869Z",
     "iopub.status.idle": "2022-11-14T18:02:00.649472Z",
     "shell.execute_reply": "2022-11-14T18:02:00.647734Z"
    },
    "papermill": {
     "duration": 0.037497,
     "end_time": "2022-11-14T18:02:00.652641",
     "exception": false,
     "start_time": "2022-11-14T18:02:00.615144",
     "status": "completed"
    },
    "tags": []
   },
   "outputs": [],
   "source": [
    "# This Python 3 environment comes with many helpful analytics libraries installed\n",
    "# It is defined by the kaggle/python Docker image: https://github.com/kaggle/docker-python\n",
    "# For example, here's several helpful packages to load\n",
    "\n",
    "import numpy as np # linear algebra\n",
    "import pandas as pd # data processing, CSV file I/O (e.g. pd.read_csv)\n",
    "\n",
    "# Input data files are available in the read-only \"../input/\" directory\n",
    "# For example, running this (by clicking run or pressing Shift+Enter) will list all files under the input directory\n",
    "\n",
    "import os\n",
    "for dirname, _, filenames in os.walk('/kaggle/input'):\n",
    "    for filename in filenames:\n",
    "        print(os.path.join(dirname, filename))\n",
    "\n",
    "# You can write up to 20GB to the current directory (/kaggle/working/) that gets preserved as output when you create a version using \"Save & Run All\" \n",
    "# You can also write temporary files to /kaggle/temp/, but they won't be saved outside of the current session"
   ]
  },
  {
   "cell_type": "code",
   "execution_count": 6,
   "id": "2adc33ca",
   "metadata": {
    "execution": {
     "iopub.execute_input": "2022-11-14T18:02:00.673168Z",
     "iopub.status.busy": "2022-11-14T18:02:00.672510Z",
     "iopub.status.idle": "2022-11-14T18:02:01.959896Z",
     "shell.execute_reply": "2022-11-14T18:02:01.958371Z"
    },
    "papermill": {
     "duration": 1.301426,
     "end_time": "2022-11-14T18:02:01.962951",
     "exception": false,
     "start_time": "2022-11-14T18:02:00.661525",
     "status": "completed"
    },
    "tags": []
   },
   "outputs": [],
   "source": [
    "import numpy as np\n",
    "\"\"\"\n",
    "This script imports essential libraries for data manipulation, analysis, and visualization.\n",
    "\n",
    "Libraries:\n",
    "- numpy: A fundamental package for scientific computing with Python.\n",
    "- pandas: A powerful data manipulation and analysis library.\n",
    "- matplotlib.pyplot: A plotting library for creating static, animated, and interactive visualizations.\n",
    "- seaborn: A statistical data visualization library based on matplotlib.\n",
    "\n",
    "Usage:\n",
    "This script sets up the environment for data analysis and visualization tasks by importing the necessary libraries.\n",
    "\"\"\"\n",
    "import pandas as pd\n",
    "import matplotlib.pyplot as plt\n",
    "import seaborn as sns"
   ]
  },
  {
   "cell_type": "code",
   "execution_count": 7,
   "id": "9982ae51",
   "metadata": {
    "execution": {
     "iopub.execute_input": "2022-11-14T18:02:01.983392Z",
     "iopub.status.busy": "2022-11-14T18:02:01.982213Z",
     "iopub.status.idle": "2022-11-14T18:02:02.004139Z",
     "shell.execute_reply": "2022-11-14T18:02:02.002500Z"
    },
    "papermill": {
     "duration": 0.03642,
     "end_time": "2022-11-14T18:02:02.008126",
     "exception": false,
     "start_time": "2022-11-14T18:02:01.971706",
     "status": "completed"
    },
    "tags": []
   },
   "outputs": [],
   "source": [
    "df = pd.read_csv(r\"E:\\TY\\ML\\ML LAB\\MLCODES\\6th\\Mall_Customers.csv\")"
   ]
  },
  {
   "cell_type": "code",
   "execution_count": 8,
   "id": "ca518853",
   "metadata": {
    "execution": {
     "iopub.execute_input": "2022-11-14T18:02:02.028940Z",
     "iopub.status.busy": "2022-11-14T18:02:02.028433Z",
     "iopub.status.idle": "2022-11-14T18:02:02.059925Z",
     "shell.execute_reply": "2022-11-14T18:02:02.058610Z"
    },
    "papermill": {
     "duration": 0.045394,
     "end_time": "2022-11-14T18:02:02.062747",
     "exception": false,
     "start_time": "2022-11-14T18:02:02.017353",
     "status": "completed"
    },
    "tags": []
   },
   "outputs": [
    {
     "data": {
      "text/html": [
       "<div>\n",
       "<style scoped>\n",
       "    .dataframe tbody tr th:only-of-type {\n",
       "        vertical-align: middle;\n",
       "    }\n",
       "\n",
       "    .dataframe tbody tr th {\n",
       "        vertical-align: top;\n",
       "    }\n",
       "\n",
       "    .dataframe thead th {\n",
       "        text-align: right;\n",
       "    }\n",
       "</style>\n",
       "<table border=\"1\" class=\"dataframe\">\n",
       "  <thead>\n",
       "    <tr style=\"text-align: right;\">\n",
       "      <th></th>\n",
       "      <th>CustomerID</th>\n",
       "      <th>Genre</th>\n",
       "      <th>Age</th>\n",
       "      <th>Annual Income (k$)</th>\n",
       "      <th>Spending Score (1-100)</th>\n",
       "    </tr>\n",
       "  </thead>\n",
       "  <tbody>\n",
       "    <tr>\n",
       "      <th>0</th>\n",
       "      <td>1</td>\n",
       "      <td>Male</td>\n",
       "      <td>19</td>\n",
       "      <td>15</td>\n",
       "      <td>39</td>\n",
       "    </tr>\n",
       "    <tr>\n",
       "      <th>1</th>\n",
       "      <td>2</td>\n",
       "      <td>Male</td>\n",
       "      <td>21</td>\n",
       "      <td>15</td>\n",
       "      <td>81</td>\n",
       "    </tr>\n",
       "    <tr>\n",
       "      <th>2</th>\n",
       "      <td>3</td>\n",
       "      <td>Female</td>\n",
       "      <td>20</td>\n",
       "      <td>16</td>\n",
       "      <td>6</td>\n",
       "    </tr>\n",
       "    <tr>\n",
       "      <th>3</th>\n",
       "      <td>4</td>\n",
       "      <td>Female</td>\n",
       "      <td>23</td>\n",
       "      <td>16</td>\n",
       "      <td>77</td>\n",
       "    </tr>\n",
       "    <tr>\n",
       "      <th>4</th>\n",
       "      <td>5</td>\n",
       "      <td>Female</td>\n",
       "      <td>31</td>\n",
       "      <td>17</td>\n",
       "      <td>40</td>\n",
       "    </tr>\n",
       "    <tr>\n",
       "      <th>...</th>\n",
       "      <td>...</td>\n",
       "      <td>...</td>\n",
       "      <td>...</td>\n",
       "      <td>...</td>\n",
       "      <td>...</td>\n",
       "    </tr>\n",
       "    <tr>\n",
       "      <th>195</th>\n",
       "      <td>196</td>\n",
       "      <td>Female</td>\n",
       "      <td>35</td>\n",
       "      <td>120</td>\n",
       "      <td>79</td>\n",
       "    </tr>\n",
       "    <tr>\n",
       "      <th>196</th>\n",
       "      <td>197</td>\n",
       "      <td>Female</td>\n",
       "      <td>45</td>\n",
       "      <td>126</td>\n",
       "      <td>28</td>\n",
       "    </tr>\n",
       "    <tr>\n",
       "      <th>197</th>\n",
       "      <td>198</td>\n",
       "      <td>Male</td>\n",
       "      <td>32</td>\n",
       "      <td>126</td>\n",
       "      <td>74</td>\n",
       "    </tr>\n",
       "    <tr>\n",
       "      <th>198</th>\n",
       "      <td>199</td>\n",
       "      <td>Male</td>\n",
       "      <td>32</td>\n",
       "      <td>137</td>\n",
       "      <td>18</td>\n",
       "    </tr>\n",
       "    <tr>\n",
       "      <th>199</th>\n",
       "      <td>200</td>\n",
       "      <td>Male</td>\n",
       "      <td>30</td>\n",
       "      <td>137</td>\n",
       "      <td>83</td>\n",
       "    </tr>\n",
       "  </tbody>\n",
       "</table>\n",
       "<p>200 rows × 5 columns</p>\n",
       "</div>"
      ],
      "text/plain": [
       "     CustomerID   Genre  Age  Annual Income (k$)  Spending Score (1-100)\n",
       "0             1    Male   19                  15                      39\n",
       "1             2    Male   21                  15                      81\n",
       "2             3  Female   20                  16                       6\n",
       "3             4  Female   23                  16                      77\n",
       "4             5  Female   31                  17                      40\n",
       "..          ...     ...  ...                 ...                     ...\n",
       "195         196  Female   35                 120                      79\n",
       "196         197  Female   45                 126                      28\n",
       "197         198    Male   32                 126                      74\n",
       "198         199    Male   32                 137                      18\n",
       "199         200    Male   30                 137                      83\n",
       "\n",
       "[200 rows x 5 columns]"
      ]
     },
     "execution_count": 8,
     "metadata": {},
     "output_type": "execute_result"
    }
   ],
   "source": [
    "df"
   ]
  },
  {
   "cell_type": "code",
   "execution_count": 9,
   "id": "235c9186",
   "metadata": {
    "execution": {
     "iopub.execute_input": "2022-11-14T18:02:02.085559Z",
     "iopub.status.busy": "2022-11-14T18:02:02.084599Z",
     "iopub.status.idle": "2022-11-14T18:02:02.099873Z",
     "shell.execute_reply": "2022-11-14T18:02:02.098605Z"
    },
    "papermill": {
     "duration": 0.028951,
     "end_time": "2022-11-14T18:02:02.102980",
     "exception": false,
     "start_time": "2022-11-14T18:02:02.074029",
     "status": "completed"
    },
    "tags": []
   },
   "outputs": [
    {
     "data": {
      "text/html": [
       "<div>\n",
       "<style scoped>\n",
       "    .dataframe tbody tr th:only-of-type {\n",
       "        vertical-align: middle;\n",
       "    }\n",
       "\n",
       "    .dataframe tbody tr th {\n",
       "        vertical-align: top;\n",
       "    }\n",
       "\n",
       "    .dataframe thead th {\n",
       "        text-align: right;\n",
       "    }\n",
       "</style>\n",
       "<table border=\"1\" class=\"dataframe\">\n",
       "  <thead>\n",
       "    <tr style=\"text-align: right;\">\n",
       "      <th></th>\n",
       "      <th>Annual Income (k$)</th>\n",
       "      <th>Spending Score (1-100)</th>\n",
       "    </tr>\n",
       "  </thead>\n",
       "  <tbody>\n",
       "    <tr>\n",
       "      <th>0</th>\n",
       "      <td>15</td>\n",
       "      <td>39</td>\n",
       "    </tr>\n",
       "    <tr>\n",
       "      <th>1</th>\n",
       "      <td>15</td>\n",
       "      <td>81</td>\n",
       "    </tr>\n",
       "    <tr>\n",
       "      <th>2</th>\n",
       "      <td>16</td>\n",
       "      <td>6</td>\n",
       "    </tr>\n",
       "    <tr>\n",
       "      <th>3</th>\n",
       "      <td>16</td>\n",
       "      <td>77</td>\n",
       "    </tr>\n",
       "    <tr>\n",
       "      <th>4</th>\n",
       "      <td>17</td>\n",
       "      <td>40</td>\n",
       "    </tr>\n",
       "    <tr>\n",
       "      <th>...</th>\n",
       "      <td>...</td>\n",
       "      <td>...</td>\n",
       "    </tr>\n",
       "    <tr>\n",
       "      <th>195</th>\n",
       "      <td>120</td>\n",
       "      <td>79</td>\n",
       "    </tr>\n",
       "    <tr>\n",
       "      <th>196</th>\n",
       "      <td>126</td>\n",
       "      <td>28</td>\n",
       "    </tr>\n",
       "    <tr>\n",
       "      <th>197</th>\n",
       "      <td>126</td>\n",
       "      <td>74</td>\n",
       "    </tr>\n",
       "    <tr>\n",
       "      <th>198</th>\n",
       "      <td>137</td>\n",
       "      <td>18</td>\n",
       "    </tr>\n",
       "    <tr>\n",
       "      <th>199</th>\n",
       "      <td>137</td>\n",
       "      <td>83</td>\n",
       "    </tr>\n",
       "  </tbody>\n",
       "</table>\n",
       "<p>200 rows × 2 columns</p>\n",
       "</div>"
      ],
      "text/plain": [
       "     Annual Income (k$)  Spending Score (1-100)\n",
       "0                    15                      39\n",
       "1                    15                      81\n",
       "2                    16                       6\n",
       "3                    16                      77\n",
       "4                    17                      40\n",
       "..                  ...                     ...\n",
       "195                 120                      79\n",
       "196                 126                      28\n",
       "197                 126                      74\n",
       "198                 137                      18\n",
       "199                 137                      83\n",
       "\n",
       "[200 rows x 2 columns]"
      ]
     },
     "execution_count": 9,
     "metadata": {},
     "output_type": "execute_result"
    }
   ],
   "source": [
    "x = df.iloc[:,3:]\n",
    "\"\"\"\n",
    "This code selects all rows and columns from the 4th column onwards from the DataFrame `df` using the `iloc` method and assigns it to the variable `x`.\n",
    "\n",
    "Returns:\n",
    "    DataFrame: A DataFrame containing all rows and columns from the 4th column onwards.\n",
    "\"\"\"\n",
    "x"
   ]
  },
  {
   "cell_type": "markdown",
   "id": "150317d8",
   "metadata": {
    "papermill": {
     "duration": 0.009064,
     "end_time": "2022-11-14T18:02:02.121601",
     "exception": false,
     "start_time": "2022-11-14T18:02:02.112537",
     "status": "completed"
    },
    "tags": []
   },
   "source": [
    "You can split data using train_test_split"
   ]
  },
  {
   "cell_type": "code",
   "execution_count": 10,
   "id": "67882e74",
   "metadata": {
    "execution": {
     "iopub.execute_input": "2022-11-14T18:02:02.143895Z",
     "iopub.status.busy": "2022-11-14T18:02:02.143423Z",
     "iopub.status.idle": "2022-11-14T18:02:02.458765Z",
     "shell.execute_reply": "2022-11-14T18:02:02.457294Z"
    },
    "papermill": {
     "duration": 0.330262,
     "end_time": "2022-11-14T18:02:02.462338",
     "exception": false,
     "start_time": "2022-11-14T18:02:02.132076",
     "status": "completed"
    },
    "tags": []
   },
   "outputs": [
    {
     "data": {
      "text/plain": [
       "<Axes: title={'center': 'Unclustered Data'}, xlabel='Annual Income (k$)', ylabel='Spending Score (1-100)'>"
      ]
     },
     "execution_count": 10,
     "metadata": {},
     "output_type": "execute_result"
    },
    {
     "data": {
      "image/png": "[encoded data removed]",
      "text/plain": [
       "<Figure size 640x480 with 1 Axes>"
      ]
     },
     "metadata": {},
     "output_type": "display_data"
    }
   ],
   "source": [
    "plt.title('Unclustered Data')\n",
    "\"\"\"\n",
    "This code snippet sets the title of a plot to 'Unclustered Data' and creates a scatter plot using seaborn.\n",
    "\n",
    "- The x-axis represents 'Annual Income (k$)' from the DataFrame `x`.\n",
    "- The y-axis represents 'Spending Score (1-100)' from the DataFrame `x`.\n",
    "\n",
    "Libraries used:\n",
    "- matplotlib.pyplot as plt\n",
    "- seaborn as sns\n",
    "\"\"\"\n",
    "sns.scatterplot(x=x['Annual Income (k$)'],y=x['Spending Score (1-100)'])"
   ]
  },
  {
   "cell_type": "code",
   "execution_count": 11,
   "id": "53d350ae",
   "metadata": {
    "execution": {
     "iopub.execute_input": "2022-11-14T18:02:02.484844Z",
     "iopub.status.busy": "2022-11-14T18:02:02.483753Z",
     "iopub.status.idle": "2022-11-14T18:02:02.968336Z",
     "shell.execute_reply": "2022-11-14T18:02:02.966656Z"
    },
    "papermill": {
     "duration": 0.499326,
     "end_time": "2022-11-14T18:02:02.971806",
     "exception": false,
     "start_time": "2022-11-14T18:02:02.472480",
     "status": "completed"
    },
    "tags": []
   },
   "outputs": [
    {
     "data": {
      "text/plain": [
       "'\\nThis script imports the KMeans and AgglomerativeClustering classes from the sklearn.cluster module.\\nThese classes are used for performing clustering analysis on datasets.\\n\\n- KMeans: A clustering algorithm that partitions the data into K distinct clusters based on feature similarity.\\n- AgglomerativeClustering: A hierarchical clustering algorithm that builds nested clusters by merging or splitting them successively.\\n\\nUsage:\\n- Use KMeans for partitioning data into a predefined number of clusters.\\n- Use AgglomerativeClustering for hierarchical clustering, which does not require specifying the number of clusters in advance.\\n'"
      ]
     },
     "execution_count": 11,
     "metadata": {},
     "output_type": "execute_result"
    }
   ],
   "source": [
    "from sklearn.cluster import KMeans, AgglomerativeClustering\n",
    "\"\"\"\n",
    "This script imports the KMeans and AgglomerativeClustering classes from the sklearn.cluster module.\n",
    "These classes are used for performing clustering analysis on datasets.\n",
    "\n",
    "- KMeans: A clustering algorithm that partitions the data into K distinct clusters based on feature similarity.\n",
    "- AgglomerativeClustering: A hierarchical clustering algorithm that builds nested clusters by merging or splitting them successively.\n",
    "\n",
    "Usage:\n",
    "- Use KMeans for partitioning data into a predefined number of clusters.\n",
    "- Use AgglomerativeClustering for hierarchical clustering, which does not require specifying the number of clusters in advance.\n",
    "\"\"\""
   ]
  },
  {
   "cell_type": "markdown",
   "id": "e0352552",
   "metadata": {
    "papermill": {
     "duration": 0.010116,
     "end_time": "2022-11-14T18:02:02.992490",
     "exception": false,
     "start_time": "2022-11-14T18:02:02.982374",
     "status": "completed"
    },
    "tags": []
   },
   "source": [
    "AgglomerativeClustering is hierarchical Clustering"
   ]
  },
  {
   "cell_type": "code",
   "execution_count": 12,
   "id": "5c209cb5",
   "metadata": {
    "execution": {
     "iopub.execute_input": "2022-11-14T18:02:03.018462Z",
     "iopub.status.busy": "2022-11-14T18:02:03.017972Z",
     "iopub.status.idle": "2022-11-14T18:02:03.023403Z",
     "shell.execute_reply": "2022-11-14T18:02:03.022281Z"
    },
    "papermill": {
     "duration": 0.022818,
     "end_time": "2022-11-14T18:02:03.025995",
     "exception": false,
     "start_time": "2022-11-14T18:02:03.003177",
     "status": "completed"
    },
    "tags": []
   },
   "outputs": [
    {
     "data": {
      "text/plain": [
       "'\\nThis code initializes a KMeans clustering algorithm with 4 clusters.\\n\\nAttributes:\\n    n_clusters (int): The number of clusters to form as well as the number of centroids to generate.\\n\\nExample:\\n'"
      ]
     },
     "execution_count": 12,
     "metadata": {},
     "output_type": "execute_result"
    }
   ],
   "source": [
    "km = KMeans(n_clusters=4)\n",
    "\"\"\"\n",
    "This code initializes a KMeans clustering algorithm with 4 clusters.\n",
    "\n",
    "Attributes:\n",
    "    n_clusters (int): The number of clusters to form as well as the number of centroids to generate.\n",
    "\n",
    "Example:\n",
    "\"\"\""
   ]
  },
  {
   "cell_type": "code",
   "execution_count": 13,
   "id": "9d803062",
   "metadata": {
    "execution": {
     "iopub.execute_input": "2022-11-14T18:02:03.049410Z",
     "iopub.status.busy": "2022-11-14T18:02:03.047659Z",
     "iopub.status.idle": "2022-11-14T18:02:03.093183Z",
     "shell.execute_reply": "2022-11-14T18:02:03.092252Z"
    },
    "papermill": {
     "duration": 0.060194,
     "end_time": "2022-11-14T18:02:03.096383",
     "exception": false,
     "start_time": "2022-11-14T18:02:03.036189",
     "status": "completed"
    },
    "tags": []
   },
   "outputs": [
    {
     "name": "stderr",
     "output_type": "stream",
     "text": [
      "d:\\Anaconda3\\Lib\\site-packages\\sklearn\\cluster\\_kmeans.py:1429: UserWarning: KMeans is known to have a memory leak on Windows with MKL, when there are less chunks than available threads. You can avoid it by setting the environment variable OMP_NUM_THREADS=1.\n",
      "  warnings.warn(\n"
     ]
    },
    {
     "data": {
      "text/plain": [
       "'\\nFits the KMeans model to the data and predicts the cluster for each sample.\\n\\nParameters:\\nx : array-like or sparse matrix, shape (n_samples, n_features)\\n    The input data to cluster.\\n\\nReturns:\\nlabels : array, shape [n_samples,]\\n    Index of the cluster each sample belongs to.\\n'"
      ]
     },
     "execution_count": 13,
     "metadata": {},
     "output_type": "execute_result"
    }
   ],
   "source": [
    "km.fit_predict(x)\n",
    "\"\"\"\n",
    "Fits the KMeans model to the data and predicts the cluster for each sample.\n",
    "\n",
    "Parameters:\n",
    "x : array-like or sparse matrix, shape (n_samples, n_features)\n",
    "    The input data to cluster.\n",
    "\n",
    "Returns:\n",
    "labels : array, shape [n_samples,]\n",
    "    Index of the cluster each sample belongs to.\n",
    "\"\"\""
   ]
  },
  {
   "cell_type": "code",
   "execution_count": 14,
   "id": "a722710b",
   "metadata": {
    "execution": {
     "iopub.execute_input": "2022-11-14T18:02:03.121260Z",
     "iopub.status.busy": "2022-11-14T18:02:03.120775Z",
     "iopub.status.idle": "2022-11-14T18:02:03.128503Z",
     "shell.execute_reply": "2022-11-14T18:02:03.127265Z"
    },
    "papermill": {
     "duration": 0.023452,
     "end_time": "2022-11-14T18:02:03.132312",
     "exception": false,
     "start_time": "2022-11-14T18:02:03.108860",
     "status": "completed"
    },
    "tags": []
   },
   "outputs": [
    {
     "data": {
      "text/plain": [
       "73679.78903948834"
      ]
     },
     "execution_count": 14,
     "metadata": {},
     "output_type": "execute_result"
    }
   ],
   "source": [
    "#sse\n",
    "\"\"\"\n",
    "This code snippet retrieves the sum of squared distances of samples to their closest cluster center, \n",
    "also known as the within-cluster sum of squares (WCSS) or inertia, from a KMeans clustering model.\n",
    "\n",
    "Attributes:\n",
    "    km (KMeans): An instance of the KMeans clustering model.\n",
    "    km.inertia_ (float): The sum of squared distances of samples to their closest cluster center.\n",
    "\"\"\"\n",
    "km.inertia_"
   ]
  },
  {
   "cell_type": "code",
   "execution_count": 15,
   "id": "9b1a953d",
   "metadata": {
    "execution": {
     "iopub.execute_input": "2022-11-14T18:02:03.156059Z",
     "iopub.status.busy": "2022-11-14T18:02:03.155587Z",
     "iopub.status.idle": "2022-11-14T18:02:03.866242Z",
     "shell.execute_reply": "2022-11-14T18:02:03.864907Z"
    },
    "papermill": {
     "duration": 0.72652,
     "end_time": "2022-11-14T18:02:03.869801",
     "exception": false,
     "start_time": "2022-11-14T18:02:03.143281",
     "status": "completed"
    },
    "tags": []
   },
   "outputs": [
    {
     "name": "stderr",
     "output_type": "stream",
     "text": [
      "d:\\Anaconda3\\Lib\\site-packages\\sklearn\\cluster\\_kmeans.py:1429: UserWarning: KMeans is known to have a memory leak on Windows with MKL, when there are less chunks than available threads. You can avoid it by setting the environment variable OMP_NUM_THREADS=1.\n",
      "  warnings.warn(\n",
      "d:\\Anaconda3\\Lib\\site-packages\\sklearn\\cluster\\_kmeans.py:1429: UserWarning: KMeans is known to have a memory leak on Windows with MKL, when there are less chunks than available threads. You can avoid it by setting the environment variable OMP_NUM_THREADS=1.\n",
      "  warnings.warn(\n",
      "d:\\Anaconda3\\Lib\\site-packages\\sklearn\\cluster\\_kmeans.py:1429: UserWarning: KMeans is known to have a memory leak on Windows with MKL, when there are less chunks than available threads. You can avoid it by setting the environment variable OMP_NUM_THREADS=1.\n",
      "  warnings.warn(\n",
      "d:\\Anaconda3\\Lib\\site-packages\\sklearn\\cluster\\_kmeans.py:1429: UserWarning: KMeans is known to have a memory leak on Windows with MKL, when there are less chunks than available threads. You can avoid it by setting the environment variable OMP_NUM_THREADS=1.\n",
      "  warnings.warn(\n",
      "d:\\Anaconda3\\Lib\\site-packages\\sklearn\\cluster\\_kmeans.py:1429: UserWarning: KMeans is known to have a memory leak on Windows with MKL, when there are less chunks than available threads. You can avoid it by setting the environment variable OMP_NUM_THREADS=1.\n",
      "  warnings.warn(\n",
      "d:\\Anaconda3\\Lib\\site-packages\\sklearn\\cluster\\_kmeans.py:1429: UserWarning: KMeans is known to have a memory leak on Windows with MKL, when there are less chunks than available threads. You can avoid it by setting the environment variable OMP_NUM_THREADS=1.\n",
      "  warnings.warn(\n",
      "d:\\Anaconda3\\Lib\\site-packages\\sklearn\\cluster\\_kmeans.py:1429: UserWarning: KMeans is known to have a memory leak on Windows with MKL, when there are less chunks than available threads. You can avoid it by setting the environment variable OMP_NUM_THREADS=1.\n",
      "  warnings.warn(\n",
      "d:\\Anaconda3\\Lib\\site-packages\\sklearn\\cluster\\_kmeans.py:1429: UserWarning: KMeans is known to have a memory leak on Windows with MKL, when there are less chunks than available threads. You can avoid it by setting the environment variable OMP_NUM_THREADS=1.\n",
      "  warnings.warn(\n",
      "d:\\Anaconda3\\Lib\\site-packages\\sklearn\\cluster\\_kmeans.py:1429: UserWarning: KMeans is known to have a memory leak on Windows with MKL, when there are less chunks than available threads. You can avoid it by setting the environment variable OMP_NUM_THREADS=1.\n",
      "  warnings.warn(\n",
      "d:\\Anaconda3\\Lib\\site-packages\\sklearn\\cluster\\_kmeans.py:1429: UserWarning: KMeans is known to have a memory leak on Windows with MKL, when there are less chunks than available threads. You can avoid it by setting the environment variable OMP_NUM_THREADS=1.\n",
      "  warnings.warn(\n",
      "d:\\Anaconda3\\Lib\\site-packages\\sklearn\\cluster\\_kmeans.py:1429: UserWarning: KMeans is known to have a memory leak on Windows with MKL, when there are less chunks than available threads. You can avoid it by setting the environment variable OMP_NUM_THREADS=1.\n",
      "  warnings.warn(\n",
      "d:\\Anaconda3\\Lib\\site-packages\\sklearn\\cluster\\_kmeans.py:1429: UserWarning: KMeans is known to have a memory leak on Windows with MKL, when there are less chunks than available threads. You can avoid it by setting the environment variable OMP_NUM_THREADS=1.\n",
      "  warnings.warn(\n",
      "d:\\Anaconda3\\Lib\\site-packages\\sklearn\\cluster\\_kmeans.py:1429: UserWarning: KMeans is known to have a memory leak on Windows with MKL, when there are less chunks than available threads. You can avoid it by setting the environment variable OMP_NUM_THREADS=1.\n",
      "  warnings.warn(\n",
      "d:\\Anaconda3\\Lib\\site-packages\\sklearn\\cluster\\_kmeans.py:1429: UserWarning: KMeans is known to have a memory leak on Windows with MKL, when there are less chunks than available threads. You can avoid it by setting the environment variable OMP_NUM_THREADS=1.\n",
      "  warnings.warn(\n",
      "d:\\Anaconda3\\Lib\\site-packages\\sklearn\\cluster\\_kmeans.py:1429: UserWarning: KMeans is known to have a memory leak on Windows with MKL, when there are less chunks than available threads. You can avoid it by setting the environment variable OMP_NUM_THREADS=1.\n",
      "  warnings.warn(\n"
     ]
    }
   ],
   "source": [
    "sse =[]\n",
    "\"\"\"\n",
    "This code calculates the Sum of Squared Errors (SSE) for different numbers of clusters (k) using the KMeans algorithm.\n",
    "\n",
    "Variables:\n",
    "    sse (list): A list to store the SSE values for each k.\n",
    "    k (int): The number of clusters for the KMeans algorithm, ranging from 1 to 15.\n",
    "    km (KMeans): An instance of the KMeans algorithm.\n",
    "    x (array-like): The input data to be clustered.\n",
    "\n",
    "Steps:\n",
    "1. Initialize an empty list `sse` to store the SSE values.\n",
    "2. Loop over the range of cluster numbers from 1 to 15.\n",
    "3. For each k, create an instance of KMeans with k clusters.\n",
    "4. Fit the KMeans model to the data `x` and predict the cluster assignments.\n",
    "5. Append the inertia (SSE) of the fitted model to the `sse` list.\n",
    "\"\"\"\n",
    "for k in range(1,16):\n",
    "    km = KMeans(n_clusters=k)\n",
    "    km.fit_predict(x)\n",
    "    sse.append(km.inertia_)"
   ]
  },
  {
   "cell_type": "code",
   "execution_count": 16,
   "id": "3897469b",
   "metadata": {
    "execution": {
     "iopub.execute_input": "2022-11-14T18:02:03.893784Z",
     "iopub.status.busy": "2022-11-14T18:02:03.893284Z",
     "iopub.status.idle": "2022-11-14T18:02:03.901937Z",
     "shell.execute_reply": "2022-11-14T18:02:03.900798Z"
    },
    "papermill": {
     "duration": 0.022585,
     "end_time": "2022-11-14T18:02:03.904370",
     "exception": false,
     "start_time": "2022-11-14T18:02:03.881785",
     "status": "completed"
    },
    "tags": []
   },
   "outputs": [
    {
     "data": {
      "text/plain": [
       "\"\\nThis code appears to be a placeholder or an incomplete snippet.\\n'sse' might be a variable or function that has not been defined yet.\\nPlease provide the complete code for further assistance.\\n\""
      ]
     },
     "execution_count": 16,
     "metadata": {},
     "output_type": "execute_result"
    }
   ],
   "source": [
    "sse\n",
    "\"\"\"\n",
    "This code appears to be a placeholder or an incomplete snippet.\n",
    "'sse' might be a variable or function that has not been defined yet.\n",
    "Please provide the complete code for further assistance.\n",
    "\"\"\""
   ]
  },
  {
   "cell_type": "markdown",
   "id": "caa8dde8",
   "metadata": {
    "papermill": {
     "duration": 0.009188,
     "end_time": "2022-11-14T18:02:03.923153",
     "exception": false,
     "start_time": "2022-11-14T18:02:03.913965",
     "status": "completed"
    },
    "tags": []
   },
   "source": [
    "Elbow Method"
   ]
  },
  {
   "cell_type": "code",
   "execution_count": 17,
   "id": "87a7215f",
   "metadata": {
    "execution": {
     "iopub.execute_input": "2022-11-14T18:02:03.945298Z",
     "iopub.status.busy": "2022-11-14T18:02:03.943960Z",
     "iopub.status.idle": "2022-11-14T18:02:04.189180Z",
     "shell.execute_reply": "2022-11-14T18:02:04.187773Z"
    },
    "papermill": {
     "duration": 0.258915,
     "end_time": "2022-11-14T18:02:04.191827",
     "exception": false,
     "start_time": "2022-11-14T18:02:03.932912",
     "status": "completed"
    },
    "tags": []
   },
   "outputs": [
    {
     "name": "stderr",
     "output_type": "stream",
     "text": [
      "d:\\Anaconda3\\Lib\\site-packages\\seaborn\\_oldcore.py:1119: FutureWarning: use_inf_as_na option is deprecated and will be removed in a future version. Convert inf values to NaN before operating instead.\n",
      "  with pd.option_context('mode.use_inf_as_na', True):\n",
      "d:\\Anaconda3\\Lib\\site-packages\\seaborn\\_oldcore.py:1119: FutureWarning: use_inf_as_na option is deprecated and will be removed in a future version. Convert inf values to NaN before operating instead.\n",
      "  with pd.option_context('mode.use_inf_as_na', True):\n"
     ]
    },
    {
     "data": {
      "text/plain": [
       "Text(0, 0.5, 'SSE')"
      ]
     },
     "execution_count": 17,
     "metadata": {},
     "output_type": "execute_result"
    },
    {
     "data": {
      "image/png": "[encoded data removed]",
      "text/plain": [
       "<Figure size 640x480 with 1 Axes>"
      ]
     },
     "metadata": {},
     "output_type": "display_data"
    }
   ],
   "source": [
    "sns.lineplot(x=list(range(1,16)), y=sse)\n",
    "\"\"\"\n",
    "This code snippet creates a line plot using seaborn to visualize the Sum of Squared Errors (SSE) for different clusters.\n",
    "\n",
    "Parameters:\n",
    "- x: A list of integers from 1 to 15 representing the cluster numbers.\n",
    "- y: A list or array-like object `sse` representing the SSE values for each cluster.\n",
    "\n",
    "The plot includes:\n",
    "- X-axis labeled as 'Cluster'\n",
    "- Y-axis labeled as 'SSE'\n",
    "\"\"\"\n",
    "plt.xlabel('Cluster')\n",
    "plt.ylabel('SSE')"
   ]
  },
  {
   "cell_type": "markdown",
   "id": "ee78dd2d",
   "metadata": {
    "papermill": {
     "duration": 0.009644,
     "end_time": "2022-11-14T18:02:04.211952",
     "exception": false,
     "start_time": "2022-11-14T18:02:04.202308",
     "status": "completed"
    },
    "tags": []
   },
   "source": [
    "So at 5th cluster "
   ]
  },
  {
   "cell_type": "code",
   "execution_count": 18,
   "id": "565865ab",
   "metadata": {
    "execution": {
     "iopub.execute_input": "2022-11-14T18:02:04.236698Z",
     "iopub.status.busy": "2022-11-14T18:02:04.235078Z",
     "iopub.status.idle": "2022-11-14T18:02:04.240776Z",
     "shell.execute_reply": "2022-11-14T18:02:04.239750Z"
    },
    "papermill": {
     "duration": 0.020695,
     "end_time": "2022-11-14T18:02:04.243251",
     "exception": false,
     "start_time": "2022-11-14T18:02:04.222556",
     "status": "completed"
    },
    "tags": []
   },
   "outputs": [],
   "source": [
    "#Method second or alternative for elbow method\n",
    "\"\"\"\n",
    "This script demonstrates an alternative method for determining the optimal number of clusters in a dataset using the silhouette score.\n",
    "\n",
    "Modules:\n",
    "    sklearn.metrics.silhouette_score: This module provides the silhouette_score function to evaluate the quality of clustering.\n",
    "\n",
    "Usage:\n",
    "    Import the silhouette_score function from sklearn.metrics to calculate the silhouette score for different numbers of clusters.\n",
    "\"\"\"\n",
    "from sklearn.metrics import silhouette_score"
   ]
  },
  {
   "cell_type": "code",
   "execution_count": 19,
   "id": "b8aeec70",
   "metadata": {
    "execution": {
     "iopub.execute_input": "2022-11-14T18:02:04.268409Z",
     "iopub.status.busy": "2022-11-14T18:02:04.267107Z",
     "iopub.status.idle": "2022-11-14T18:02:06.101333Z",
     "shell.execute_reply": "2022-11-14T18:02:06.100003Z"
    },
    "papermill": {
     "duration": 1.851765,
     "end_time": "2022-11-14T18:02:06.106067",
     "exception": false,
     "start_time": "2022-11-14T18:02:04.254302",
     "status": "completed"
    },
    "tags": []
   },
   "outputs": [
    {
     "name": "stderr",
     "output_type": "stream",
     "text": [
      "d:\\Anaconda3\\Lib\\site-packages\\sklearn\\cluster\\_kmeans.py:1429: UserWarning: KMeans is known to have a memory leak on Windows with MKL, when there are less chunks than available threads. You can avoid it by setting the environment variable OMP_NUM_THREADS=1.\n",
      "  warnings.warn(\n",
      "d:\\Anaconda3\\Lib\\site-packages\\sklearn\\cluster\\_kmeans.py:1429: UserWarning: KMeans is known to have a memory leak on Windows with MKL, when there are less chunks than available threads. You can avoid it by setting the environment variable OMP_NUM_THREADS=1.\n",
      "  warnings.warn(\n",
      "d:\\Anaconda3\\Lib\\site-packages\\sklearn\\cluster\\_kmeans.py:1429: UserWarning: KMeans is known to have a memory leak on Windows with MKL, when there are less chunks than available threads. You can avoid it by setting the environment variable OMP_NUM_THREADS=1.\n",
      "  warnings.warn(\n",
      "d:\\Anaconda3\\Lib\\site-packages\\sklearn\\cluster\\_kmeans.py:1429: UserWarning: KMeans is known to have a memory leak on Windows with MKL, when there are less chunks than available threads. You can avoid it by setting the environment variable OMP_NUM_THREADS=1.\n",
      "  warnings.warn(\n",
      "d:\\Anaconda3\\Lib\\site-packages\\sklearn\\cluster\\_kmeans.py:1429: UserWarning: KMeans is known to have a memory leak on Windows with MKL, when there are less chunks than available threads. You can avoid it by setting the environment variable OMP_NUM_THREADS=1.\n",
      "  warnings.warn(\n",
      "d:\\Anaconda3\\Lib\\site-packages\\sklearn\\cluster\\_kmeans.py:1429: UserWarning: KMeans is known to have a memory leak on Windows with MKL, when there are less chunks than available threads. You can avoid it by setting the environment variable OMP_NUM_THREADS=1.\n",
      "  warnings.warn(\n",
      "d:\\Anaconda3\\Lib\\site-packages\\sklearn\\cluster\\_kmeans.py:1429: UserWarning: KMeans is known to have a memory leak on Windows with MKL, when there are less chunks than available threads. You can avoid it by setting the environment variable OMP_NUM_THREADS=1.\n",
      "  warnings.warn(\n",
      "d:\\Anaconda3\\Lib\\site-packages\\sklearn\\cluster\\_kmeans.py:1429: UserWarning: KMeans is known to have a memory leak on Windows with MKL, when there are less chunks than available threads. You can avoid it by setting the environment variable OMP_NUM_THREADS=1.\n",
      "  warnings.warn(\n",
      "d:\\Anaconda3\\Lib\\site-packages\\sklearn\\cluster\\_kmeans.py:1429: UserWarning: KMeans is known to have a memory leak on Windows with MKL, when there are less chunks than available threads. You can avoid it by setting the environment variable OMP_NUM_THREADS=1.\n",
      "  warnings.warn(\n",
      "d:\\Anaconda3\\Lib\\site-packages\\sklearn\\cluster\\_kmeans.py:1429: UserWarning: KMeans is known to have a memory leak on Windows with MKL, when there are less chunks than available threads. You can avoid it by setting the environment variable OMP_NUM_THREADS=1.\n",
      "  warnings.warn(\n",
      "d:\\Anaconda3\\Lib\\site-packages\\sklearn\\cluster\\_kmeans.py:1429: UserWarning: KMeans is known to have a memory leak on Windows with MKL, when there are less chunks than available threads. You can avoid it by setting the environment variable OMP_NUM_THREADS=1.\n",
      "  warnings.warn(\n",
      "d:\\Anaconda3\\Lib\\site-packages\\sklearn\\cluster\\_kmeans.py:1429: UserWarning: KMeans is known to have a memory leak on Windows with MKL, when there are less chunks than available threads. You can avoid it by setting the environment variable OMP_NUM_THREADS=1.\n",
      "  warnings.warn(\n",
      "d:\\Anaconda3\\Lib\\site-packages\\sklearn\\cluster\\_kmeans.py:1429: UserWarning: KMeans is known to have a memory leak on Windows with MKL, when there are less chunks than available threads. You can avoid it by setting the environment variable OMP_NUM_THREADS=1.\n",
      "  warnings.warn(\n",
      "d:\\Anaconda3\\Lib\\site-packages\\sklearn\\cluster\\_kmeans.py:1429: UserWarning: KMeans is known to have a memory leak on Windows with MKL, when there are less chunks than available threads. You can avoid it by setting the environment variable OMP_NUM_THREADS=1.\n",
      "  warnings.warn(\n"
     ]
    }
   ],
   "source": [
    "silh =[]\n",
    "\"\"\"\n",
    "Calculate silhouette scores for a range of cluster numbers using KMeans.\n",
    "\n",
    "This script iterates over a range of cluster numbers (from 2 to 15), \n",
    "performs KMeans clustering for each number of clusters, and calculates \n",
    "the silhouette score for each clustering result. The silhouette scores \n",
    "are stored in the list `silh`.\n",
    "\n",
    "Variables:\n",
    "    silh (list): A list to store silhouette scores for each number of clusters.\n",
    "    k (int): The number of clusters for KMeans.\n",
    "    km (KMeans): The KMeans clustering model.\n",
    "    labels (ndarray): The cluster labels for each data point.\n",
    "    score (float): The silhouette score for the current clustering.\n",
    "\n",
    "Dependencies:\n",
    "    - sklearn.cluster.KMeans\n",
    "    - sklearn.metrics.silhouette_score\n",
    "\n",
    "Note:\n",
    "    The variable `x` should be defined before running this script. It represents \n",
    "    the data to be clustered.\n",
    "\"\"\"\n",
    "for k in range(2,16):\n",
    "    km = KMeans(n_clusters=k)\n",
    "    labels = km.fit_predict(x)\n",
    "    score = silhouette_score(x, labels)\n",
    "    silh.append(score)"
   ]
  },
  {
   "cell_type": "code",
   "execution_count": 20,
   "id": "cd698a4f",
   "metadata": {
    "execution": {
     "iopub.execute_input": "2022-11-14T18:02:06.169992Z",
     "iopub.status.busy": "2022-11-14T18:02:06.169208Z",
     "iopub.status.idle": "2022-11-14T18:02:06.180467Z",
     "shell.execute_reply": "2022-11-14T18:02:06.179305Z"
    },
    "papermill": {
     "duration": 0.041893,
     "end_time": "2022-11-14T18:02:06.183671",
     "exception": false,
     "start_time": "2022-11-14T18:02:06.141778",
     "status": "completed"
    },
    "tags": []
   },
   "outputs": [
    {
     "data": {
      "text/plain": [
       "'\\n'"
      ]
     },
     "execution_count": 20,
     "metadata": {},
     "output_type": "execute_result"
    }
   ],
   "source": [
    "silh\n",
    "\"\"\"\n",
    "\"\"\""
   ]
  },
  {
   "cell_type": "code",
   "execution_count": 21,
   "id": "3ba6e795",
   "metadata": {
    "execution": {
     "iopub.execute_input": "2022-11-14T18:02:06.224350Z",
     "iopub.status.busy": "2022-11-14T18:02:06.223855Z",
     "iopub.status.idle": "2022-11-14T18:02:06.441751Z",
     "shell.execute_reply": "2022-11-14T18:02:06.440608Z"
    },
    "papermill": {
     "duration": 0.233573,
     "end_time": "2022-11-14T18:02:06.444400",
     "exception": false,
     "start_time": "2022-11-14T18:02:06.210827",
     "status": "completed"
    },
    "tags": []
   },
   "outputs": [
    {
     "name": "stderr",
     "output_type": "stream",
     "text": [
      "d:\\Anaconda3\\Lib\\site-packages\\seaborn\\_oldcore.py:1119: FutureWarning: use_inf_as_na option is deprecated and will be removed in a future version. Convert inf values to NaN before operating instead.\n",
      "  with pd.option_context('mode.use_inf_as_na', True):\n",
      "d:\\Anaconda3\\Lib\\site-packages\\seaborn\\_oldcore.py:1119: FutureWarning: use_inf_as_na option is deprecated and will be removed in a future version. Convert inf values to NaN before operating instead.\n",
      "  with pd.option_context('mode.use_inf_as_na', True):\n"
     ]
    },
    {
     "data": {
      "text/plain": [
       "Text(0, 0.5, 'silh')"
      ]
     },
     "execution_count": 21,
     "metadata": {},
     "output_type": "execute_result"
    },
    {
     "data": {
      "image/png": "[encoded data removed]",
      "text/plain": [
       "<Figure size 640x480 with 1 Axes>"
      ]
     },
     "metadata": {},
     "output_type": "display_data"
    }
   ],
   "source": [
    "sns.lineplot(x=list(range(2, 16)), y=silh)\n",
    "\"\"\"\n",
    "This code snippet creates a line plot using seaborn's lineplot function.\n",
    "The x-axis represents the range of cluster numbers from 2 to 15.\n",
    "The y-axis represents the silhouette scores (silh) for each cluster number.\n",
    "The x-axis is labeled as 'Cluster' and the y-axis is labeled as 'silh'.\n",
    "\"\"\"\n",
    "plt.xlabel('Cluster')\n",
    "plt.ylabel('silh')"
   ]
  },
  {
   "cell_type": "markdown",
   "id": "838c4956",
   "metadata": {
    "papermill": {
     "duration": 0.010976,
     "end_time": "2022-11-14T18:02:06.466100",
     "exception": false,
     "start_time": "2022-11-14T18:02:06.455124",
     "status": "completed"
    },
    "tags": []
   },
   "source": [
    "same at 5th cluster we are getting highest silhouette_score,<br>\n",
    "this is efficient cluster"
   ]
  },
  {
   "cell_type": "code",
   "execution_count": 22,
   "id": "bc29c4e6",
   "metadata": {
    "execution": {
     "iopub.execute_input": "2022-11-14T18:02:06.490834Z",
     "iopub.status.busy": "2022-11-14T18:02:06.490332Z",
     "iopub.status.idle": "2022-11-14T18:02:06.690734Z",
     "shell.execute_reply": "2022-11-14T18:02:06.689464Z"
    },
    "papermill": {
     "duration": 0.216055,
     "end_time": "2022-11-14T18:02:06.693722",
     "exception": false,
     "start_time": "2022-11-14T18:02:06.477667",
     "status": "completed"
    },
    "tags": []
   },
   "outputs": [
    {
     "data": {
      "text/plain": [
       "\"\\nThis code creates a bar plot using the matplotlib library.\\n\\nThe x-axis values are generated using the range function, starting from 2 up to but not including 16, with a step of 1.\\nThe y-axis values are provided by the 'silh' variable.\\n\\nParameters:\\n- range(2, 16, 1): Generates a sequence of numbers from 2 to 15.\\n- silh: A list or array containing the heights of the bars.\\n\\nThe plt.bar function is used to create the bar plot.\\n\""
      ]
     },
     "execution_count": 22,
     "metadata": {},
     "output_type": "execute_result"
    },
    {
     "data": {
      "image/png": "[encoded data removed]",
      "text/plain": [
       "<Figure size 640x480 with 1 Axes>"
      ]
     },
     "metadata": {},
     "output_type": "display_data"
    }
   ],
   "source": [
    "plt.bar(range(2,16,1),silh)\n",
    "\"\"\"\n",
    "This code creates a bar plot using the matplotlib library.\n",
    "\n",
    "The x-axis values are generated using the range function, starting from 2 up to but not including 16, with a step of 1.\n",
    "The y-axis values are provided by the 'silh' variable.\n",
    "\n",
    "Parameters:\n",
    "- range(2, 16, 1): Generates a sequence of numbers from 2 to 15.\n",
    "- silh: A list or array containing the heights of the bars.\n",
    "\n",
    "The plt.bar function is used to create the bar plot.\n",
    "\"\"\""
   ]
  },
  {
   "cell_type": "code",
   "execution_count": 23,
   "id": "edd4664f",
   "metadata": {
    "execution": {
     "iopub.execute_input": "2022-11-14T18:02:06.719591Z",
     "iopub.status.busy": "2022-11-14T18:02:06.718168Z",
     "iopub.status.idle": "2022-11-14T18:02:06.724190Z",
     "shell.execute_reply": "2022-11-14T18:02:06.723264Z"
    },
    "papermill": {
     "duration": 0.021403,
     "end_time": "2022-11-14T18:02:06.726666",
     "exception": false,
     "start_time": "2022-11-14T18:02:06.705263",
     "status": "completed"
    },
    "tags": []
   },
   "outputs": [
    {
     "data": {
      "text/plain": [
       "'\\nThis code initializes a KMeans clustering algorithm with 5 clusters and a fixed random state for reproducibility.\\n\\nParameters:\\nn_clusters (int): The number of clusters to form as well as the number of centroids to generate.\\nrandom_state (int): Determines random number generation for centroid initialization. Use an int to make the randomness deterministic.\\n\\nReturns:\\nKMeans: A KMeans instance with the specified number of clusters and random state.\\n'"
      ]
     },
     "execution_count": 23,
     "metadata": {},
     "output_type": "execute_result"
    }
   ],
   "source": [
    "km = KMeans(n_clusters=5,random_state=1)\n",
    "\"\"\"\n",
    "This code initializes a KMeans clustering algorithm with 5 clusters and a fixed random state for reproducibility.\n",
    "\n",
    "Parameters:\n",
    "n_clusters (int): The number of clusters to form as well as the number of centroids to generate.\n",
    "random_state (int): Determines random number generation for centroid initialization. Use an int to make the randomness deterministic.\n",
    "\n",
    "Returns:\n",
    "KMeans: A KMeans instance with the specified number of clusters and random state.\n",
    "\"\"\""
   ]
  },
  {
   "cell_type": "code",
   "execution_count": 24,
   "id": "0fdedeca",
   "metadata": {
    "execution": {
     "iopub.execute_input": "2022-11-14T18:02:06.751983Z",
     "iopub.status.busy": "2022-11-14T18:02:06.751531Z",
     "iopub.status.idle": "2022-11-14T18:02:06.797047Z",
     "shell.execute_reply": "2022-11-14T18:02:06.795934Z"
    },
    "papermill": {
     "duration": 0.061741,
     "end_time": "2022-11-14T18:02:06.800158",
     "exception": false,
     "start_time": "2022-11-14T18:02:06.738417",
     "status": "completed"
    },
    "tags": []
   },
   "outputs": [
    {
     "name": "stderr",
     "output_type": "stream",
     "text": [
      "d:\\Anaconda3\\Lib\\site-packages\\sklearn\\cluster\\_kmeans.py:1429: UserWarning: KMeans is known to have a memory leak on Windows with MKL, when there are less chunks than available threads. You can avoid it by setting the environment variable OMP_NUM_THREADS=1.\n",
      "  warnings.warn(\n"
     ]
    },
    {
     "data": {
      "text/plain": [
       "'\\nFits the KMeans model to the data and predicts the cluster labels.\\n\\nParameters:\\nx : array-like or sparse matrix, shape (n_samples, n_features)\\n    The input data to cluster.\\n\\nReturns:\\nlabels : array, shape (n_samples,)\\n    Index of the cluster each sample belongs to.\\n'"
      ]
     },
     "execution_count": 24,
     "metadata": {},
     "output_type": "execute_result"
    }
   ],
   "source": [
    "labels = km.fit_predict(x)\n",
    "\"\"\"\n",
    "Fits the KMeans model to the data and predicts the cluster labels.\n",
    "\n",
    "Parameters:\n",
    "x : array-like or sparse matrix, shape (n_samples, n_features)\n",
    "    The input data to cluster.\n",
    "\n",
    "Returns:\n",
    "labels : array, shape (n_samples,)\n",
    "    Index of the cluster each sample belongs to.\n",
    "\"\"\""
   ]
  },
  {
   "cell_type": "code",
   "execution_count": 25,
   "id": "74a907f2",
   "metadata": {
    "execution": {
     "iopub.execute_input": "2022-11-14T18:02:06.830610Z",
     "iopub.status.busy": "2022-11-14T18:02:06.829759Z",
     "iopub.status.idle": "2022-11-14T18:02:06.838774Z",
     "shell.execute_reply": "2022-11-14T18:02:06.837668Z"
    },
    "papermill": {
     "duration": 0.025277,
     "end_time": "2022-11-14T18:02:06.841427",
     "exception": false,
     "start_time": "2022-11-14T18:02:06.816150",
     "status": "completed"
    },
    "tags": []
   },
   "outputs": [
    {
     "data": {
      "text/plain": [
       "'\\n\\nkm.labels_ : array, shape [n_samples,]\\n    Labels of each point\\n'"
      ]
     },
     "execution_count": 25,
     "metadata": {},
     "output_type": "execute_result"
    }
   ],
   "source": [
    "km.labels_\n",
    "\"\"\"\n",
    "\n",
    "km.labels_ : array, shape [n_samples,]\n",
    "    Labels of each point\n",
    "\"\"\""
   ]
  },
  {
   "cell_type": "code",
   "execution_count": 26,
   "id": "d321d475",
   "metadata": {
    "execution": {
     "iopub.execute_input": "2022-11-14T18:02:06.868133Z",
     "iopub.status.busy": "2022-11-14T18:02:06.866971Z",
     "iopub.status.idle": "2022-11-14T18:02:06.872635Z",
     "shell.execute_reply": "2022-11-14T18:02:06.871328Z"
    },
    "papermill": {
     "duration": 0.021768,
     "end_time": "2022-11-14T18:02:06.875225",
     "exception": false,
     "start_time": "2022-11-14T18:02:06.853457",
     "status": "completed"
    },
    "tags": []
   },
   "outputs": [
    {
     "data": {
      "text/plain": [
       "'\\nThis line assigns the cluster centers from the KMeans clustering algorithm to the variable `cent`.\\n\\nAttributes:\\n    cent (ndarray): A numpy array containing the coordinates of the cluster centers.\\n'"
      ]
     },
     "execution_count": 26,
     "metadata": {},
     "output_type": "execute_result"
    }
   ],
   "source": [
    "cent = km.cluster_centers_\n",
    "\"\"\"\n",
    "This line assigns the cluster centers from the KMeans clustering algorithm to the variable `cent`.\n",
    "\n",
    "Attributes:\n",
    "    cent (ndarray): A numpy array containing the coordinates of the cluster centers.\n",
    "\"\"\""
   ]
  },
  {
   "cell_type": "code",
   "execution_count": 27,
   "id": "d8b8d46a",
   "metadata": {
    "execution": {
     "iopub.execute_input": "2022-11-14T18:02:06.901369Z",
     "iopub.status.busy": "2022-11-14T18:02:06.900874Z",
     "iopub.status.idle": "2022-11-14T18:02:07.189657Z",
     "shell.execute_reply": "2022-11-14T18:02:07.187974Z"
    },
    "papermill": {
     "duration": 0.306572,
     "end_time": "2022-11-14T18:02:07.193890",
     "exception": false,
     "start_time": "2022-11-14T18:02:06.887318",
     "status": "completed"
    },
    "tags": []
   },
   "outputs": [
    {
     "data": {
      "text/plain": [
       "<Axes: title={'center': 'Clustered Data'}, xlabel='Annual Income (k$)', ylabel='Spending Score (1-100)'>"
      ]
     },
     "execution_count": 27,
     "metadata": {},
     "output_type": "execute_result"
    },
    {
     "data": {
      "image/png": "[encoded data removed]",
      "text/plain": [
       "<Figure size 640x480 with 1 Axes>"
      ]
     },
     "metadata": {},
     "output_type": "display_data"
    }
   ],
   "source": [
    "plt.title('Clustered Data')\n",
    "\"\"\"\n",
    "This code snippet visualizes clustered data using a scatter plot.\n",
    "\n",
    "- The first scatter plot displays data points with 'Annual Income (k$)' on the x-axis and 'Spending Score (1-100)' on the y-axis.\n",
    "    - The data points are colored based on their cluster labels using the 'viridis' palette.\n",
    "\n",
    "- The second scatter plot overlays the centroids of the clusters on the same plot.\n",
    "    - The centroids are represented as red points with a size of 200.\n",
    "\n",
    "The plot is titled 'Clustered Data'.\n",
    "\"\"\"\n",
    "sns.scatterplot(x=x['Annual Income (k$)'], y=x['Spending Score (1-100)'], hue=labels, palette='viridis')\n",
    "sns.scatterplot(x=cent[:,0], y=cent[:,1], s=200, color='red', label='Centroids')"
   ]
  },
  {
   "cell_type": "code",
   "execution_count": 28,
   "id": "e66f179b",
   "metadata": {
    "execution": {
     "iopub.execute_input": "2022-11-14T18:02:07.223477Z",
     "iopub.status.busy": "2022-11-14T18:02:07.222799Z",
     "iopub.status.idle": "2022-11-14T18:02:07.240184Z",
     "shell.execute_reply": "2022-11-14T18:02:07.238004Z"
    },
    "papermill": {
     "duration": 0.035237,
     "end_time": "2022-11-14T18:02:07.243179",
     "exception": false,
     "start_time": "2022-11-14T18:02:07.207942",
     "status": "completed"
    },
    "tags": []
   },
   "outputs": [
    {
     "data": {
      "text/html": [
       "<div>\n",
       "<style scoped>\n",
       "    .dataframe tbody tr th:only-of-type {\n",
       "        vertical-align: middle;\n",
       "    }\n",
       "\n",
       "    .dataframe tbody tr th {\n",
       "        vertical-align: top;\n",
       "    }\n",
       "\n",
       "    .dataframe thead th {\n",
       "        text-align: right;\n",
       "    }\n",
       "</style>\n",
       "<table border=\"1\" class=\"dataframe\">\n",
       "  <thead>\n",
       "    <tr style=\"text-align: right;\">\n",
       "      <th></th>\n",
       "      <th>CustomerID</th>\n",
       "      <th>Genre</th>\n",
       "      <th>Age</th>\n",
       "      <th>Annual Income (k$)</th>\n",
       "      <th>Spending Score (1-100)</th>\n",
       "    </tr>\n",
       "  </thead>\n",
       "  <tbody>\n",
       "    <tr>\n",
       "      <th>43</th>\n",
       "      <td>44</td>\n",
       "      <td>Female</td>\n",
       "      <td>31</td>\n",
       "      <td>39</td>\n",
       "      <td>61</td>\n",
       "    </tr>\n",
       "    <tr>\n",
       "      <th>46</th>\n",
       "      <td>47</td>\n",
       "      <td>Female</td>\n",
       "      <td>50</td>\n",
       "      <td>40</td>\n",
       "      <td>55</td>\n",
       "    </tr>\n",
       "    <tr>\n",
       "      <th>47</th>\n",
       "      <td>48</td>\n",
       "      <td>Female</td>\n",
       "      <td>27</td>\n",
       "      <td>40</td>\n",
       "      <td>47</td>\n",
       "    </tr>\n",
       "    <tr>\n",
       "      <th>48</th>\n",
       "      <td>49</td>\n",
       "      <td>Female</td>\n",
       "      <td>29</td>\n",
       "      <td>40</td>\n",
       "      <td>42</td>\n",
       "    </tr>\n",
       "    <tr>\n",
       "      <th>49</th>\n",
       "      <td>50</td>\n",
       "      <td>Female</td>\n",
       "      <td>31</td>\n",
       "      <td>40</td>\n",
       "      <td>42</td>\n",
       "    </tr>\n",
       "    <tr>\n",
       "      <th>...</th>\n",
       "      <td>...</td>\n",
       "      <td>...</td>\n",
       "      <td>...</td>\n",
       "      <td>...</td>\n",
       "      <td>...</td>\n",
       "    </tr>\n",
       "    <tr>\n",
       "      <th>121</th>\n",
       "      <td>122</td>\n",
       "      <td>Female</td>\n",
       "      <td>38</td>\n",
       "      <td>67</td>\n",
       "      <td>40</td>\n",
       "    </tr>\n",
       "    <tr>\n",
       "      <th>122</th>\n",
       "      <td>123</td>\n",
       "      <td>Female</td>\n",
       "      <td>40</td>\n",
       "      <td>69</td>\n",
       "      <td>58</td>\n",
       "    </tr>\n",
       "    <tr>\n",
       "      <th>126</th>\n",
       "      <td>127</td>\n",
       "      <td>Male</td>\n",
       "      <td>43</td>\n",
       "      <td>71</td>\n",
       "      <td>35</td>\n",
       "    </tr>\n",
       "    <tr>\n",
       "      <th>132</th>\n",
       "      <td>133</td>\n",
       "      <td>Female</td>\n",
       "      <td>25</td>\n",
       "      <td>72</td>\n",
       "      <td>34</td>\n",
       "    </tr>\n",
       "    <tr>\n",
       "      <th>142</th>\n",
       "      <td>143</td>\n",
       "      <td>Female</td>\n",
       "      <td>28</td>\n",
       "      <td>76</td>\n",
       "      <td>40</td>\n",
       "    </tr>\n",
       "  </tbody>\n",
       "</table>\n",
       "<p>81 rows × 5 columns</p>\n",
       "</div>"
      ],
      "text/plain": [
       "     CustomerID   Genre  Age  Annual Income (k$)  Spending Score (1-100)\n",
       "43           44  Female   31                  39                      61\n",
       "46           47  Female   50                  40                      55\n",
       "47           48  Female   27                  40                      47\n",
       "48           49  Female   29                  40                      42\n",
       "49           50  Female   31                  40                      42\n",
       "..          ...     ...  ...                 ...                     ...\n",
       "121         122  Female   38                  67                      40\n",
       "122         123  Female   40                  69                      58\n",
       "126         127    Male   43                  71                      35\n",
       "132         133  Female   25                  72                      34\n",
       "142         143  Female   28                  76                      40\n",
       "\n",
       "[81 rows x 5 columns]"
      ]
     },
     "execution_count": 28,
     "metadata": {},
     "output_type": "execute_result"
    }
   ],
   "source": [
    "df[labels==0]\n",
    "# This code filters the DataFrame 'df' to include only the rows where the corresponding \n",
    "# entries in the 'labels' array are equal to 0."
   ]
  },
  {
   "cell_type": "code",
   "execution_count": 29,
   "id": "7b8a487c",
   "metadata": {
    "execution": {
     "iopub.execute_input": "2022-11-14T18:02:07.273025Z",
     "iopub.status.busy": "2022-11-14T18:02:07.272596Z",
     "iopub.status.idle": "2022-11-14T18:02:07.277263Z",
     "shell.execute_reply": "2022-11-14T18:02:07.276277Z"
    },
    "papermill": {
     "duration": 0.022702,
     "end_time": "2022-11-14T18:02:07.279698",
     "exception": false,
     "start_time": "2022-11-14T18:02:07.256996",
     "status": "completed"
    },
    "tags": []
   },
   "outputs": [
    {
     "data": {
      "text/plain": [
       "'\\nPerform Agglomerative Clustering on the dataset.\\n\\nAgglomerative Clustering is a type of hierarchical clustering that builds nested clusters by \\nmerging or splitting them successively. This method is useful for identifying the underlying \\nstructure of the data.\\n\\nParameters:\\nn_clusters (int): The number of clusters to find. Default is 5.\\n\\nReturns:\\nAgglomerativeClustering object: The fitted clustering model.\\n'"
      ]
     },
     "execution_count": 29,
     "metadata": {},
     "output_type": "execute_result"
    }
   ],
   "source": [
    "agl = AgglomerativeClustering(n_clusters=5)\n",
    "\"\"\"\n",
    "Perform Agglomerative Clustering on the dataset.\n",
    "\n",
    "Agglomerative Clustering is a type of hierarchical clustering that builds nested clusters by \n",
    "merging or splitting them successively. This method is useful for identifying the underlying \n",
    "structure of the data.\n",
    "\n",
    "Parameters:\n",
    "n_clusters (int): The number of clusters to find. Default is 5.\n",
    "\n",
    "Returns:\n",
    "AgglomerativeClustering object: The fitted clustering model.\n",
    "\"\"\""
   ]
  },
  {
   "cell_type": "code",
   "execution_count": 30,
   "id": "5026b1c8",
   "metadata": {
    "execution": {
     "iopub.execute_input": "2022-11-14T18:02:07.309480Z",
     "iopub.status.busy": "2022-11-14T18:02:07.309046Z",
     "iopub.status.idle": "2022-11-14T18:02:07.318161Z",
     "shell.execute_reply": "2022-11-14T18:02:07.316706Z"
    },
    "papermill": {
     "duration": 0.027434,
     "end_time": "2022-11-14T18:02:07.321385",
     "exception": false,
     "start_time": "2022-11-14T18:02:07.293951",
     "status": "completed"
    },
    "tags": []
   },
   "outputs": [
    {
     "data": {
      "text/plain": [
       "'\\nThis code performs clustering on the dataset `x` using the Agglomerative Clustering algorithm.\\n\\nVariables:\\n    alabels (ndarray): The cluster labels assigned to each data point in `x`.\\n\\nFunctions:\\n    agl.fit_predict(x): Fits the Agglomerative Clustering model to the data `x` and returns the cluster labels.\\n'"
      ]
     },
     "execution_count": 30,
     "metadata": {},
     "output_type": "execute_result"
    }
   ],
   "source": [
    "alabels = agl.fit_predict(x)\n",
    "\"\"\"\n",
    "This code performs clustering on the dataset `x` using the Agglomerative Clustering algorithm.\n",
    "\n",
    "Variables:\n",
    "    alabels (ndarray): The cluster labels assigned to each data point in `x`.\n",
    "\n",
    "Functions:\n",
    "    agl.fit_predict(x): Fits the Agglomerative Clustering model to the data `x` and returns the cluster labels.\n",
    "\"\"\""
   ]
  },
  {
   "cell_type": "code",
   "execution_count": 31,
   "id": "1f6c012a",
   "metadata": {
    "execution": {
     "iopub.execute_input": "2022-11-14T18:02:07.350505Z",
     "iopub.status.busy": "2022-11-14T18:02:07.350026Z",
     "iopub.status.idle": "2022-11-14T18:02:07.359084Z",
     "shell.execute_reply": "2022-11-14T18:02:07.357553Z"
    },
    "papermill": {
     "duration": 0.027273,
     "end_time": "2022-11-14T18:02:07.362047",
     "exception": false,
     "start_time": "2022-11-14T18:02:07.334774",
     "status": "completed"
    },
    "tags": []
   },
   "outputs": [
    {
     "data": {
      "text/plain": [
       "'\\n\\nalabels: This variable is used to store the labels for a specific dataset or plot. \\nThe exact nature of the labels and their usage should be defined in the context of the code.\\n'"
      ]
     },
     "execution_count": 31,
     "metadata": {},
     "output_type": "execute_result"
    }
   ],
   "source": [
    "alabels\n",
    "\"\"\"\n",
    "\n",
    "alabels: This variable is used to store the labels for a specific dataset or plot. \n",
    "The exact nature of the labels and their usage should be defined in the context of the code.\n",
    "\"\"\""
   ]
  },
  {
   "cell_type": "code",
   "execution_count": 32,
   "id": "321afc29",
   "metadata": {
    "execution": {
     "iopub.execute_input": "2022-11-14T18:02:07.391427Z",
     "iopub.status.busy": "2022-11-14T18:02:07.390982Z",
     "iopub.status.idle": "2022-11-14T18:02:07.901349Z",
     "shell.execute_reply": "2022-11-14T18:02:07.900002Z"
    },
    "papermill": {
     "duration": 0.528358,
     "end_time": "2022-11-14T18:02:07.904349",
     "exception": false,
     "start_time": "2022-11-14T18:02:07.375991",
     "status": "completed"
    },
    "tags": []
   },
   "outputs": [
    {
     "data": {
      "text/plain": [
       "<Axes: title={'center': 'KMEANS'}, xlabel='Annual Income (k$)', ylabel='Spending Score (1-100)'>"
      ]
     },
     "execution_count": 32,
     "metadata": {},
     "output_type": "execute_result"
    },
    {
     "data": {
      "image/png": "[encoded data removed]",
      "text/plain": [
       "<Figure size 1600x900 with 2 Axes>"
      ]
     },
     "metadata": {},
     "output_type": "display_data"
    }
   ],
   "source": [
    "plt.figure(figsize=(16,9))\n",
    "\"\"\"\n",
    "This code generates a figure with two subplots comparing the results of Agglomerative Clustering and K-Means Clustering on a dataset.\n",
    "\n",
    "Subplots:\n",
    "1. Agglomerative Clustering:\n",
    "    - Plots a scatter plot of 'Annual Income (k$)' vs 'Spending Score (1-100)'.\n",
    "    - Colors the points based on the agglomerative clustering labels (`alabels`).\n",
    "\n",
    "2. K-Means Clustering:\n",
    "    - Plots a scatter plot of 'Annual Income (k$)' vs 'Spending Score (1-100)'.\n",
    "    - Colors the points based on the K-Means clustering labels (`labels`).\n",
    "    - Overlays the centroids of the clusters in red with a larger size (`s=200`).\n",
    "\n",
    "Parameters:\n",
    "- x: DataFrame containing the data with columns 'Annual Income (k$)' and 'Spending Score (1-100)'.\n",
    "- alabels: Array-like, cluster labels from Agglomerative Clustering.\n",
    "- labels: Array-like, cluster labels from K-Means Clustering.\n",
    "- cent: Array-like, coordinates of the centroids from K-Means Clustering.\n",
    "\"\"\"\n",
    "plt.subplot(1,2,1)\n",
    "plt.title('Agglomerative')\n",
    "sns.scatterplot(x=x['Annual Income (k$)'], y=x['Spending Score (1-100)'], hue=alabels)\n",
    "\n",
    "plt.subplot(1,2,2)\n",
    "plt.title('KMEANS')\n",
    "sns.scatterplot(x=x['Annual Income (k$)'], y=x['Spending Score (1-100)'], hue=labels)\n",
    "sns.scatterplot(x=cent[:,0], y=cent[:,1], s=200, color='red', label='Centroids')"
   ]
  }
 ],
 "metadata": {
  "kernelspec": {
   "display_name": "Python 3",
   "language": "python",
   "name": "python3"
  },
  "language_info": {
   "codemirror_mode": {
    "name": "ipython",
    "version": 3
   },
   "file_extension": ".py",
   "mimetype": "text/x-python",
   "name": "python",
   "nbconvert_exporter": "python",
   "pygments_lexer": "ipython3",
   "version": "3.11.7"
  },
  "papermill": {
   "default_parameters": {},
   "duration": 18.178348,
   "end_time": "2022-11-14T18:02:08.945617",
   "environment_variables": {},
   "exception": null,
   "input_path": "__notebook__.ipynb",
   "output_path": "__notebook__.ipynb",
   "parameters": {},
   "start_time": "2022-11-14T18:01:50.767269",
   "version": "2.3.4"
  }
 },
 "nbformat": 4,
 "nbformat_minor": 5
}
