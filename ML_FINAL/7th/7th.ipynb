{
 "cells": [
  {
   "cell_type": "markdown",
   "id": "fff891ca",
   "metadata": {
    "papermill": {
     "duration": 0.006754,
     "end_time": "2022-11-14T18:05:35.558371",
     "exception": false,
     "start_time": "2022-11-14T18:05:35.551617",
     "status": "completed"
    },
    "tags": []
   },
   "source": [
    "Hello this is @Ranjeet_Kumbhar,<br>\n",
    "Enjoy the Notebook<br>\n",
    "<br>\n",
    "GitHub:https://github.com/RanjeetKumbhar01/TE_IT_ML_ASSIGNMENTS_SPPU<br>\n",
    "\n",
    "# Question\n",
    "Assignment on Association Rule Learning<br>\n",
    "Download Market Basket Optimization dataset from below link.<br>\n",
    "Data Set: https://www.kaggle.com/hemanthkumar05/market-basket-optimization<br>\n",
    "This dataset comprises the list of transactions of a retail company over the period of one week. It<br>\n",
    "contains a total of 7501 transaction records where each record consists of the list of items sold in<br>\n",
    "one transaction. Using this record of transactions and items in each transaction, find the<br>\n",
    "association rules between items.<br>\n",
    "There is no header in the dataset and the first row contains the first transaction, so mentioned<br>\n",
    "header = None here while loading dataset.<br>\n",
    "a. Follow following steps:<br>\n",
    "b. Data Preprocessing<br>\n",
    "c. Generate the list of transactions from the dataset<br>\n",
    "d. Train Apriori algorithm on the dataset<br>\n",
    "e. Visualize the list of rules<br>\n",
    "F. Generated rules depend on the values of hyper parameters. By increasing the<br>\n",
    "minimum confidence value and find the rules accordingly<br>\n"
   ]
  },
  {
   "cell_type": "code",
   "execution_count": 6,
   "id": "cc897de7",
   "metadata": {
    "execution": {
     "iopub.execute_input": "2022-11-14T18:05:35.570425Z",
     "iopub.status.busy": "2022-11-14T18:05:35.569658Z",
     "iopub.status.idle": "2022-11-14T18:05:35.586585Z",
     "shell.execute_reply": "2022-11-14T18:05:35.585539Z"
    },
    "papermill": {
     "duration": 0.025665,
     "end_time": "2022-11-14T18:05:35.589107",
     "exception": false,
     "start_time": "2022-11-14T18:05:35.563442",
     "status": "completed"
    },
    "tags": []
   },
   "outputs": [],
   "source": [
    "# This Python 3 environment comes with many helpful analytics libraries installed\n",
    "\"\"\"\n",
    "This script is designed to run in a Kaggle notebook environment. It imports necessary libraries for data processing and linear algebra, \n",
    "specifically numpy and pandas. The script also includes functionality to list all files in the input directory of the Kaggle environment.\n",
    "\n",
    "Modules:\n",
    "    - numpy: Provides support for large multi-dimensional arrays and matrices, along with a collection of mathematical functions to operate on these arrays.\n",
    "    - pandas: Offers data structures and data analysis tools for handling structured data.\n",
    "\n",
    "Functions:\n",
    "    - os.walk: Generates the file names in a directory tree by walking either top-down or bottom-up.\n",
    "\n",
    "Usage:\n",
    "    - The script will print the paths of all files located in the '/kaggle/input' directory.\n",
    "    - You can write up to 20GB of data to the '/kaggle/working/' directory, which will be preserved as output when you create a version using \"Save & Run All\".\n",
    "    - Temporary files can be written to '/kaggle/temp/', but these files will not be saved outside of the current session.\n",
    "\"\"\"\n",
    "# It is defined by the kaggle/python Docker image: https://github.com/kaggle/docker-python\n",
    "# For example, here's several helpful packages to load\n",
    "\n",
    "import numpy as np # linear algebra\n",
    "import pandas as pd # data processing, CSV file I/O (e.g. pd.read_csv)\n",
    "\n",
    "# Input data files are available in the read-only \"../input/\" directory\n",
    "# For example, running this (by clicking run or pressing Shift+Enter) will list all files under the input directory\n",
    "\n",
    "import os\n",
    "for dirname, _, filenames in os.walk('/kaggle/input'):\n",
    "    for filename in filenames:\n",
    "        print(os.path.join(dirname, filename))\n",
    "\n",
    "# You can write up to 20GB to the current directory (/kaggle/working/) that gets preserved as output when you create a version using \"Save & Run All\" \n",
    "# You can also write temporary files to /kaggle/temp/, but they won't be saved outside of the current session"
   ]
  },
  {
   "cell_type": "code",
   "execution_count": 7,
   "id": "0260efc0",
   "metadata": {
    "execution": {
     "iopub.execute_input": "2022-11-14T18:05:35.601407Z",
     "iopub.status.busy": "2022-11-14T18:05:35.600686Z",
     "iopub.status.idle": "2022-11-14T18:05:48.439633Z",
     "shell.execute_reply": "2022-11-14T18:05:48.438023Z"
    },
    "papermill": {
     "duration": 12.848259,
     "end_time": "2022-11-14T18:05:48.442597",
     "exception": false,
     "start_time": "2022-11-14T18:05:35.594338",
     "status": "completed"
    },
    "tags": []
   },
   "outputs": [
    {
     "name": "stdout",
     "output_type": "stream",
     "text": [
      "Requirement already satisfied: mlxtend in c:\\users\\asus\\appdata\\local\\programs\\python\\python312\\lib\\site-packages (0.23.1)\n",
      "Requirement already satisfied: scipy>=1.2.1 in c:\\users\\asus\\appdata\\roaming\\python\\python312\\site-packages (from mlxtend) (1.13.0)\n",
      "Requirement already satisfied: numpy>=1.16.2 in c:\\users\\asus\\appdata\\roaming\\python\\python312\\site-packages (from mlxtend) (1.26.4)\n",
      "Requirement already satisfied: pandas>=0.24.2 in c:\\users\\asus\\appdata\\local\\programs\\python\\python312\\lib\\site-packages (from mlxtend) (2.2.0)\n",
      "Requirement already satisfied: scikit-learn>=1.0.2 in c:\\users\\asus\\appdata\\local\\programs\\python\\python312\\lib\\site-packages (from mlxtend) (1.5.1)\n",
      "Requirement already satisfied: matplotlib>=3.0.0 in c:\\users\\asus\\appdata\\local\\programs\\python\\python312\\lib\\site-packages (from mlxtend) (3.8.3)\n",
      "Requirement already satisfied: joblib>=0.13.2 in c:\\users\\asus\\appdata\\roaming\\python\\python312\\site-packages (from mlxtend) (1.4.0)\n",
      "Requirement already satisfied: contourpy>=1.0.1 in c:\\users\\asus\\appdata\\roaming\\python\\python312\\site-packages (from matplotlib>=3.0.0->mlxtend) (1.2.1)\n",
      "Requirement already satisfied: cycler>=0.10 in c:\\users\\asus\\appdata\\roaming\\python\\python312\\site-packages (from matplotlib>=3.0.0->mlxtend) (0.12.1)\n",
      "Requirement already satisfied: fonttools>=4.22.0 in c:\\users\\asus\\appdata\\roaming\\python\\python312\\site-packages (from matplotlib>=3.0.0->mlxtend) (4.51.0)\n",
      "Requirement already satisfied: kiwisolver>=1.3.1 in c:\\users\\asus\\appdata\\roaming\\python\\python312\\site-packages (from matplotlib>=3.0.0->mlxtend) (1.4.5)\n",
      "Requirement already satisfied: packaging>=20.0 in c:\\users\\asus\\appdata\\local\\programs\\python\\python312\\lib\\site-packages (from matplotlib>=3.0.0->mlxtend) (23.2)\n",
      "Requirement already satisfied: pillow>=8 in c:\\users\\asus\\appdata\\roaming\\python\\python312\\site-packages (from matplotlib>=3.0.0->mlxtend) (10.3.0)\n",
      "Requirement already satisfied: pyparsing>=2.3.1 in c:\\users\\asus\\appdata\\roaming\\python\\python312\\site-packages (from matplotlib>=3.0.0->mlxtend) (3.1.2)\n",
      "Requirement already satisfied: python-dateutil>=2.7 in c:\\users\\asus\\appdata\\roaming\\python\\python312\\site-packages (from matplotlib>=3.0.0->mlxtend) (2.9.0.post0)\n",
      "Requirement already satisfied: pytz>=2020.1 in c:\\users\\asus\\appdata\\roaming\\python\\python312\\site-packages (from pandas>=0.24.2->mlxtend) (2024.1)\n",
      "Requirement already satisfied: tzdata>=2022.7 in c:\\users\\asus\\appdata\\local\\programs\\python\\python312\\lib\\site-packages (from pandas>=0.24.2->mlxtend) (2024.1)\n",
      "Requirement already satisfied: threadpoolctl>=3.1.0 in c:\\users\\asus\\appdata\\roaming\\python\\python312\\site-packages (from scikit-learn>=1.0.2->mlxtend) (3.4.0)\n",
      "Requirement already satisfied: six>=1.5 in c:\\users\\asus\\appdata\\roaming\\python\\python312\\site-packages (from python-dateutil>=2.7->matplotlib>=3.0.0->mlxtend) (1.16.0)\n",
      "Note: you may need to restart the kernel to use updated packages.\n"
     ]
    },
    {
     "name": "stderr",
     "output_type": "stream",
     "text": [
      "\n",
      "[notice] A new release of pip is available: 24.2 -> 24.3.1\n",
      "[notice] To update, run: python.exe -m pip install --upgrade pip\n"
     ]
    },
    {
     "data": {
      "text/plain": [
       "\"\\nThis code installs the 'mlxtend' library using pip. \\n\\nThe 'mlxtend' library is a Python library that provides various data science and machine learning tools, including data preprocessing, feature selection, and various machine learning algorithms.\\n\\nNote: This code is intended to be run in a Jupyter Notebook environment, as indicated by the '%pip' magic command.\\n\""
      ]
     },
     "execution_count": 7,
     "metadata": {},
     "output_type": "execute_result"
    }
   ],
   "source": [
    "%pip install mlxtend\n",
    "\"\"\"\n",
    "This code installs the 'mlxtend' library using pip. \n",
    "\n",
    "The 'mlxtend' library is a Python library that provides various data science and machine learning tools, including data preprocessing, feature selection, and various machine learning algorithms.\n",
    "\n",
    "Note: This code is intended to be run in a Jupyter Notebook environment, as indicated by the '%pip' magic command.\n",
    "\"\"\""
   ]
  },
  {
   "cell_type": "code",
   "execution_count": 8,
   "id": "d8a38e80",
   "metadata": {
    "execution": {
     "iopub.execute_input": "2022-11-14T18:05:48.455904Z",
     "iopub.status.busy": "2022-11-14T18:05:48.455174Z",
     "iopub.status.idle": "2022-11-14T18:05:49.502847Z",
     "shell.execute_reply": "2022-11-14T18:05:49.501636Z"
    },
    "papermill": {
     "duration": 1.057482,
     "end_time": "2022-11-14T18:05:49.505732",
     "exception": false,
     "start_time": "2022-11-14T18:05:48.448250",
     "status": "completed"
    },
    "tags": []
   },
   "outputs": [],
   "source": [
    "import csv\n",
    "\"\"\"\n",
    "This script performs market basket analysis using the Apriori algorithm and association rule mining.\n",
    "\n",
    "Modules:\n",
    "    csv: Provides functionality to read from and write to CSV files.\n",
    "    TransactionEncoder: Part of the mlxtend.preprocessing module, used to transform lists of transactions into a one-hot encoded DataFrame.\n",
    "    apriori: Part of the mlxtend.frequent_patterns module, used to identify frequent itemsets in a dataset.\n",
    "    association_rules: Part of the mlxtend.frequent_patterns module, used to generate association rules from frequent itemsets.\n",
    "\"\"\"\n",
    "from mlxtend.preprocessing import TransactionEncoder\n",
    "from mlxtend.frequent_patterns import apriori, association_rules"
   ]
  },
  {
   "cell_type": "code",
   "execution_count": 9,
   "id": "21cdb070",
   "metadata": {
    "execution": {
     "iopub.execute_input": "2022-11-14T18:05:49.518945Z",
     "iopub.status.busy": "2022-11-14T18:05:49.518524Z",
     "iopub.status.idle": "2022-11-14T18:05:49.544181Z",
     "shell.execute_reply": "2022-11-14T18:05:49.542709Z"
    },
    "papermill": {
     "duration": 0.035997,
     "end_time": "2022-11-14T18:05:49.547196",
     "exception": false,
     "start_time": "2022-11-14T18:05:49.511199",
     "status": "completed"
    },
    "tags": []
   },
   "outputs": [],
   "source": [
    "data = []\n",
    "\"\"\"\n",
    "This script reads data from a CSV file and stores it in a list.\n",
    "\n",
    "The CSV file is expected to be located at:\n",
    "'C:/Users/Asus/Downloads/TYIT_23_sj/TYIT_23_sj/practical_7/Market_Basket_Optimisation.csv'\n",
    "\n",
    "The data is read using the csv.reader with a comma delimiter and each row is appended to the 'data' list.\n",
    "\n",
    "Variables:\n",
    "    data (list): A list to store the rows of the CSV file.\n",
    "\n",
    "Usage:\n",
    "    Simply run the script to read the CSV file and store its contents in the 'data' list.\n",
    "\"\"\"\n",
    "with open(r'C:/Users/Asus/Downloads/TYIT_23_sj/TYIT_23_sj/practical_7/Market_Basket_Optimisation.csv') as file:\n",
    "    reader = csv.reader(file, delimiter=',')\n",
    "    for row in reader:\n",
    "        data += [row]"
   ]
  },
  {
   "cell_type": "code",
   "execution_count": 10,
   "id": "2760ca7d",
   "metadata": {
    "execution": {
     "iopub.execute_input": "2022-11-14T18:05:49.560555Z",
     "iopub.status.busy": "2022-11-14T18:05:49.560101Z",
     "iopub.status.idle": "2022-11-14T18:05:49.569925Z",
     "shell.execute_reply": "2022-11-14T18:05:49.568715Z"
    },
    "papermill": {
     "duration": 0.019999,
     "end_time": "2022-11-14T18:05:49.572701",
     "exception": false,
     "start_time": "2022-11-14T18:05:49.552702",
     "status": "completed"
    },
    "tags": []
   },
   "outputs": [
    {
     "data": {
      "text/plain": [
       "\"\\n\\nThis code snippet selects a sublist from the 'data' list, starting from the second element (index 1) up to, but not including, the tenth element (index 10).\\n\""
      ]
     },
     "execution_count": 10,
     "metadata": {},
     "output_type": "execute_result"
    }
   ],
   "source": [
    "data[1:10] #list of list\n",
    "\"\"\"\n",
    "\n",
    "This code snippet selects a sublist from the 'data' list, starting from the second element (index 1) up to, but not including, the tenth element (index 10).\n",
    "\"\"\""
   ]
  },
  {
   "cell_type": "code",
   "execution_count": 11,
   "id": "9f54b6d8",
   "metadata": {
    "execution": {
     "iopub.execute_input": "2022-11-14T18:05:49.586145Z",
     "iopub.status.busy": "2022-11-14T18:05:49.585342Z",
     "iopub.status.idle": "2022-11-14T18:05:49.592624Z",
     "shell.execute_reply": "2022-11-14T18:05:49.591411Z"
    },
    "papermill": {
     "duration": 0.016881,
     "end_time": "2022-11-14T18:05:49.594930",
     "exception": false,
     "start_time": "2022-11-14T18:05:49.578049",
     "status": "completed"
    },
    "tags": []
   },
   "outputs": [
    {
     "data": {
      "text/plain": [
       "'\\nCalculate the length of the data.\\n\\nReturns:\\n    int: The number of items in the data.\\n'"
      ]
     },
     "execution_count": 11,
     "metadata": {},
     "output_type": "execute_result"
    }
   ],
   "source": [
    "len(data)\n",
    "\"\"\"\n",
    "Calculate the length of the data.\n",
    "\n",
    "Returns:\n",
    "    int: The number of items in the data.\n",
    "\"\"\""
   ]
  },
  {
   "cell_type": "code",
   "execution_count": 12,
   "id": "9ea93930",
   "metadata": {
    "execution": {
     "iopub.execute_input": "2022-11-14T18:05:49.608921Z",
     "iopub.status.busy": "2022-11-14T18:05:49.608121Z",
     "iopub.status.idle": "2022-11-14T18:05:49.629143Z",
     "shell.execute_reply": "2022-11-14T18:05:49.628123Z"
    },
    "papermill": {
     "duration": 0.031349,
     "end_time": "2022-11-14T18:05:49.631880",
     "exception": false,
     "start_time": "2022-11-14T18:05:49.600531",
     "status": "completed"
    },
    "tags": []
   },
   "outputs": [],
   "source": [
    "te = TransactionEncoder()\n",
    "\"\"\"\n",
    "This code snippet performs the following operations:\n",
    "1. Initializes a `TransactionEncoder` object.\n",
    "2. Fits the `TransactionEncoder` to the input data and transforms it.\n",
    "\n",
    "Variables:\n",
    "- te: An instance of the `TransactionEncoder` class.\n",
    "- x: The transformed data after fitting the `TransactionEncoder` to the input data.\n",
    "\n",
    "Note:\n",
    "- Ensure that the `data` variable is defined and contains the dataset to be transformed.\n",
    "\"\"\"\n",
    "x = te.fit_transform(data)"
   ]
  },
  {
   "cell_type": "code",
   "execution_count": 13,
   "id": "f6531c93",
   "metadata": {
    "execution": {
     "iopub.execute_input": "2022-11-14T18:05:49.645612Z",
     "iopub.status.busy": "2022-11-14T18:05:49.645176Z",
     "iopub.status.idle": "2022-11-14T18:05:49.652804Z",
     "shell.execute_reply": "2022-11-14T18:05:49.651662Z"
    },
    "papermill": {
     "duration": 0.017719,
     "end_time": "2022-11-14T18:05:49.655227",
     "exception": false,
     "start_time": "2022-11-14T18:05:49.637508",
     "status": "completed"
    },
    "tags": []
   },
   "outputs": [
    {
     "data": {
      "text/plain": [
       "'\\nThis code snippet appears to be part of a Jupyter Notebook file located at:\\nc:/Users/Asus/Downloads/TYIT_23_sj/TYIT_23_sj/practical_7/practical_7.ipynb\\n\\nThe variable `x` is referenced, but its definition or usage is not provided in the selection.\\n'"
      ]
     },
     "execution_count": 13,
     "metadata": {},
     "output_type": "execute_result"
    }
   ],
   "source": [
    "x\n",
    "\"\"\"\n",
    "This code snippet appears to be part of a Jupyter Notebook file located at:\n",
    "c:/Users/Asus/Downloads/TYIT_23_sj/TYIT_23_sj/practical_7/practical_7.ipynb\n",
    "\n",
    "The variable `x` is referenced, but its definition or usage is not provided in the selection.\n",
    "\"\"\""
   ]
  },
  {
   "cell_type": "code",
   "execution_count": 14,
   "id": "0bce381d",
   "metadata": {
    "execution": {
     "iopub.execute_input": "2022-11-14T18:05:49.668637Z",
     "iopub.status.busy": "2022-11-14T18:05:49.668231Z",
     "iopub.status.idle": "2022-11-14T18:05:49.677504Z",
     "shell.execute_reply": "2022-11-14T18:05:49.676448Z"
    },
    "papermill": {
     "duration": 0.018923,
     "end_time": "2022-11-14T18:05:49.679812",
     "exception": false,
     "start_time": "2022-11-14T18:05:49.660889",
     "status": "completed"
    },
    "tags": []
   },
   "outputs": [
    {
     "data": {
      "text/plain": [
       "'\\nThis code snippet accesses the columns attribute of the DataFrame object `te`.\\n\\nAttributes:\\n    te (DataFrame): The DataFrame whose columns are being accessed.\\n\\nReturns:\\n    Index: The column labels of the DataFrame.\\n'"
      ]
     },
     "execution_count": 14,
     "metadata": {},
     "output_type": "execute_result"
    }
   ],
   "source": [
    "te.columns_\n",
    "\"\"\"\n",
    "This code snippet accesses the columns attribute of the DataFrame object `te`.\n",
    "\n",
    "Attributes:\n",
    "    te (DataFrame): The DataFrame whose columns are being accessed.\n",
    "\n",
    "Returns:\n",
    "    Index: The column labels of the DataFrame.\n",
    "\"\"\""
   ]
  },
  {
   "cell_type": "code",
   "execution_count": 15,
   "id": "9e10b1c0",
   "metadata": {
    "execution": {
     "iopub.execute_input": "2022-11-14T18:05:49.694018Z",
     "iopub.status.busy": "2022-11-14T18:05:49.693585Z",
     "iopub.status.idle": "2022-11-14T18:05:49.701739Z",
     "shell.execute_reply": "2022-11-14T18:05:49.700627Z"
    },
    "papermill": {
     "duration": 0.018651,
     "end_time": "2022-11-14T18:05:49.704377",
     "exception": false,
     "start_time": "2022-11-14T18:05:49.685726",
     "status": "completed"
    },
    "tags": []
   },
   "outputs": [
    {
     "data": {
      "text/plain": [
       "'\\nCreates a DataFrame using the provided data and column names.\\n\\nParameters:\\n    x (array-like): The data to be used for creating the DataFrame.\\n    te.columns_ (list): The column names for the DataFrame.\\n\\nReturns:\\n    DataFrame: A pandas DataFrame with the specified data and columns.\\n'"
      ]
     },
     "execution_count": 15,
     "metadata": {},
     "output_type": "execute_result"
    }
   ],
   "source": [
    "df = pd.DataFrame(x, columns=te.columns_)\n",
    "\"\"\"\n",
    "Creates a DataFrame using the provided data and column names.\n",
    "\n",
    "Parameters:\n",
    "    x (array-like): The data to be used for creating the DataFrame.\n",
    "    te.columns_ (list): The column names for the DataFrame.\n",
    "\n",
    "Returns:\n",
    "    DataFrame: A pandas DataFrame with the specified data and columns.\n",
    "\"\"\""
   ]
  },
  {
   "cell_type": "code",
   "execution_count": 16,
   "id": "cb62ea4d",
   "metadata": {
    "execution": {
     "iopub.execute_input": "2022-11-14T18:05:49.719127Z",
     "iopub.status.busy": "2022-11-14T18:05:49.718709Z",
     "iopub.status.idle": "2022-11-14T18:05:49.757859Z",
     "shell.execute_reply": "2022-11-14T18:05:49.756765Z"
    },
    "papermill": {
     "duration": 0.048912,
     "end_time": "2022-11-14T18:05:49.760179",
     "exception": false,
     "start_time": "2022-11-14T18:05:49.711267",
     "status": "completed"
    },
    "tags": []
   },
   "outputs": [
    {
     "data": {
      "text/html": [
       "<div>\n",
       "<style scoped>\n",
       "    .dataframe tbody tr th:only-of-type {\n",
       "        vertical-align: middle;\n",
       "    }\n",
       "\n",
       "    .dataframe tbody tr th {\n",
       "        vertical-align: top;\n",
       "    }\n",
       "\n",
       "    .dataframe thead th {\n",
       "        text-align: right;\n",
       "    }\n",
       "</style>\n",
       "<table border=\"1\" class=\"dataframe\">\n",
       "  <thead>\n",
       "    <tr style=\"text-align: right;\">\n",
       "      <th></th>\n",
       "      <th>asparagus</th>\n",
       "      <th>almonds</th>\n",
       "      <th>antioxydant juice</th>\n",
       "      <th>asparagus</th>\n",
       "      <th>avocado</th>\n",
       "      <th>babies food</th>\n",
       "      <th>bacon</th>\n",
       "      <th>barbecue sauce</th>\n",
       "      <th>black tea</th>\n",
       "      <th>blueberries</th>\n",
       "      <th>...</th>\n",
       "      <th>turkey</th>\n",
       "      <th>vegetables mix</th>\n",
       "      <th>water spray</th>\n",
       "      <th>white wine</th>\n",
       "      <th>whole weat flour</th>\n",
       "      <th>whole wheat pasta</th>\n",
       "      <th>whole wheat rice</th>\n",
       "      <th>yams</th>\n",
       "      <th>yogurt cake</th>\n",
       "      <th>zucchini</th>\n",
       "    </tr>\n",
       "  </thead>\n",
       "  <tbody>\n",
       "    <tr>\n",
       "      <th>0</th>\n",
       "      <td>False</td>\n",
       "      <td>True</td>\n",
       "      <td>True</td>\n",
       "      <td>False</td>\n",
       "      <td>True</td>\n",
       "      <td>False</td>\n",
       "      <td>False</td>\n",
       "      <td>False</td>\n",
       "      <td>False</td>\n",
       "      <td>False</td>\n",
       "      <td>...</td>\n",
       "      <td>False</td>\n",
       "      <td>True</td>\n",
       "      <td>False</td>\n",
       "      <td>False</td>\n",
       "      <td>True</td>\n",
       "      <td>False</td>\n",
       "      <td>False</td>\n",
       "      <td>True</td>\n",
       "      <td>False</td>\n",
       "      <td>False</td>\n",
       "    </tr>\n",
       "    <tr>\n",
       "      <th>1</th>\n",
       "      <td>False</td>\n",
       "      <td>False</td>\n",
       "      <td>False</td>\n",
       "      <td>False</td>\n",
       "      <td>False</td>\n",
       "      <td>False</td>\n",
       "      <td>False</td>\n",
       "      <td>False</td>\n",
       "      <td>False</td>\n",
       "      <td>False</td>\n",
       "      <td>...</td>\n",
       "      <td>False</td>\n",
       "      <td>False</td>\n",
       "      <td>False</td>\n",
       "      <td>False</td>\n",
       "      <td>False</td>\n",
       "      <td>False</td>\n",
       "      <td>False</td>\n",
       "      <td>False</td>\n",
       "      <td>False</td>\n",
       "      <td>False</td>\n",
       "    </tr>\n",
       "    <tr>\n",
       "      <th>2</th>\n",
       "      <td>False</td>\n",
       "      <td>False</td>\n",
       "      <td>False</td>\n",
       "      <td>False</td>\n",
       "      <td>False</td>\n",
       "      <td>False</td>\n",
       "      <td>False</td>\n",
       "      <td>False</td>\n",
       "      <td>False</td>\n",
       "      <td>False</td>\n",
       "      <td>...</td>\n",
       "      <td>False</td>\n",
       "      <td>False</td>\n",
       "      <td>False</td>\n",
       "      <td>False</td>\n",
       "      <td>False</td>\n",
       "      <td>False</td>\n",
       "      <td>False</td>\n",
       "      <td>False</td>\n",
       "      <td>False</td>\n",
       "      <td>False</td>\n",
       "    </tr>\n",
       "    <tr>\n",
       "      <th>3</th>\n",
       "      <td>False</td>\n",
       "      <td>False</td>\n",
       "      <td>False</td>\n",
       "      <td>False</td>\n",
       "      <td>True</td>\n",
       "      <td>False</td>\n",
       "      <td>False</td>\n",
       "      <td>False</td>\n",
       "      <td>False</td>\n",
       "      <td>False</td>\n",
       "      <td>...</td>\n",
       "      <td>True</td>\n",
       "      <td>False</td>\n",
       "      <td>False</td>\n",
       "      <td>False</td>\n",
       "      <td>False</td>\n",
       "      <td>False</td>\n",
       "      <td>False</td>\n",
       "      <td>False</td>\n",
       "      <td>False</td>\n",
       "      <td>False</td>\n",
       "    </tr>\n",
       "    <tr>\n",
       "      <th>4</th>\n",
       "      <td>False</td>\n",
       "      <td>False</td>\n",
       "      <td>False</td>\n",
       "      <td>False</td>\n",
       "      <td>False</td>\n",
       "      <td>False</td>\n",
       "      <td>False</td>\n",
       "      <td>False</td>\n",
       "      <td>False</td>\n",
       "      <td>False</td>\n",
       "      <td>...</td>\n",
       "      <td>False</td>\n",
       "      <td>False</td>\n",
       "      <td>False</td>\n",
       "      <td>False</td>\n",
       "      <td>False</td>\n",
       "      <td>False</td>\n",
       "      <td>True</td>\n",
       "      <td>False</td>\n",
       "      <td>False</td>\n",
       "      <td>False</td>\n",
       "    </tr>\n",
       "    <tr>\n",
       "      <th>...</th>\n",
       "      <td>...</td>\n",
       "      <td>...</td>\n",
       "      <td>...</td>\n",
       "      <td>...</td>\n",
       "      <td>...</td>\n",
       "      <td>...</td>\n",
       "      <td>...</td>\n",
       "      <td>...</td>\n",
       "      <td>...</td>\n",
       "      <td>...</td>\n",
       "      <td>...</td>\n",
       "      <td>...</td>\n",
       "      <td>...</td>\n",
       "      <td>...</td>\n",
       "      <td>...</td>\n",
       "      <td>...</td>\n",
       "      <td>...</td>\n",
       "      <td>...</td>\n",
       "      <td>...</td>\n",
       "      <td>...</td>\n",
       "      <td>...</td>\n",
       "    </tr>\n",
       "    <tr>\n",
       "      <th>7496</th>\n",
       "      <td>False</td>\n",
       "      <td>False</td>\n",
       "      <td>False</td>\n",
       "      <td>False</td>\n",
       "      <td>False</td>\n",
       "      <td>False</td>\n",
       "      <td>False</td>\n",
       "      <td>False</td>\n",
       "      <td>False</td>\n",
       "      <td>False</td>\n",
       "      <td>...</td>\n",
       "      <td>False</td>\n",
       "      <td>False</td>\n",
       "      <td>False</td>\n",
       "      <td>False</td>\n",
       "      <td>False</td>\n",
       "      <td>False</td>\n",
       "      <td>False</td>\n",
       "      <td>False</td>\n",
       "      <td>False</td>\n",
       "      <td>False</td>\n",
       "    </tr>\n",
       "    <tr>\n",
       "      <th>7497</th>\n",
       "      <td>False</td>\n",
       "      <td>False</td>\n",
       "      <td>False</td>\n",
       "      <td>False</td>\n",
       "      <td>False</td>\n",
       "      <td>False</td>\n",
       "      <td>False</td>\n",
       "      <td>False</td>\n",
       "      <td>False</td>\n",
       "      <td>False</td>\n",
       "      <td>...</td>\n",
       "      <td>False</td>\n",
       "      <td>False</td>\n",
       "      <td>False</td>\n",
       "      <td>False</td>\n",
       "      <td>False</td>\n",
       "      <td>False</td>\n",
       "      <td>False</td>\n",
       "      <td>False</td>\n",
       "      <td>False</td>\n",
       "      <td>False</td>\n",
       "    </tr>\n",
       "    <tr>\n",
       "      <th>7498</th>\n",
       "      <td>False</td>\n",
       "      <td>False</td>\n",
       "      <td>False</td>\n",
       "      <td>False</td>\n",
       "      <td>False</td>\n",
       "      <td>False</td>\n",
       "      <td>False</td>\n",
       "      <td>False</td>\n",
       "      <td>False</td>\n",
       "      <td>False</td>\n",
       "      <td>...</td>\n",
       "      <td>False</td>\n",
       "      <td>False</td>\n",
       "      <td>False</td>\n",
       "      <td>False</td>\n",
       "      <td>False</td>\n",
       "      <td>False</td>\n",
       "      <td>False</td>\n",
       "      <td>False</td>\n",
       "      <td>False</td>\n",
       "      <td>False</td>\n",
       "    </tr>\n",
       "    <tr>\n",
       "      <th>7499</th>\n",
       "      <td>False</td>\n",
       "      <td>False</td>\n",
       "      <td>False</td>\n",
       "      <td>False</td>\n",
       "      <td>False</td>\n",
       "      <td>False</td>\n",
       "      <td>False</td>\n",
       "      <td>False</td>\n",
       "      <td>False</td>\n",
       "      <td>False</td>\n",
       "      <td>...</td>\n",
       "      <td>False</td>\n",
       "      <td>False</td>\n",
       "      <td>False</td>\n",
       "      <td>False</td>\n",
       "      <td>False</td>\n",
       "      <td>False</td>\n",
       "      <td>False</td>\n",
       "      <td>False</td>\n",
       "      <td>False</td>\n",
       "      <td>False</td>\n",
       "    </tr>\n",
       "    <tr>\n",
       "      <th>7500</th>\n",
       "      <td>False</td>\n",
       "      <td>False</td>\n",
       "      <td>False</td>\n",
       "      <td>False</td>\n",
       "      <td>False</td>\n",
       "      <td>False</td>\n",
       "      <td>False</td>\n",
       "      <td>False</td>\n",
       "      <td>False</td>\n",
       "      <td>False</td>\n",
       "      <td>...</td>\n",
       "      <td>False</td>\n",
       "      <td>False</td>\n",
       "      <td>False</td>\n",
       "      <td>False</td>\n",
       "      <td>False</td>\n",
       "      <td>False</td>\n",
       "      <td>False</td>\n",
       "      <td>False</td>\n",
       "      <td>True</td>\n",
       "      <td>False</td>\n",
       "    </tr>\n",
       "  </tbody>\n",
       "</table>\n",
       "<p>7501 rows × 120 columns</p>\n",
       "</div>"
      ],
      "text/plain": [
       "       asparagus  almonds  antioxydant juice  asparagus  avocado  babies food  \\\n",
       "0          False     True               True      False     True        False   \n",
       "1          False    False              False      False    False        False   \n",
       "2          False    False              False      False    False        False   \n",
       "3          False    False              False      False     True        False   \n",
       "4          False    False              False      False    False        False   \n",
       "...          ...      ...                ...        ...      ...          ...   \n",
       "7496       False    False              False      False    False        False   \n",
       "7497       False    False              False      False    False        False   \n",
       "7498       False    False              False      False    False        False   \n",
       "7499       False    False              False      False    False        False   \n",
       "7500       False    False              False      False    False        False   \n",
       "\n",
       "      bacon  barbecue sauce  black tea  blueberries  ...  turkey  \\\n",
       "0     False           False      False        False  ...   False   \n",
       "1     False           False      False        False  ...   False   \n",
       "2     False           False      False        False  ...   False   \n",
       "3     False           False      False        False  ...    True   \n",
       "4     False           False      False        False  ...   False   \n",
       "...     ...             ...        ...          ...  ...     ...   \n",
       "7496  False           False      False        False  ...   False   \n",
       "7497  False           False      False        False  ...   False   \n",
       "7498  False           False      False        False  ...   False   \n",
       "7499  False           False      False        False  ...   False   \n",
       "7500  False           False      False        False  ...   False   \n",
       "\n",
       "      vegetables mix  water spray  white wine  whole weat flour  \\\n",
       "0               True        False       False              True   \n",
       "1              False        False       False             False   \n",
       "2              False        False       False             False   \n",
       "3              False        False       False             False   \n",
       "4              False        False       False             False   \n",
       "...              ...          ...         ...               ...   \n",
       "7496           False        False       False             False   \n",
       "7497           False        False       False             False   \n",
       "7498           False        False       False             False   \n",
       "7499           False        False       False             False   \n",
       "7500           False        False       False             False   \n",
       "\n",
       "      whole wheat pasta  whole wheat rice   yams  yogurt cake  zucchini  \n",
       "0                 False             False   True        False     False  \n",
       "1                 False             False  False        False     False  \n",
       "2                 False             False  False        False     False  \n",
       "3                 False             False  False        False     False  \n",
       "4                 False              True  False        False     False  \n",
       "...                 ...               ...    ...          ...       ...  \n",
       "7496              False             False  False        False     False  \n",
       "7497              False             False  False        False     False  \n",
       "7498              False             False  False        False     False  \n",
       "7499              False             False  False        False     False  \n",
       "7500              False             False  False         True     False  \n",
       "\n",
       "[7501 rows x 120 columns]"
      ]
     },
     "execution_count": 16,
     "metadata": {},
     "output_type": "execute_result"
    }
   ],
   "source": [
    "df"
   ]
  },
  {
   "cell_type": "code",
   "execution_count": 17,
   "id": "25e5421e",
   "metadata": {
    "execution": {
     "iopub.execute_input": "2022-11-14T18:05:49.775545Z",
     "iopub.status.busy": "2022-11-14T18:05:49.774982Z",
     "iopub.status.idle": "2022-11-14T18:05:50.037837Z",
     "shell.execute_reply": "2022-11-14T18:05:50.036395Z"
    },
    "papermill": {
     "duration": 0.273925,
     "end_time": "2022-11-14T18:05:50.040836",
     "exception": false,
     "start_time": "2022-11-14T18:05:49.766911",
     "status": "completed"
    },
    "scrolled": true,
    "tags": []
   },
   "outputs": [],
   "source": [
    "# Finding frequent itemsets\n",
    "\"\"\"\n",
    "This code snippet finds frequent itemsets in a given DataFrame using the Apriori algorithm.\n",
    "\n",
    "Parameters:\n",
    "df (DataFrame): The input DataFrame containing the dataset.\n",
    "min_support (float): The minimum support threshold for the Apriori algorithm. Default is 0.01.\n",
    "use_colnames (bool): If True, uses the column names in the output. Default is True.\n",
    "\n",
    "Returns:\n",
    "DataFrame: A DataFrame containing the frequent itemsets found by the Apriori algorithm.\n",
    "\"\"\"\n",
    "freq_itemset = apriori(df, min_support=0.01, use_colnames=True)"
   ]
  },
  {
   "cell_type": "markdown",
   "id": "06a1be33",
   "metadata": {
    "papermill": {
     "duration": 0.007232,
     "end_time": "2022-11-14T18:05:50.054789",
     "exception": false,
     "start_time": "2022-11-14T18:05:50.047557",
     "status": "completed"
    },
    "tags": []
   },
   "source": [
    "0.01 means 1% of data size(7501) is 75. so single item should come atleast 75 times then take those items in freq_itemset"
   ]
  },
  {
   "cell_type": "code",
   "execution_count": 18,
   "id": "da7a6b63",
   "metadata": {
    "execution": {
     "iopub.execute_input": "2022-11-14T18:05:50.069475Z",
     "iopub.status.busy": "2022-11-14T18:05:50.069049Z",
     "iopub.status.idle": "2022-11-14T18:05:50.086652Z",
     "shell.execute_reply": "2022-11-14T18:05:50.085297Z"
    },
    "papermill": {
     "duration": 0.028146,
     "end_time": "2022-11-14T18:05:50.089295",
     "exception": false,
     "start_time": "2022-11-14T18:05:50.061149",
     "status": "completed"
    },
    "tags": []
   },
   "outputs": [
    {
     "data": {
      "text/plain": [
       "\"\\nThis variable `freq_itemset` is used to store the frequent itemsets generated \\nfrom a dataset. Frequent itemsets are groups of items that appear together \\nfrequently in a dataset. This is typically used in association rule mining \\nand market basket analysis to identify patterns and relationships between items.\\n\\nAttributes:\\n    freq_itemset (DataFrame): A pandas DataFrame containing the frequent itemsets \\n    and their corresponding support values. The DataFrame usually has columns \\n    such as 'itemsets' and 'support'.\\n\\nExample:\\n    >>> freq_itemset\\n    itemsets          support\\n    {milk, bread}     0.5\\n    {bread, butter}   0.3\\n\""
      ]
     },
     "execution_count": 18,
     "metadata": {},
     "output_type": "execute_result"
    }
   ],
   "source": [
    "freq_itemset\n",
    "\"\"\"\n",
    "This variable `freq_itemset` is used to store the frequent itemsets generated \n",
    "from a dataset. Frequent itemsets are groups of items that appear together \n",
    "frequently in a dataset. This is typically used in association rule mining \n",
    "and market basket analysis to identify patterns and relationships between items.\n",
    "\n",
    "Attributes:\n",
    "    freq_itemset (DataFrame): A pandas DataFrame containing the frequent itemsets \n",
    "    and their corresponding support values. The DataFrame usually has columns \n",
    "    such as 'itemsets' and 'support'.\n",
    "\n",
    "Example:\n",
    "    >>> freq_itemset\n",
    "    itemsets          support\n",
    "    {milk, bread}     0.5\n",
    "    {bread, butter}   0.3\n",
    "\"\"\""
   ]
  },
  {
   "cell_type": "code",
   "execution_count": 19,
   "id": "6ca691f1",
   "metadata": {
    "execution": {
     "iopub.execute_input": "2022-11-14T18:05:50.104795Z",
     "iopub.status.busy": "2022-11-14T18:05:50.104403Z",
     "iopub.status.idle": "2022-11-14T18:05:50.116602Z",
     "shell.execute_reply": "2022-11-14T18:05:50.115579Z"
    },
    "papermill": {
     "duration": 0.022905,
     "end_time": "2022-11-14T18:05:50.119012",
     "exception": false,
     "start_time": "2022-11-14T18:05:50.096107",
     "status": "completed"
    },
    "tags": []
   },
   "outputs": [],
   "source": [
    "#Find the rules\n",
    "\"\"\"\n",
    "Find the association rules from the frequent itemsets.\n",
    "\n",
    "Parameters:\n",
    "freq_itemset (DataFrame): A DataFrame containing the frequent itemsets.\n",
    "metric (str): The metric to evaluate if a rule is of interest. Default is 'confidence'.\n",
    "min_threshold (float): The minimum threshold for the metric to decide if a rule is of interest. Default is 0.10.\n",
    "\n",
    "Returns:\n",
    "DataFrame: A DataFrame containing the association rules that meet the specified criteria.\n",
    "\"\"\"\n",
    "rules = association_rules(freq_itemset, metric='confidence', min_threshold=0.10)"
   ]
  },
  {
   "cell_type": "code",
   "execution_count": 20,
   "id": "8eb85928",
   "metadata": {
    "execution": {
     "iopub.execute_input": "2022-11-14T18:05:50.135713Z",
     "iopub.status.busy": "2022-11-14T18:05:50.135309Z",
     "iopub.status.idle": "2022-11-14T18:05:50.163271Z",
     "shell.execute_reply": "2022-11-14T18:05:50.162098Z"
    },
    "papermill": {
     "duration": 0.039138,
     "end_time": "2022-11-14T18:05:50.165764",
     "exception": false,
     "start_time": "2022-11-14T18:05:50.126626",
     "status": "completed"
    },
    "tags": []
   },
   "outputs": [
    {
     "data": {
      "text/html": [
       "<div>\n",
       "<style scoped>\n",
       "    .dataframe tbody tr th:only-of-type {\n",
       "        vertical-align: middle;\n",
       "    }\n",
       "\n",
       "    .dataframe tbody tr th {\n",
       "        vertical-align: top;\n",
       "    }\n",
       "\n",
       "    .dataframe thead th {\n",
       "        text-align: right;\n",
       "    }\n",
       "</style>\n",
       "<table border=\"1\" class=\"dataframe\">\n",
       "  <thead>\n",
       "    <tr style=\"text-align: right;\">\n",
       "      <th></th>\n",
       "      <th>antecedents</th>\n",
       "      <th>consequents</th>\n",
       "      <th>support</th>\n",
       "      <th>confidence</th>\n",
       "    </tr>\n",
       "  </thead>\n",
       "  <tbody>\n",
       "    <tr>\n",
       "      <th>0</th>\n",
       "      <td>(avocado)</td>\n",
       "      <td>(mineral water)</td>\n",
       "      <td>0.011598</td>\n",
       "      <td>0.348000</td>\n",
       "    </tr>\n",
       "    <tr>\n",
       "      <th>1</th>\n",
       "      <td>(burgers)</td>\n",
       "      <td>(cake)</td>\n",
       "      <td>0.011465</td>\n",
       "      <td>0.131498</td>\n",
       "    </tr>\n",
       "    <tr>\n",
       "      <th>2</th>\n",
       "      <td>(cake)</td>\n",
       "      <td>(burgers)</td>\n",
       "      <td>0.011465</td>\n",
       "      <td>0.141447</td>\n",
       "    </tr>\n",
       "    <tr>\n",
       "      <th>3</th>\n",
       "      <td>(chocolate)</td>\n",
       "      <td>(burgers)</td>\n",
       "      <td>0.017064</td>\n",
       "      <td>0.104150</td>\n",
       "    </tr>\n",
       "    <tr>\n",
       "      <th>4</th>\n",
       "      <td>(burgers)</td>\n",
       "      <td>(chocolate)</td>\n",
       "      <td>0.017064</td>\n",
       "      <td>0.195719</td>\n",
       "    </tr>\n",
       "    <tr>\n",
       "      <th>...</th>\n",
       "      <td>...</td>\n",
       "      <td>...</td>\n",
       "      <td>...</td>\n",
       "      <td>...</td>\n",
       "    </tr>\n",
       "    <tr>\n",
       "      <th>315</th>\n",
       "      <td>(olive oil)</td>\n",
       "      <td>(spaghetti, mineral water)</td>\n",
       "      <td>0.010265</td>\n",
       "      <td>0.155870</td>\n",
       "    </tr>\n",
       "    <tr>\n",
       "      <th>316</th>\n",
       "      <td>(spaghetti, mineral water)</td>\n",
       "      <td>(pancakes)</td>\n",
       "      <td>0.011465</td>\n",
       "      <td>0.191964</td>\n",
       "    </tr>\n",
       "    <tr>\n",
       "      <th>317</th>\n",
       "      <td>(spaghetti, pancakes)</td>\n",
       "      <td>(mineral water)</td>\n",
       "      <td>0.011465</td>\n",
       "      <td>0.455026</td>\n",
       "    </tr>\n",
       "    <tr>\n",
       "      <th>318</th>\n",
       "      <td>(mineral water, pancakes)</td>\n",
       "      <td>(spaghetti)</td>\n",
       "      <td>0.011465</td>\n",
       "      <td>0.339921</td>\n",
       "    </tr>\n",
       "    <tr>\n",
       "      <th>319</th>\n",
       "      <td>(pancakes)</td>\n",
       "      <td>(spaghetti, mineral water)</td>\n",
       "      <td>0.011465</td>\n",
       "      <td>0.120617</td>\n",
       "    </tr>\n",
       "  </tbody>\n",
       "</table>\n",
       "<p>320 rows × 4 columns</p>\n",
       "</div>"
      ],
      "text/plain": [
       "                    antecedents                 consequents   support  \\\n",
       "0                     (avocado)             (mineral water)  0.011598   \n",
       "1                     (burgers)                      (cake)  0.011465   \n",
       "2                        (cake)                   (burgers)  0.011465   \n",
       "3                   (chocolate)                   (burgers)  0.017064   \n",
       "4                     (burgers)                 (chocolate)  0.017064   \n",
       "..                          ...                         ...       ...   \n",
       "315                 (olive oil)  (spaghetti, mineral water)  0.010265   \n",
       "316  (spaghetti, mineral water)                  (pancakes)  0.011465   \n",
       "317       (spaghetti, pancakes)             (mineral water)  0.011465   \n",
       "318   (mineral water, pancakes)                 (spaghetti)  0.011465   \n",
       "319                  (pancakes)  (spaghetti, mineral water)  0.011465   \n",
       "\n",
       "     confidence  \n",
       "0      0.348000  \n",
       "1      0.131498  \n",
       "2      0.141447  \n",
       "3      0.104150  \n",
       "4      0.195719  \n",
       "..          ...  \n",
       "315    0.155870  \n",
       "316    0.191964  \n",
       "317    0.455026  \n",
       "318    0.339921  \n",
       "319    0.120617  \n",
       "\n",
       "[320 rows x 4 columns]"
      ]
     },
     "execution_count": 20,
     "metadata": {},
     "output_type": "execute_result"
    }
   ],
   "source": [
    "rules = rules[['antecedents','consequents','support','confidence']]\n",
    "\"\"\"\n",
    "This code snippet selects specific columns from the 'rules' DataFrame and displays it.\n",
    "\n",
    "Columns selected:\n",
    "- 'antecedents': The items on the left-hand side of the rule.\n",
    "- 'consequents': The items on the right-hand side of the rule.\n",
    "- 'support': The support value of the rule.\n",
    "- 'confidence': The confidence value of the rule.\n",
    "\n",
    "The resulting DataFrame is displayed.\n",
    "\"\"\"\n",
    "rules"
   ]
  },
  {
   "cell_type": "code",
   "execution_count": 21,
   "id": "fdc68d88",
   "metadata": {
    "execution": {
     "iopub.execute_input": "2022-11-14T18:05:50.181142Z",
     "iopub.status.busy": "2022-11-14T18:05:50.180755Z",
     "iopub.status.idle": "2022-11-14T18:05:50.191831Z",
     "shell.execute_reply": "2022-11-14T18:05:50.190753Z"
    },
    "papermill": {
     "duration": 0.021706,
     "end_time": "2022-11-14T18:05:50.194344",
     "exception": false,
     "start_time": "2022-11-14T18:05:50.172638",
     "status": "completed"
    },
    "tags": []
   },
   "outputs": [
    {
     "data": {
      "text/plain": [
       "2               (burgers)\n",
       "25            (chocolate)\n",
       "27                 (eggs)\n",
       "29         (french fries)\n",
       "31    (frozen vegetables)\n",
       "33            (green tea)\n",
       "35                 (milk)\n",
       "37        (mineral water)\n",
       "39             (pancakes)\n",
       "41            (spaghetti)\n",
       "Name: consequents, dtype: object"
      ]
     },
     "execution_count": 21,
     "metadata": {},
     "output_type": "execute_result"
    }
   ],
   "source": [
    "rules[rules['antecedents'] == {'cake'}]['consequents']\n",
    "# This code snippet filters the 'rules' DataFrame to find the rows where the 'antecedents' column \n",
    "# contains the set {'cake'}, and then selects the 'consequents' column from those rows."
   ]
  }
 ],
 "metadata": {
  "kernelspec": {
   "display_name": "Python 3",
   "language": "python",
   "name": "python3"
  },
  "language_info": {
   "codemirror_mode": {
    "name": "ipython",
    "version": 3
   },
   "file_extension": ".py",
   "mimetype": "text/x-python",
   "name": "python",
   "nbconvert_exporter": "python",
   "pygments_lexer": "ipython3",
   "version": "3.12.3"
  },
  "papermill": {
   "default_parameters": {},
   "duration": 24.3957,
   "end_time": "2022-11-14T18:05:50.923304",
   "environment_variables": {},
   "exception": null,
   "input_path": "__notebook__.ipynb",
   "output_path": "__notebook__.ipynb",
   "parameters": {},
   "start_time": "2022-11-14T18:05:26.527604",
   "version": "2.3.4"
  }
 },
 "nbformat": 4,
 "nbformat_minor": 5
}
