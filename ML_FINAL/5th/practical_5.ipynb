{
 "cells": [
  {
   "cell_type": "markdown",
   "id": "b309f1bf",
   "metadata": {
    "papermill": {
     "duration": 0.011953,
     "end_time": "2022-11-08T18:14:34.975848",
     "exception": false,
     "start_time": "2022-11-08T18:14:34.963895",
     "status": "completed"
    },
    "tags": []
   },
   "source": [
    "Hello this is @Ranjeet_Kumbhar,<br>\n",
    "Enjoy the Notebook<br>\n",
    "\n",
    "GitHub:https://github.com/RanjeetKumbhar01/TE_IT_ML_ASSIGNMENTS_SPPU<br>\n",
    "Dataset: https://archive.ics.uci.edu/ml/datasets/sms%2Bspam%2Bcollection<br>\n",
    "\n",
    "# Question\n",
    "Assignment on Improving Performance of Classifier Models<br>\n",
    "A SMS unsolicited mail (every now and then known as cell smartphone junk mail) is any junk message<br>\n",
    "brought to a cellular phone as textual content messaging via the Short Message Service (SMS). Use<br>\n",
    "probabilistic approach (Naive Bayes Classifier / Bayesian Network) to implement SMS Spam Filtering<br>\n",
    "system. SMS messages are categorized as SPAM or HAM using features like length of message, word<br>\n",
    "depend, unique keywords etc.<br>\n",
    "Download Data -Set from : http://archive.ics.uci.edu/ml/datasets/sms+spam+collection<br>\n",
    "This dataset is composed by just one text file, where each line has the correct class followed by<br>\n",
    "the raw message.<br>\n",
    "a. Apply Data pre-processing (Label Encoding, Data Transformation….) techniques if<br>\n",
    "necessary<br>\n",
    "b. Perform data-preparation (Train-Test Split)<br>\n",
    "c. Apply at least two Machine Learning Algorithms and Evaluate Models<br>\n",
    "d. Apply Cross-Validation and Evaluate Models and compare performance.<br>\n",
    "e. Apply Hyper parameter tuning and evaluate models and compare performance<br>"
   ]
  },
  {
   "cell_type": "code",
   "execution_count": 8,
   "id": "3b718797",
   "metadata": {
    "execution": {
     "iopub.execute_input": "2022-11-08T18:14:35.053501Z",
     "iopub.status.busy": "2022-11-08T18:14:35.052294Z",
     "iopub.status.idle": "2022-11-08T18:14:35.058148Z",
     "shell.execute_reply": "2022-11-08T18:14:35.056835Z"
    },
    "papermill": {
     "duration": 0.021229,
     "end_time": "2022-11-08T18:14:35.061007",
     "exception": false,
     "start_time": "2022-11-08T18:14:35.039778",
     "status": "completed"
    },
    "tags": []
   },
   "outputs": [],
   "source": [
    "import numpy as np\n",
    "\"\"\"\n",
    "This script imports the necessary libraries for data manipulation and analysis.\n",
    "\n",
    "Libraries:\n",
    "- numpy: A fundamental package for scientific computing with Python.\n",
    "- pandas: A powerful data manipulation and analysis library for Python.\n",
    "\n",
    "Filepath:\n",
    "- /c:/Users/Asus/Downloads/TYIT_23_sj/TYIT_23_sj/practical_5/ml-assignment-4-te-it-sppu.ipynb\n",
    "\"\"\"\n",
    "import pandas as pd"
   ]
  },
  {
   "cell_type": "code",
   "execution_count": 9,
   "id": "0f69e242",
   "metadata": {
    "execution": {
     "iopub.execute_input": "2022-11-08T18:14:35.086780Z",
     "iopub.status.busy": "2022-11-08T18:14:35.085524Z",
     "iopub.status.idle": "2022-11-08T18:14:35.142742Z",
     "shell.execute_reply": "2022-11-08T18:14:35.140996Z"
    },
    "papermill": {
     "duration": 0.073756,
     "end_time": "2022-11-08T18:14:35.145936",
     "exception": false,
     "start_time": "2022-11-08T18:14:35.072180",
     "status": "completed"
    },
    "tags": []
   },
   "outputs": [],
   "source": [
    "df = pd.read_csv(r'e:\\TY\\ML\\ML LAB\\MLCODES\\5th\\SMSSpamCollection',sep='\\t',names=['label','text'])"
   ]
  },
  {
   "cell_type": "code",
   "execution_count": 10,
   "id": "5ce91d78",
   "metadata": {
    "execution": {
     "iopub.execute_input": "2022-11-08T18:14:35.170320Z",
     "iopub.status.busy": "2022-11-08T18:14:35.169901Z",
     "iopub.status.idle": "2022-11-08T18:14:35.205323Z",
     "shell.execute_reply": "2022-11-08T18:14:35.204068Z"
    },
    "papermill": {
     "duration": 0.05186,
     "end_time": "2022-11-08T18:14:35.209119",
     "exception": false,
     "start_time": "2022-11-08T18:14:35.157259",
     "status": "completed"
    },
    "tags": []
   },
   "outputs": [
    {
     "data": {
      "text/html": [
       "<div>\n",
       "<style scoped>\n",
       "    .dataframe tbody tr th:only-of-type {\n",
       "        vertical-align: middle;\n",
       "    }\n",
       "\n",
       "    .dataframe tbody tr th {\n",
       "        vertical-align: top;\n",
       "    }\n",
       "\n",
       "    .dataframe thead th {\n",
       "        text-align: right;\n",
       "    }\n",
       "</style>\n",
       "<table border=\"1\" class=\"dataframe\">\n",
       "  <thead>\n",
       "    <tr style=\"text-align: right;\">\n",
       "      <th></th>\n",
       "      <th>label</th>\n",
       "      <th>text</th>\n",
       "    </tr>\n",
       "  </thead>\n",
       "  <tbody>\n",
       "    <tr>\n",
       "      <th>0</th>\n",
       "      <td>ham</td>\n",
       "      <td>Go until jurong point, crazy.. Available only ...</td>\n",
       "    </tr>\n",
       "    <tr>\n",
       "      <th>1</th>\n",
       "      <td>ham</td>\n",
       "      <td>Ok lar... Joking wif u oni...</td>\n",
       "    </tr>\n",
       "    <tr>\n",
       "      <th>2</th>\n",
       "      <td>spam</td>\n",
       "      <td>Free entry in 2 a wkly comp to win FA Cup fina...</td>\n",
       "    </tr>\n",
       "    <tr>\n",
       "      <th>3</th>\n",
       "      <td>ham</td>\n",
       "      <td>U dun say so early hor... U c already then say...</td>\n",
       "    </tr>\n",
       "    <tr>\n",
       "      <th>4</th>\n",
       "      <td>ham</td>\n",
       "      <td>Nah I don't think he goes to usf, he lives aro...</td>\n",
       "    </tr>\n",
       "    <tr>\n",
       "      <th>...</th>\n",
       "      <td>...</td>\n",
       "      <td>...</td>\n",
       "    </tr>\n",
       "    <tr>\n",
       "      <th>5567</th>\n",
       "      <td>spam</td>\n",
       "      <td>This is the 2nd time we have tried 2 contact u...</td>\n",
       "    </tr>\n",
       "    <tr>\n",
       "      <th>5568</th>\n",
       "      <td>ham</td>\n",
       "      <td>Will ü b going to esplanade fr home?</td>\n",
       "    </tr>\n",
       "    <tr>\n",
       "      <th>5569</th>\n",
       "      <td>ham</td>\n",
       "      <td>Pity, * was in mood for that. So...any other s...</td>\n",
       "    </tr>\n",
       "    <tr>\n",
       "      <th>5570</th>\n",
       "      <td>ham</td>\n",
       "      <td>The guy did some bitching but I acted like i'd...</td>\n",
       "    </tr>\n",
       "    <tr>\n",
       "      <th>5571</th>\n",
       "      <td>ham</td>\n",
       "      <td>Rofl. Its true to its name</td>\n",
       "    </tr>\n",
       "  </tbody>\n",
       "</table>\n",
       "<p>5572 rows × 2 columns</p>\n",
       "</div>"
      ],
      "text/plain": [
       "     label                                               text\n",
       "0      ham  Go until jurong point, crazy.. Available only ...\n",
       "1      ham                      Ok lar... Joking wif u oni...\n",
       "2     spam  Free entry in 2 a wkly comp to win FA Cup fina...\n",
       "3      ham  U dun say so early hor... U c already then say...\n",
       "4      ham  Nah I don't think he goes to usf, he lives aro...\n",
       "...    ...                                                ...\n",
       "5567  spam  This is the 2nd time we have tried 2 contact u...\n",
       "5568   ham               Will ü b going to esplanade fr home?\n",
       "5569   ham  Pity, * was in mood for that. So...any other s...\n",
       "5570   ham  The guy did some bitching but I acted like i'd...\n",
       "5571   ham                         Rofl. Its true to its name\n",
       "\n",
       "[5572 rows x 2 columns]"
      ]
     },
     "execution_count": 10,
     "metadata": {},
     "output_type": "execute_result"
    }
   ],
   "source": [
    "# Display the dataframe\n",
    "df"
   ]
  },
  {
   "cell_type": "markdown",
   "id": "5e4aca8d",
   "metadata": {
    "papermill": {
     "duration": 0.01099,
     "end_time": "2022-11-08T18:14:35.232134",
     "exception": false,
     "start_time": "2022-11-08T18:14:35.221144",
     "status": "completed"
    },
    "tags": []
   },
   "source": [
    "# Data Pre-processing"
   ]
  },
  {
   "cell_type": "code",
   "execution_count": 11,
   "id": "6753224f",
   "metadata": {
    "execution": {
     "iopub.execute_input": "2022-11-08T18:14:35.257144Z",
     "iopub.status.busy": "2022-11-08T18:14:35.256448Z",
     "iopub.status.idle": "2022-11-08T18:14:35.263193Z",
     "shell.execute_reply": "2022-11-08T18:14:35.261863Z"
    },
    "papermill": {
     "duration": 0.023807,
     "end_time": "2022-11-08T18:14:35.267369",
     "exception": false,
     "start_time": "2022-11-08T18:14:35.243562",
     "status": "completed"
    },
    "tags": []
   },
   "outputs": [
    {
     "data": {
      "text/plain": [
       "(5572, 2)"
      ]
     },
     "execution_count": 11,
     "metadata": {},
     "output_type": "execute_result"
    }
   ],
   "source": [
    "# Display the shape of the dataframe\n",
    "df.shape"
   ]
  },
  {
   "cell_type": "code",
   "execution_count": 12,
   "id": "22df78d1",
   "metadata": {
    "execution": {
     "iopub.execute_input": "2022-11-08T18:14:35.292460Z",
     "iopub.status.busy": "2022-11-08T18:14:35.292020Z",
     "iopub.status.idle": "2022-11-08T18:14:37.043822Z",
     "shell.execute_reply": "2022-11-08T18:14:37.042739Z"
    },
    "papermill": {
     "duration": 1.768252,
     "end_time": "2022-11-08T18:14:37.047258",
     "exception": false,
     "start_time": "2022-11-08T18:14:35.279006",
     "status": "completed"
    },
    "tags": []
   },
   "outputs": [],
   "source": [
    "# Importing the nltk library for natural language processing tasks\n",
    "import nltk #!pip install nltk"
   ]
  },
  {
   "cell_type": "code",
   "execution_count": 13,
   "id": "70d92783",
   "metadata": {
    "execution": {
     "iopub.execute_input": "2022-11-08T18:14:37.071830Z",
     "iopub.status.busy": "2022-11-08T18:14:37.071168Z",
     "iopub.status.idle": "2022-11-08T18:14:37.227557Z",
     "shell.execute_reply": "2022-11-08T18:14:37.225394Z"
    },
    "papermill": {
     "duration": 0.173277,
     "end_time": "2022-11-08T18:14:37.231686",
     "exception": false,
     "start_time": "2022-11-08T18:14:37.058409",
     "status": "completed"
    },
    "tags": []
   },
   "outputs": [
    {
     "name": "stderr",
     "output_type": "stream",
     "text": [
      "[nltk_data] Downloading package stopwords to\n",
      "[nltk_data]     C:\\Users\\DELL\\AppData\\Roaming\\nltk_data...\n",
      "[nltk_data]   Package stopwords is already up-to-date!\n"
     ]
    },
    {
     "data": {
      "text/plain": [
       "'\\nDownloads the NLTK stopwords dataset.\\n\\nThis function uses the NLTK library to download the stopwords dataset, which is a collection of common words that are usually filtered out in natural language processing tasks.\\n\\nUsage:\\n\\nNote:\\n    Ensure that you have the NLTK library installed before running this function.\\n'"
      ]
     },
     "execution_count": 13,
     "metadata": {},
     "output_type": "execute_result"
    }
   ],
   "source": [
    "nltk.download('stopwords')\n",
    "\"\"\"\n",
    "Downloads the NLTK stopwords dataset.\n",
    "\n",
    "This function uses the NLTK library to download the stopwords dataset, which is a collection of common words that are usually filtered out in natural language processing tasks.\n",
    "\n",
    "Usage:\n",
    "\n",
    "Note:\n",
    "    Ensure that you have the NLTK library installed before running this function.\n",
    "\"\"\""
   ]
  },
  {
   "cell_type": "code",
   "execution_count": 14,
   "id": "63d75c0f",
   "metadata": {
    "execution": {
     "iopub.execute_input": "2022-11-08T18:14:37.257878Z",
     "iopub.status.busy": "2022-11-08T18:14:37.257004Z",
     "iopub.status.idle": "2022-11-08T18:14:37.262554Z",
     "shell.execute_reply": "2022-11-08T18:14:37.261590Z"
    },
    "papermill": {
     "duration": 0.021557,
     "end_time": "2022-11-08T18:14:37.264962",
     "exception": false,
     "start_time": "2022-11-08T18:14:37.243405",
     "status": "completed"
    },
    "tags": []
   },
   "outputs": [],
   "source": [
    "sent = 'How are you friends?'"
   ]
  },
  {
   "cell_type": "code",
   "execution_count": 15,
   "id": "56d45f6c",
   "metadata": {
    "execution": {
     "iopub.execute_input": "2022-11-08T18:14:37.290738Z",
     "iopub.status.busy": "2022-11-08T18:14:37.290323Z",
     "iopub.status.idle": "2022-11-08T18:14:37.313336Z",
     "shell.execute_reply": "2022-11-08T18:14:37.312183Z"
    },
    "papermill": {
     "duration": 0.038883,
     "end_time": "2022-11-08T18:14:37.315680",
     "exception": false,
     "start_time": "2022-11-08T18:14:37.276797",
     "status": "completed"
    },
    "tags": []
   },
   "outputs": [
    {
     "data": {
      "text/plain": [
       "['How', 'are', 'you', 'friends', '?']"
      ]
     },
     "execution_count": 15,
     "metadata": {},
     "output_type": "execute_result"
    }
   ],
   "source": [
    "from nltk.tokenize import word_tokenize\n",
    "\"\"\"\n",
    "This script tokenizes a given sentence into words using the NLTK library.\n",
    "\n",
    "Functions:\n",
    "    word_tokenize(sent): Tokenizes the input sentence into words.\n",
    "\n",
    "Usage:\n",
    "    Ensure that the NLTK library is installed and the necessary resources are downloaded.\n",
    "    Example:\n",
    "        tokens = word_tokenize(\"This is a sample sentence.\")\n",
    "\"\"\"\n",
    "word_tokenize(sent)"
   ]
  },
  {
   "cell_type": "code",
   "execution_count": 16,
   "id": "bd381b3a",
   "metadata": {
    "execution": {
     "iopub.execute_input": "2022-11-08T18:14:37.341217Z",
     "iopub.status.busy": "2022-11-08T18:14:37.340570Z",
     "iopub.status.idle": "2022-11-08T18:14:37.348263Z",
     "shell.execute_reply": "2022-11-08T18:14:37.347335Z"
    },
    "papermill": {
     "duration": 0.023175,
     "end_time": "2022-11-08T18:14:37.350758",
     "exception": false,
     "start_time": "2022-11-08T18:14:37.327583",
     "status": "completed"
    },
    "tags": []
   },
   "outputs": [],
   "source": [
    "# Import the stopwords module from the Natural Language Toolkit (nltk) library\n",
    "from nltk.corpus import stopwords\n",
    "# Get the list of English stopwords\n",
    "# Stopwords are common words like 'the', 'is', 'in', etc., that are often removed from text data\n",
    "swords = stopwords.words('english')"
   ]
  },
  {
   "cell_type": "code",
   "execution_count": 17,
   "id": "0072e5ef",
   "metadata": {
    "execution": {
     "iopub.execute_input": "2022-11-08T18:14:37.375571Z",
     "iopub.status.busy": "2022-11-08T18:14:37.375146Z",
     "iopub.status.idle": "2022-11-08T18:14:37.381114Z",
     "shell.execute_reply": "2022-11-08T18:14:37.379678Z"
    },
    "papermill": {
     "duration": 0.02125,
     "end_time": "2022-11-08T18:14:37.383462",
     "exception": false,
     "start_time": "2022-11-08T18:14:37.362212",
     "status": "completed"
    },
    "tags": []
   },
   "outputs": [
    {
     "data": {
      "text/plain": [
       "'\\nThis list comprehension filters out stopwords from a tokenized sentence.\\n\\nArgs:\\n    sent (str): The sentence to be tokenized and filtered.\\n    swords (list): A list of stopwords to be removed from the tokenized sentence.\\n\\nReturns:\\n    list: A list of words from the tokenized sentence that are not in the stopwords list.\\n'"
      ]
     },
     "execution_count": 17,
     "metadata": {},
     "output_type": "execute_result"
    }
   ],
   "source": [
    "clean = [word for word in word_tokenize(sent) if word not in swords]\n",
    "\"\"\"\n",
    "This list comprehension filters out stopwords from a tokenized sentence.\n",
    "\n",
    "Args:\n",
    "    sent (str): The sentence to be tokenized and filtered.\n",
    "    swords (list): A list of stopwords to be removed from the tokenized sentence.\n",
    "\n",
    "Returns:\n",
    "    list: A list of words from the tokenized sentence that are not in the stopwords list.\n",
    "\"\"\""
   ]
  },
  {
   "cell_type": "code",
   "execution_count": 18,
   "id": "bb9ec27a",
   "metadata": {
    "execution": {
     "iopub.execute_input": "2022-11-08T18:14:37.409020Z",
     "iopub.status.busy": "2022-11-08T18:14:37.407628Z",
     "iopub.status.idle": "2022-11-08T18:14:37.415093Z",
     "shell.execute_reply": "2022-11-08T18:14:37.414145Z"
    },
    "papermill": {
     "duration": 0.022393,
     "end_time": "2022-11-08T18:14:37.417210",
     "exception": false,
     "start_time": "2022-11-08T18:14:37.394817",
     "status": "completed"
    },
    "tags": []
   },
   "outputs": [
    {
     "data": {
      "text/plain": [
       "['How', 'friends', '?']"
      ]
     },
     "execution_count": 18,
     "metadata": {},
     "output_type": "execute_result"
    }
   ],
   "source": [
    "clean"
   ]
  },
  {
   "cell_type": "code",
   "execution_count": 19,
   "id": "3ff4645c",
   "metadata": {
    "execution": {
     "iopub.execute_input": "2022-11-08T18:14:37.443267Z",
     "iopub.status.busy": "2022-11-08T18:14:37.441875Z",
     "iopub.status.idle": "2022-11-08T18:14:37.450497Z",
     "shell.execute_reply": "2022-11-08T18:14:37.449610Z"
    },
    "papermill": {
     "duration": 0.023796,
     "end_time": "2022-11-08T18:14:37.452612",
     "exception": false,
     "start_time": "2022-11-08T18:14:37.428816",
     "status": "completed"
    },
    "tags": []
   },
   "outputs": [
    {
     "data": {
      "text/plain": [
       "['how', 'friend', '?']"
      ]
     },
     "execution_count": 19,
     "metadata": {},
     "output_type": "execute_result"
    }
   ],
   "source": [
    "# Stemming words with NLTK\n",
    "\"\"\"\n",
    "This script demonstrates stemming words using the NLTK library.\n",
    "\n",
    "The script performs the following steps:\n",
    "1. Imports the PorterStemmer class from the nltk.stem module.\n",
    "2. Initializes an instance of the PorterStemmer.\n",
    "3. Applies stemming to each word in the tokenized sentence, excluding stop words.\n",
    "4. Stores the stemmed words in the 'clean' list.\n",
    "\n",
    "Variables:\n",
    "- ps: An instance of the PorterStemmer class.\n",
    "- clean: A list of stemmed words from the input sentence.\n",
    "\n",
    "Note:\n",
    "- Ensure that 'word_tokenize' and 'swords' are defined elsewhere in the code.\n",
    "- 'word_tokenize' should tokenize the input sentence into words.\n",
    "- 'swords' should be a list of stop words to be excluded from stemming.\n",
    "\"\"\"\n",
    "from nltk.stem import PorterStemmer\n",
    "ps = PorterStemmer()\n",
    "clean = [ps.stem(word) for word in word_tokenize(sent) \n",
    "         if word not in swords]\n",
    "clean"
   ]
  },
  {
   "cell_type": "code",
   "execution_count": 20,
   "id": "edf5f3f5",
   "metadata": {
    "execution": {
     "iopub.execute_input": "2022-11-08T18:14:37.479186Z",
     "iopub.status.busy": "2022-11-08T18:14:37.477615Z",
     "iopub.status.idle": "2022-11-08T18:14:37.483248Z",
     "shell.execute_reply": "2022-11-08T18:14:37.482366Z"
    },
    "papermill": {
     "duration": 0.021418,
     "end_time": "2022-11-08T18:14:37.485664",
     "exception": false,
     "start_time": "2022-11-08T18:14:37.464246",
     "status": "completed"
    },
    "tags": []
   },
   "outputs": [
    {
     "data": {
      "text/plain": [
       "'\\nThis script contains a single string variable `sent` which holds a greeting message.\\nThe message includes a greeting, a question about well-being, and a statement about learning Python.\\n'"
      ]
     },
     "execution_count": 20,
     "metadata": {},
     "output_type": "execute_result"
    }
   ],
   "source": [
    "sent = 'Hello friends! How are you? We will learning python today'\n",
    "\"\"\"\n",
    "This script contains a single string variable `sent` which holds a greeting message.\n",
    "The message includes a greeting, a question about well-being, and a statement about learning Python.\n",
    "\"\"\""
   ]
  },
  {
   "cell_type": "code",
   "execution_count": 21,
   "id": "8995d967",
   "metadata": {
    "execution": {
     "iopub.execute_input": "2022-11-08T18:14:37.512601Z",
     "iopub.status.busy": "2022-11-08T18:14:37.511774Z",
     "iopub.status.idle": "2022-11-08T18:14:37.518082Z",
     "shell.execute_reply": "2022-11-08T18:14:37.516853Z"
    },
    "papermill": {
     "duration": 0.022807,
     "end_time": "2022-11-08T18:14:37.520654",
     "exception": false,
     "start_time": "2022-11-08T18:14:37.497847",
     "status": "completed"
    },
    "tags": []
   },
   "outputs": [],
   "source": [
    "def clean_text(sent):\n",
    "    \"\"\"\n",
    "    Cleans and tokenizes the input sentence.\n",
    "\n",
    "    This function performs the following steps:\n",
    "    1. Tokenizes the input sentence into words.\n",
    "    2. Filters out tokens that are neither digits nor alphabetic characters.\n",
    "    3. Stems the remaining tokens.\n",
    "    4. Removes stopwords from the stemmed tokens.\n",
    "\n",
    "    Args:\n",
    "         sent (str): The input sentence to be cleaned and tokenized.\n",
    "\n",
    "    Returns:\n",
    "         list: A list of cleaned and stemmed tokens.\n",
    "    \"\"\"\n",
    "    tokens = word_tokenize(sent)\n",
    "    clean = [word for word in tokens if word.isdigit() or word.isalpha()]\n",
    "    clean = [ps.stem(word) for word in clean\n",
    "         if word not in swords]\n",
    "    return clean"
   ]
  },
  {
   "cell_type": "code",
   "execution_count": 22,
   "id": "6ff9b6b0",
   "metadata": {
    "execution": {
     "iopub.execute_input": "2022-11-08T18:14:37.547518Z",
     "iopub.status.busy": "2022-11-08T18:14:37.547005Z",
     "iopub.status.idle": "2022-11-08T18:14:37.557411Z",
     "shell.execute_reply": "2022-11-08T18:14:37.556085Z"
    },
    "papermill": {
     "duration": 0.027166,
     "end_time": "2022-11-08T18:14:37.560050",
     "exception": false,
     "start_time": "2022-11-08T18:14:37.532884",
     "status": "completed"
    },
    "tags": []
   },
   "outputs": [
    {
     "data": {
      "text/plain": [
       "'\\nCleans the input text by performing various preprocessing steps.\\n\\nParameters:\\nsent (str): The input text string that needs to be cleaned.\\n\\nReturns:\\nstr: The cleaned text after preprocessing.\\n'"
      ]
     },
     "execution_count": 22,
     "metadata": {},
     "output_type": "execute_result"
    }
   ],
   "source": [
    "clean_text(sent)\n",
    "\"\"\"\n",
    "Cleans the input text by performing various preprocessing steps.\n",
    "\n",
    "Parameters:\n",
    "sent (str): The input text string that needs to be cleaned.\n",
    "\n",
    "Returns:\n",
    "str: The cleaned text after preprocessing.\n",
    "\"\"\""
   ]
  },
  {
   "cell_type": "code",
   "execution_count": 23,
   "id": "653276ab",
   "metadata": {
    "execution": {
     "iopub.execute_input": "2022-11-08T18:14:37.587078Z",
     "iopub.status.busy": "2022-11-08T18:14:37.585941Z",
     "iopub.status.idle": "2022-11-08T18:14:37.591197Z",
     "shell.execute_reply": "2022-11-08T18:14:37.590269Z"
    },
    "papermill": {
     "duration": 0.021166,
     "end_time": "2022-11-08T18:14:37.593417",
     "exception": false,
     "start_time": "2022-11-08T18:14:37.572251",
     "status": "completed"
    },
    "tags": []
   },
   "outputs": [],
   "source": [
    "# Pre-processing \n",
    "\"\"\"\n",
    "This script performs text pre-processing using the TfidfVectorizer from the sklearn library.\n",
    "\n",
    "Modules:\n",
    "    sklearn.feature_extraction.text: Provides the TfidfVectorizer class for converting a collection of raw documents to a matrix of TF-IDF features.\n",
    "\"\"\"\n",
    "from sklearn.feature_extraction.text import TfidfVectorizer"
   ]
  },
  {
   "cell_type": "code",
   "execution_count": 24,
   "id": "5009a272",
   "metadata": {
    "execution": {
     "iopub.execute_input": "2022-11-08T18:14:37.619710Z",
     "iopub.status.busy": "2022-11-08T18:14:37.619269Z",
     "iopub.status.idle": "2022-11-08T18:14:37.624114Z",
     "shell.execute_reply": "2022-11-08T18:14:37.622961Z"
    },
    "papermill": {
     "duration": 0.020873,
     "end_time": "2022-11-08T18:14:37.626317",
     "exception": false,
     "start_time": "2022-11-08T18:14:37.605444",
     "status": "completed"
    },
    "tags": []
   },
   "outputs": [
    {
     "data": {
      "text/plain": [
       "'\\nThis code initializes a TfidfVectorizer with a custom text analyzer function.\\n\\nAttributes:\\n    tfidf (TfidfVectorizer): An instance of TfidfVectorizer that uses the `clean_text` function to analyze and transform text data into TF-IDF features.\\n'"
      ]
     },
     "execution_count": 24,
     "metadata": {},
     "output_type": "execute_result"
    }
   ],
   "source": [
    "tfidf = TfidfVectorizer(analyzer=clean_text)\n",
    "\"\"\"\n",
    "This code initializes a TfidfVectorizer with a custom text analyzer function.\n",
    "\n",
    "Attributes:\n",
    "    tfidf (TfidfVectorizer): An instance of TfidfVectorizer that uses the `clean_text` function to analyze and transform text data into TF-IDF features.\n",
    "\"\"\""
   ]
  },
  {
   "cell_type": "code",
   "execution_count": 25,
   "id": "8e09b654",
   "metadata": {
    "execution": {
     "iopub.execute_input": "2022-11-08T18:14:37.652908Z",
     "iopub.status.busy": "2022-11-08T18:14:37.651741Z",
     "iopub.status.idle": "2022-11-08T18:14:37.661377Z",
     "shell.execute_reply": "2022-11-08T18:14:37.660429Z"
    },
    "papermill": {
     "duration": 0.02518,
     "end_time": "2022-11-08T18:14:37.663584",
     "exception": false,
     "start_time": "2022-11-08T18:14:37.638404",
     "status": "completed"
    },
    "tags": []
   },
   "outputs": [],
   "source": [
    "x = df['text']\n",
    "\"\"\"\n",
    "This code snippet extracts two columns from a DataFrame `df`:\n",
    "- `x` is assigned the values from the 'text' column of the DataFrame.\n",
    "- `y` is assigned the values from the 'label' column of the DataFrame.\n",
    "\n",
    "Assumptions:\n",
    "- `df` is a pandas DataFrame that has already been defined and contains the columns 'text' and 'label'.\n",
    "\"\"\"\n",
    "y = df['label']"
   ]
  },
  {
   "cell_type": "code",
   "execution_count": 26,
   "id": "a148a8db",
   "metadata": {
    "execution": {
     "iopub.execute_input": "2022-11-08T18:14:37.690279Z",
     "iopub.status.busy": "2022-11-08T18:14:37.688825Z",
     "iopub.status.idle": "2022-11-08T18:14:40.820874Z",
     "shell.execute_reply": "2022-11-08T18:14:40.819509Z"
    },
    "papermill": {
     "duration": 3.148943,
     "end_time": "2022-11-08T18:14:40.824268",
     "exception": false,
     "start_time": "2022-11-08T18:14:37.675325",
     "status": "completed"
    },
    "tags": []
   },
   "outputs": [
    {
     "data": {
      "text/plain": [
       "'\\nTransforms the input text data into TF-IDF features.\\n\\nThis function uses the `fit_transform` method of the `tfidf` object to convert \\nthe input text data `x` into a matrix of TF-IDF features. TF-IDF stands for \\nTerm Frequency-Inverse Document Frequency, which is a numerical statistic \\nintended to reflect the importance of a word in a collection of documents.\\n\\nReturns:\\n    scipy.sparse.csr.csr_matrix: A matrix of TF-IDF features.\\n'"
      ]
     },
     "execution_count": 26,
     "metadata": {},
     "output_type": "execute_result"
    }
   ],
   "source": [
    "x_new = tfidf.fit_transform(x)\n",
    "\"\"\"\n",
    "Transforms the input text data into TF-IDF features.\n",
    "\n",
    "This function uses the `fit_transform` method of the `tfidf` object to convert \n",
    "the input text data `x` into a matrix of TF-IDF features. TF-IDF stands for \n",
    "Term Frequency-Inverse Document Frequency, which is a numerical statistic \n",
    "intended to reflect the importance of a word in a collection of documents.\n",
    "\n",
    "Returns:\n",
    "    scipy.sparse.csr.csr_matrix: A matrix of TF-IDF features.\n",
    "\"\"\""
   ]
  },
  {
   "cell_type": "code",
   "execution_count": 27,
   "id": "7479ccab",
   "metadata": {
    "execution": {
     "iopub.execute_input": "2022-11-08T18:14:40.851598Z",
     "iopub.status.busy": "2022-11-08T18:14:40.851115Z",
     "iopub.status.idle": "2022-11-08T18:14:40.859519Z",
     "shell.execute_reply": "2022-11-08T18:14:40.858126Z"
    },
    "papermill": {
     "duration": 0.025655,
     "end_time": "2022-11-08T18:14:40.862469",
     "exception": false,
     "start_time": "2022-11-08T18:14:40.836814",
     "status": "completed"
    },
    "tags": []
   },
   "outputs": [
    {
     "data": {
      "text/plain": [
       "'\\nThis code snippet retrieves the shape of the array or DataFrame `x`.\\n\\nAttributes:\\n    x (numpy.ndarray or pandas.DataFrame): The input array or DataFrame whose shape is to be determined.\\n\\nReturns:\\n    tuple: A tuple representing the dimensions of `x`.\\n'"
      ]
     },
     "execution_count": 27,
     "metadata": {},
     "output_type": "execute_result"
    }
   ],
   "source": [
    "x.shape\n",
    "\"\"\"\n",
    "This code snippet retrieves the shape of the array or DataFrame `x`.\n",
    "\n",
    "Attributes:\n",
    "    x (numpy.ndarray or pandas.DataFrame): The input array or DataFrame whose shape is to be determined.\n",
    "\n",
    "Returns:\n",
    "    tuple: A tuple representing the dimensions of `x`.\n",
    "\"\"\""
   ]
  },
  {
   "cell_type": "code",
   "execution_count": 28,
   "id": "c32eaf28",
   "metadata": {
    "execution": {
     "iopub.execute_input": "2022-11-08T18:14:40.889522Z",
     "iopub.status.busy": "2022-11-08T18:14:40.888786Z",
     "iopub.status.idle": "2022-11-08T18:14:40.894957Z",
     "shell.execute_reply": "2022-11-08T18:14:40.893971Z"
    },
    "papermill": {
     "duration": 0.022336,
     "end_time": "2022-11-08T18:14:40.897188",
     "exception": false,
     "start_time": "2022-11-08T18:14:40.874852",
     "status": "completed"
    },
    "tags": []
   },
   "outputs": [
    {
     "data": {
      "text/plain": [
       "'\\n\\nReturns the shape of the array `x_new`.\\n\\nReturns:\\n    tuple: A tuple representing the dimensions of the array.\\n'"
      ]
     },
     "execution_count": 28,
     "metadata": {},
     "output_type": "execute_result"
    }
   ],
   "source": [
    "x_new.shape\n",
    "\"\"\"\n",
    "\n",
    "Returns the shape of the array `x_new`.\n",
    "\n",
    "Returns:\n",
    "    tuple: A tuple representing the dimensions of the array.\n",
    "\"\"\""
   ]
  },
  {
   "cell_type": "code",
   "execution_count": 29,
   "id": "e38ecac3",
   "metadata": {
    "execution": {
     "iopub.execute_input": "2022-11-08T18:14:40.924526Z",
     "iopub.status.busy": "2022-11-08T18:14:40.923792Z",
     "iopub.status.idle": "2022-11-08T18:14:40.928584Z",
     "shell.execute_reply": "2022-11-08T18:14:40.927043Z"
    },
    "papermill": {
     "duration": 0.02147,
     "end_time": "2022-11-08T18:14:40.930993",
     "exception": false,
     "start_time": "2022-11-08T18:14:40.909523",
     "status": "completed"
    },
    "tags": []
   },
   "outputs": [],
   "source": [
    "# tfidf.get_feature_names()"
   ]
  },
  {
   "cell_type": "code",
   "execution_count": 30,
   "id": "6941b2f7",
   "metadata": {
    "execution": {
     "iopub.execute_input": "2022-11-08T18:14:40.957192Z",
     "iopub.status.busy": "2022-11-08T18:14:40.956664Z",
     "iopub.status.idle": "2022-11-08T18:14:41.414311Z",
     "shell.execute_reply": "2022-11-08T18:14:41.412733Z"
    },
    "papermill": {
     "duration": 0.474338,
     "end_time": "2022-11-08T18:14:41.417231",
     "exception": false,
     "start_time": "2022-11-08T18:14:40.942893",
     "status": "completed"
    },
    "tags": []
   },
   "outputs": [
    {
     "data": {
      "text/plain": [
       "<Axes: xlabel='label', ylabel='count'>"
      ]
     },
     "execution_count": 30,
     "metadata": {},
     "output_type": "execute_result"
    },
    {
     "data": {
      "image/png": "[encoded data removed]",
      "text/plain": [
       "<Figure size 640x480 with 1 Axes>"
      ]
     },
     "metadata": {},
     "output_type": "display_data"
    }
   ],
   "source": [
    "import seaborn as sns\n",
    "\"\"\"\n",
    "This script imports the seaborn library and creates a count plot.\n",
    "\n",
    "Functions:\n",
    "    sns.countplot(x=y): Creates a count plot with the variable `y` on the x-axis.\n",
    "\n",
    "Note:\n",
    "    Ensure that the variable `y` is defined and contains categorical data before running this script.\n",
    "\"\"\"\n",
    "sns.countplot(x=y)"
   ]
  },
  {
   "cell_type": "code",
   "execution_count": 31,
   "id": "8b3d454e",
   "metadata": {
    "execution": {
     "iopub.execute_input": "2022-11-08T18:14:41.443543Z",
     "iopub.status.busy": "2022-11-08T18:14:41.443094Z",
     "iopub.status.idle": "2022-11-08T18:14:41.453447Z",
     "shell.execute_reply": "2022-11-08T18:14:41.452109Z"
    },
    "papermill": {
     "duration": 0.026937,
     "end_time": "2022-11-08T18:14:41.456451",
     "exception": false,
     "start_time": "2022-11-08T18:14:41.429514",
     "status": "completed"
    },
    "tags": []
   },
   "outputs": [],
   "source": [
    "#cross validation\n",
    "\"\"\"\n",
    "This code performs cross-validation by splitting the dataset into training and testing sets.\n",
    "\n",
    "Imports:\n",
    "    from sklearn.model_selection import train_test_split: A function for splitting arrays or matrices into random train and test subsets.\n",
    "\n",
    "Variables:\n",
    "    x_new: The input features of the dataset.\n",
    "    y: The target variable of the dataset.\n",
    "    x_train: The training set of input features.\n",
    "    x_test: The testing set of input features.\n",
    "    y_train: The training set of target variable.\n",
    "    y_test: The testing set of target variable.\n",
    "\n",
    "Parameters:\n",
    "    test_size (float): The proportion of the dataset to include in the test split (0.25 in this case).\n",
    "    random_state (int): Controls the shuffling applied to the data before applying the split (1 in this case).\n",
    "\n",
    "Returns:\n",
    "    x_train, x_test, y_train, y_test: The split datasets for training and testing.\n",
    "\"\"\"\n",
    "from sklearn.model_selection import train_test_split\n",
    "x_train,x_test,y_train,y_test = train_test_split(x_new,y,test_size=0.25,random_state=1)"
   ]
  },
  {
   "cell_type": "code",
   "execution_count": 32,
   "id": "93247249",
   "metadata": {
    "execution": {
     "iopub.execute_input": "2022-11-08T18:14:41.484330Z",
     "iopub.status.busy": "2022-11-08T18:14:41.483799Z",
     "iopub.status.idle": "2022-11-08T18:14:41.491969Z",
     "shell.execute_reply": "2022-11-08T18:14:41.489993Z"
    },
    "papermill": {
     "duration": 0.025483,
     "end_time": "2022-11-08T18:14:41.494894",
     "exception": false,
     "start_time": "2022-11-08T18:14:41.469411",
     "status": "completed"
    },
    "tags": []
   },
   "outputs": [
    {
     "name": "stdout",
     "output_type": "stream",
     "text": [
      "Size of splitted data\n",
      "x_train (4179, 6513)\n",
      "y_train (4179,)\n",
      "x_test (1393, 6513)\n",
      "y_test (1393,)\n"
     ]
    }
   ],
   "source": [
    "# Print the size of the split data\n",
    "print(f\"Size of splitted data\")\n",
    "print(f\"x_train {x_train.shape}\")  # Shape of the training set features\n",
    "print(f\"y_train {y_train.shape}\")  # Shape of the training set labels\n",
    "print(f\"x_test {x_test.shape}\")    # Shape of the test set features\n",
    "print(f\"y_test {y_test.shape}\")    # Shape of the test set labels"
   ]
  },
  {
   "cell_type": "code",
   "execution_count": 33,
   "id": "d5a33689",
   "metadata": {
    "execution": {
     "iopub.execute_input": "2022-11-08T18:14:41.521760Z",
     "iopub.status.busy": "2022-11-08T18:14:41.521179Z",
     "iopub.status.idle": "2022-11-08T18:14:41.528931Z",
     "shell.execute_reply": "2022-11-08T18:14:41.527963Z"
    },
    "papermill": {
     "duration": 0.024168,
     "end_time": "2022-11-08T18:14:41.531219",
     "exception": false,
     "start_time": "2022-11-08T18:14:41.507051",
     "status": "completed"
    },
    "tags": []
   },
   "outputs": [
    {
     "data": {
      "text/plain": [
       "'\\nThis script imports the GaussianNB class from the sklearn.naive_bayes module.\\nGaussianNB is a Naive Bayes classifier for multivariate normal distribution.\\n'"
      ]
     },
     "execution_count": 33,
     "metadata": {},
     "output_type": "execute_result"
    }
   ],
   "source": [
    "from sklearn.naive_bayes import GaussianNB\n",
    "\"\"\"\n",
    "This script imports the GaussianNB class from the sklearn.naive_bayes module.\n",
    "GaussianNB is a Naive Bayes classifier for multivariate normal distribution.\n",
    "\"\"\""
   ]
  },
  {
   "cell_type": "code",
   "execution_count": 34,
   "id": "9746cf0b",
   "metadata": {
    "execution": {
     "iopub.execute_input": "2022-11-08T18:14:41.558911Z",
     "iopub.status.busy": "2022-11-08T18:14:41.557288Z",
     "iopub.status.idle": "2022-11-08T18:14:42.581294Z",
     "shell.execute_reply": "2022-11-08T18:14:42.579825Z"
    },
    "papermill": {
     "duration": 1.041189,
     "end_time": "2022-11-08T18:14:42.584640",
     "exception": false,
     "start_time": "2022-11-08T18:14:41.543451",
     "status": "completed"
    },
    "tags": []
   },
   "outputs": [],
   "source": [
    "nb = GaussianNB()\n",
    "\"\"\"\n",
    "This code snippet performs the following operations using the Gaussian Naive Bayes classifier:\n",
    "\n",
    "1. Initializes a Gaussian Naive Bayes classifier.\n",
    "2. Fits the classifier to the training data.\n",
    "3. Predicts the labels for the test data.\n",
    "\n",
    "Variables:\n",
    "- nb: An instance of the GaussianNB classifier.\n",
    "- x_train: The training data features.\n",
    "- y_train: The training data labels.\n",
    "- y_pred_nb: The predicted labels for the test data.\n",
    "- x_test: The test data features.\n",
    "\n",
    "Note:\n",
    "- The `toarray()` method is used to convert sparse matrix representations to dense arrays.\n",
    "\"\"\"\n",
    "nb.fit(x_train.toarray(),y_train)\n",
    "y_pred_nb = nb.predict(x_test.toarray())"
   ]
  },
  {
   "cell_type": "code",
   "execution_count": 35,
   "id": "3e2c4b6d",
   "metadata": {
    "execution": {
     "iopub.execute_input": "2022-11-08T18:14:42.612900Z",
     "iopub.status.busy": "2022-11-08T18:14:42.612494Z",
     "iopub.status.idle": "2022-11-08T18:14:42.623891Z",
     "shell.execute_reply": "2022-11-08T18:14:42.622539Z"
    },
    "papermill": {
     "duration": 0.028688,
     "end_time": "2022-11-08T18:14:42.626514",
     "exception": false,
     "start_time": "2022-11-08T18:14:42.597826",
     "status": "completed"
    },
    "tags": []
   },
   "outputs": [
    {
     "data": {
      "text/plain": [
       "'\\nThis code snippet counts the unique values in the y_test series and returns a series with the counts of unique values.\\n\\nAssumptions:\\n- y_test is a pandas Series object.\\n\\nReturns:\\n- A pandas Series containing counts of unique values in y_test.\\n'"
      ]
     },
     "execution_count": 35,
     "metadata": {},
     "output_type": "execute_result"
    }
   ],
   "source": [
    "y_test.value_counts()\n",
    "\"\"\"\n",
    "This code snippet counts the unique values in the y_test series and returns a series with the counts of unique values.\n",
    "\n",
    "Assumptions:\n",
    "- y_test is a pandas Series object.\n",
    "\n",
    "Returns:\n",
    "- A pandas Series containing counts of unique values in y_test.\n",
    "\"\"\""
   ]
  },
  {
   "cell_type": "code",
   "execution_count": 36,
   "id": "d3c51dac",
   "metadata": {
    "execution": {
     "iopub.execute_input": "2022-11-08T18:14:42.655816Z",
     "iopub.status.busy": "2022-11-08T18:14:42.654652Z",
     "iopub.status.idle": "2022-11-08T18:14:42.662005Z",
     "shell.execute_reply": "2022-11-08T18:14:42.660357Z"
    },
    "papermill": {
     "duration": 0.025572,
     "end_time": "2022-11-08T18:14:42.665320",
     "exception": false,
     "start_time": "2022-11-08T18:14:42.639748",
     "status": "completed"
    },
    "tags": []
   },
   "outputs": [],
   "source": [
    "from sklearn.metrics import ConfusionMatrixDisplay, accuracy_score\n",
    "\"\"\"\n",
    "This script imports necessary libraries for evaluating and visualizing the performance of a machine learning model.\n",
    "\n",
    "Imports:\n",
    "    from sklearn.metrics import ConfusionMatrixDisplay, accuracy_score:\n",
    "        - ConfusionMatrixDisplay: A tool for visualizing confusion matrices.\n",
    "        - accuracy_score: A function to compute the accuracy of the model.\n",
    "    from sklearn.metrics import classification_report:\n",
    "        - classification_report: A function to generate a detailed classification report.\n",
    "    import matplotlib.pyplot as plt:\n",
    "        - plt: A module for creating static, animated, and interactive visualizations in Python.\n",
    "\"\"\"\n",
    "from sklearn.metrics import classification_report\n",
    "import matplotlib.pyplot as plt"
   ]
  },
  {
   "cell_type": "code",
   "execution_count": 37,
   "id": "e4e3190c",
   "metadata": {
    "execution": {
     "iopub.execute_input": "2022-11-08T18:14:42.693563Z",
     "iopub.status.busy": "2022-11-08T18:14:42.692706Z",
     "iopub.status.idle": "2022-11-08T18:14:42.982150Z",
     "shell.execute_reply": "2022-11-08T18:14:42.980801Z"
    },
    "papermill": {
     "duration": 0.307516,
     "end_time": "2022-11-08T18:14:42.985957",
     "exception": false,
     "start_time": "2022-11-08T18:14:42.678441",
     "status": "completed"
    },
    "tags": []
   },
   "outputs": [
    {
     "data": {
      "image/png": "[encoded data removed]",
      "text/plain": [
       "<Figure size 640x480 with 2 Axes>"
      ]
     },
     "metadata": {},
     "output_type": "display_data"
    },
    {
     "name": "stdout",
     "output_type": "stream",
     "text": [
      " Accuracy is 0.867910983488873\n",
      "              precision    recall  f1-score   support\n",
      "\n",
      "         ham       0.97      0.87      0.92      1208\n",
      "        spam       0.50      0.84      0.63       185\n",
      "\n",
      "    accuracy                           0.87      1393\n",
      "   macro avg       0.74      0.86      0.77      1393\n",
      "weighted avg       0.91      0.87      0.88      1393\n",
      "\n"
     ]
    }
   ],
   "source": [
    "ConfusionMatrixDisplay.from_predictions(y_test,y_pred_nb)\n",
    "\"\"\"\n",
    "This code snippet displays a confusion matrix for the predictions made by a Naive Bayes classifier, \n",
    "sets the title of the plot to 'Naive bayes', and shows the plot. \n",
    "It also prints the accuracy score and the classification report for the predictions.\n",
    "\n",
    "Functions and Methods:\n",
    "- ConfusionMatrixDisplay.from_predictions(y_test, y_pred_nb): \n",
    "    Generates a confusion matrix plot from the true labels (y_test) and predicted labels (y_pred_nb).\n",
    "- plt.title('Naive bayes'): \n",
    "    Sets the title of the plot to 'Naive bayes'.\n",
    "- plt.show(): \n",
    "    Displays the plot.\n",
    "- print(f\" Accuracy is {accuracy_score(y_test,y_pred_nb)}\"): \n",
    "    Prints the accuracy score of the predictions.\n",
    "- print(classification_report(y_test,y_pred_nb)): \n",
    "    Prints the classification report, which includes precision, recall, f1-score, and support for each class.\n",
    "\n",
    "Parameters:\n",
    "- y_test: array-like of shape (n_samples,)\n",
    "    True labels of the test data.\n",
    "- y_pred_nb: array-like of shape (n_samples,)\n",
    "    Predicted labels by the Naive Bayes classifier.\n",
    "\"\"\"\n",
    "plt.title('Naive bayes')\n",
    "plt.show()\n",
    "print(f\" Accuracy is {accuracy_score(y_test,y_pred_nb)}\")\n",
    "print(classification_report(y_test,y_pred_nb))"
   ]
  },
  {
   "cell_type": "code",
   "execution_count": 38,
   "id": "7379cedf",
   "metadata": {
    "execution": {
     "iopub.execute_input": "2022-11-08T18:14:43.015246Z",
     "iopub.status.busy": "2022-11-08T18:14:43.014744Z",
     "iopub.status.idle": "2022-11-08T18:14:47.193194Z",
     "shell.execute_reply": "2022-11-08T18:14:47.191769Z"
    },
    "papermill": {
     "duration": 4.196292,
     "end_time": "2022-11-08T18:14:47.196319",
     "exception": false,
     "start_time": "2022-11-08T18:14:43.000027",
     "status": "completed"
    },
    "tags": []
   },
   "outputs": [
    {
     "data": {
      "text/html": [
       "<style>#sk-container-id-1 {\n",
       "  /* Definition of color scheme common for light and dark mode */\n",
       "  --sklearn-color-text: black;\n",
       "  --sklearn-color-line: gray;\n",
       "  /* Definition of color scheme for unfitted estimators */\n",
       "  --sklearn-color-unfitted-level-0: #fff5e6;\n",
       "  --sklearn-color-unfitted-level-1: #f6e4d2;\n",
       "  --sklearn-color-unfitted-level-2: #ffe0b3;\n",
       "  --sklearn-color-unfitted-level-3: chocolate;\n",
       "  /* Definition of color scheme for fitted estimators */\n",
       "  --sklearn-color-fitted-level-0: #f0f8ff;\n",
       "  --sklearn-color-fitted-level-1: #d4ebff;\n",
       "  --sklearn-color-fitted-level-2: #b3dbfd;\n",
       "  --sklearn-color-fitted-level-3: cornflowerblue;\n",
       "\n",
       "  /* Specific color for light theme */\n",
       "  --sklearn-color-text-on-default-background: var(--sg-text-color, var(--theme-code-foreground, var(--jp-content-font-color1, black)));\n",
       "  --sklearn-color-background: var(--sg-background-color, var(--theme-background, var(--jp-layout-color0, white)));\n",
       "  --sklearn-color-border-box: var(--sg-text-color, var(--theme-code-foreground, var(--jp-content-font-color1, black)));\n",
       "  --sklearn-color-icon: #696969;\n",
       "\n",
       "  @media (prefers-color-scheme: dark) {\n",
       "    /* Redefinition of color scheme for dark theme */\n",
       "    --sklearn-color-text-on-default-background: var(--sg-text-color, var(--theme-code-foreground, var(--jp-content-font-color1, white)));\n",
       "    --sklearn-color-background: var(--sg-background-color, var(--theme-background, var(--jp-layout-color0, #111)));\n",
       "    --sklearn-color-border-box: var(--sg-text-color, var(--theme-code-foreground, var(--jp-content-font-color1, white)));\n",
       "    --sklearn-color-icon: #878787;\n",
       "  }\n",
       "}\n",
       "\n",
       "#sk-container-id-1 {\n",
       "  color: var(--sklearn-color-text);\n",
       "}\n",
       "\n",
       "#sk-container-id-1 pre {\n",
       "  padding: 0;\n",
       "}\n",
       "\n",
       "#sk-container-id-1 input.sk-hidden--visually {\n",
       "  border: 0;\n",
       "  clip: rect(1px 1px 1px 1px);\n",
       "  clip: rect(1px, 1px, 1px, 1px);\n",
       "  height: 1px;\n",
       "  margin: -1px;\n",
       "  overflow: hidden;\n",
       "  padding: 0;\n",
       "  position: absolute;\n",
       "  width: 1px;\n",
       "}\n",
       "\n",
       "#sk-container-id-1 div.sk-dashed-wrapped {\n",
       "  border: 1px dashed var(--sklearn-color-line);\n",
       "  margin: 0 0.4em 0.5em 0.4em;\n",
       "  box-sizing: border-box;\n",
       "  padding-bottom: 0.4em;\n",
       "  background-color: var(--sklearn-color-background);\n",
       "}\n",
       "\n",
       "#sk-container-id-1 div.sk-container {\n",
       "  /* jupyter's `normalize.less` sets `[hidden] { display: none; }`\n",
       "     but bootstrap.min.css set `[hidden] { display: none !important; }`\n",
       "     so we also need the `!important` here to be able to override the\n",
       "     default hidden behavior on the sphinx rendered scikit-learn.org.\n",
       "     See: https://github.com/scikit-learn/scikit-learn/issues/21755 */\n",
       "  display: inline-block !important;\n",
       "  position: relative;\n",
       "}\n",
       "\n",
       "#sk-container-id-1 div.sk-text-repr-fallback {\n",
       "  display: none;\n",
       "}\n",
       "\n",
       "div.sk-parallel-item,\n",
       "div.sk-serial,\n",
       "div.sk-item {\n",
       "  /* draw centered vertical line to link estimators */\n",
       "  background-image: linear-gradient(var(--sklearn-color-text-on-default-background), var(--sklearn-color-text-on-default-background));\n",
       "  background-size: 2px 100%;\n",
       "  background-repeat: no-repeat;\n",
       "  background-position: center center;\n",
       "}\n",
       "\n",
       "/* Parallel-specific style estimator block */\n",
       "\n",
       "#sk-container-id-1 div.sk-parallel-item::after {\n",
       "  content: \"\";\n",
       "  width: 100%;\n",
       "  border-bottom: 2px solid var(--sklearn-color-text-on-default-background);\n",
       "  flex-grow: 1;\n",
       "}\n",
       "\n",
       "#sk-container-id-1 div.sk-parallel {\n",
       "  display: flex;\n",
       "  align-items: stretch;\n",
       "  justify-content: center;\n",
       "  background-color: var(--sklearn-color-background);\n",
       "  position: relative;\n",
       "}\n",
       "\n",
       "#sk-container-id-1 div.sk-parallel-item {\n",
       "  display: flex;\n",
       "  flex-direction: column;\n",
       "}\n",
       "\n",
       "#sk-container-id-1 div.sk-parallel-item:first-child::after {\n",
       "  align-self: flex-end;\n",
       "  width: 50%;\n",
       "}\n",
       "\n",
       "#sk-container-id-1 div.sk-parallel-item:last-child::after {\n",
       "  align-self: flex-start;\n",
       "  width: 50%;\n",
       "}\n",
       "\n",
       "#sk-container-id-1 div.sk-parallel-item:only-child::after {\n",
       "  width: 0;\n",
       "}\n",
       "\n",
       "/* Serial-specific style estimator block */\n",
       "\n",
       "#sk-container-id-1 div.sk-serial {\n",
       "  display: flex;\n",
       "  flex-direction: column;\n",
       "  align-items: center;\n",
       "  background-color: var(--sklearn-color-background);\n",
       "  padding-right: 1em;\n",
       "  padding-left: 1em;\n",
       "}\n",
       "\n",
       "\n",
       "/* Toggleable style: style used for estimator/Pipeline/ColumnTransformer box that is\n",
       "clickable and can be expanded/collapsed.\n",
       "- Pipeline and ColumnTransformer use this feature and define the default style\n",
       "- Estimators will overwrite some part of the style using the `sk-estimator` class\n",
       "*/\n",
       "\n",
       "/* Pipeline and ColumnTransformer style (default) */\n",
       "\n",
       "#sk-container-id-1 div.sk-toggleable {\n",
       "  /* Default theme specific background. It is overwritten whether we have a\n",
       "  specific estimator or a Pipeline/ColumnTransformer */\n",
       "  background-color: var(--sklearn-color-background);\n",
       "}\n",
       "\n",
       "/* Toggleable label */\n",
       "#sk-container-id-1 label.sk-toggleable__label {\n",
       "  cursor: pointer;\n",
       "  display: block;\n",
       "  width: 100%;\n",
       "  margin-bottom: 0;\n",
       "  padding: 0.5em;\n",
       "  box-sizing: border-box;\n",
       "  text-align: center;\n",
       "}\n",
       "\n",
       "#sk-container-id-1 label.sk-toggleable__label-arrow:before {\n",
       "  /* Arrow on the left of the label */\n",
       "  content: \"▸\";\n",
       "  float: left;\n",
       "  margin-right: 0.25em;\n",
       "  color: var(--sklearn-color-icon);\n",
       "}\n",
       "\n",
       "#sk-container-id-1 label.sk-toggleable__label-arrow:hover:before {\n",
       "  color: var(--sklearn-color-text);\n",
       "}\n",
       "\n",
       "/* Toggleable content - dropdown */\n",
       "\n",
       "#sk-container-id-1 div.sk-toggleable__content {\n",
       "  max-height: 0;\n",
       "  max-width: 0;\n",
       "  overflow: hidden;\n",
       "  text-align: left;\n",
       "  /* unfitted */\n",
       "  background-color: var(--sklearn-color-unfitted-level-0);\n",
       "}\n",
       "\n",
       "#sk-container-id-1 div.sk-toggleable__content.fitted {\n",
       "  /* fitted */\n",
       "  background-color: var(--sklearn-color-fitted-level-0);\n",
       "}\n",
       "\n",
       "#sk-container-id-1 div.sk-toggleable__content pre {\n",
       "  margin: 0.2em;\n",
       "  border-radius: 0.25em;\n",
       "  color: var(--sklearn-color-text);\n",
       "  /* unfitted */\n",
       "  background-color: var(--sklearn-color-unfitted-level-0);\n",
       "}\n",
       "\n",
       "#sk-container-id-1 div.sk-toggleable__content.fitted pre {\n",
       "  /* unfitted */\n",
       "  background-color: var(--sklearn-color-fitted-level-0);\n",
       "}\n",
       "\n",
       "#sk-container-id-1 input.sk-toggleable__control:checked~div.sk-toggleable__content {\n",
       "  /* Expand drop-down */\n",
       "  max-height: 200px;\n",
       "  max-width: 100%;\n",
       "  overflow: auto;\n",
       "}\n",
       "\n",
       "#sk-container-id-1 input.sk-toggleable__control:checked~label.sk-toggleable__label-arrow:before {\n",
       "  content: \"▾\";\n",
       "}\n",
       "\n",
       "/* Pipeline/ColumnTransformer-specific style */\n",
       "\n",
       "#sk-container-id-1 div.sk-label input.sk-toggleable__control:checked~label.sk-toggleable__label {\n",
       "  color: var(--sklearn-color-text);\n",
       "  background-color: var(--sklearn-color-unfitted-level-2);\n",
       "}\n",
       "\n",
       "#sk-container-id-1 div.sk-label.fitted input.sk-toggleable__control:checked~label.sk-toggleable__label {\n",
       "  background-color: var(--sklearn-color-fitted-level-2);\n",
       "}\n",
       "\n",
       "/* Estimator-specific style */\n",
       "\n",
       "/* Colorize estimator box */\n",
       "#sk-container-id-1 div.sk-estimator input.sk-toggleable__control:checked~label.sk-toggleable__label {\n",
       "  /* unfitted */\n",
       "  background-color: var(--sklearn-color-unfitted-level-2);\n",
       "}\n",
       "\n",
       "#sk-container-id-1 div.sk-estimator.fitted input.sk-toggleable__control:checked~label.sk-toggleable__label {\n",
       "  /* fitted */\n",
       "  background-color: var(--sklearn-color-fitted-level-2);\n",
       "}\n",
       "\n",
       "#sk-container-id-1 div.sk-label label.sk-toggleable__label,\n",
       "#sk-container-id-1 div.sk-label label {\n",
       "  /* The background is the default theme color */\n",
       "  color: var(--sklearn-color-text-on-default-background);\n",
       "}\n",
       "\n",
       "/* On hover, darken the color of the background */\n",
       "#sk-container-id-1 div.sk-label:hover label.sk-toggleable__label {\n",
       "  color: var(--sklearn-color-text);\n",
       "  background-color: var(--sklearn-color-unfitted-level-2);\n",
       "}\n",
       "\n",
       "/* Label box, darken color on hover, fitted */\n",
       "#sk-container-id-1 div.sk-label.fitted:hover label.sk-toggleable__label.fitted {\n",
       "  color: var(--sklearn-color-text);\n",
       "  background-color: var(--sklearn-color-fitted-level-2);\n",
       "}\n",
       "\n",
       "/* Estimator label */\n",
       "\n",
       "#sk-container-id-1 div.sk-label label {\n",
       "  font-family: monospace;\n",
       "  font-weight: bold;\n",
       "  display: inline-block;\n",
       "  line-height: 1.2em;\n",
       "}\n",
       "\n",
       "#sk-container-id-1 div.sk-label-container {\n",
       "  text-align: center;\n",
       "}\n",
       "\n",
       "/* Estimator-specific */\n",
       "#sk-container-id-1 div.sk-estimator {\n",
       "  font-family: monospace;\n",
       "  border: 1px dotted var(--sklearn-color-border-box);\n",
       "  border-radius: 0.25em;\n",
       "  box-sizing: border-box;\n",
       "  margin-bottom: 0.5em;\n",
       "  /* unfitted */\n",
       "  background-color: var(--sklearn-color-unfitted-level-0);\n",
       "}\n",
       "\n",
       "#sk-container-id-1 div.sk-estimator.fitted {\n",
       "  /* fitted */\n",
       "  background-color: var(--sklearn-color-fitted-level-0);\n",
       "}\n",
       "\n",
       "/* on hover */\n",
       "#sk-container-id-1 div.sk-estimator:hover {\n",
       "  /* unfitted */\n",
       "  background-color: var(--sklearn-color-unfitted-level-2);\n",
       "}\n",
       "\n",
       "#sk-container-id-1 div.sk-estimator.fitted:hover {\n",
       "  /* fitted */\n",
       "  background-color: var(--sklearn-color-fitted-level-2);\n",
       "}\n",
       "\n",
       "/* Specification for estimator info (e.g. \"i\" and \"?\") */\n",
       "\n",
       "/* Common style for \"i\" and \"?\" */\n",
       "\n",
       ".sk-estimator-doc-link,\n",
       "a:link.sk-estimator-doc-link,\n",
       "a:visited.sk-estimator-doc-link {\n",
       "  float: right;\n",
       "  font-size: smaller;\n",
       "  line-height: 1em;\n",
       "  font-family: monospace;\n",
       "  background-color: var(--sklearn-color-background);\n",
       "  border-radius: 1em;\n",
       "  height: 1em;\n",
       "  width: 1em;\n",
       "  text-decoration: none !important;\n",
       "  margin-left: 1ex;\n",
       "  /* unfitted */\n",
       "  border: var(--sklearn-color-unfitted-level-1) 1pt solid;\n",
       "  color: var(--sklearn-color-unfitted-level-1);\n",
       "}\n",
       "\n",
       ".sk-estimator-doc-link.fitted,\n",
       "a:link.sk-estimator-doc-link.fitted,\n",
       "a:visited.sk-estimator-doc-link.fitted {\n",
       "  /* fitted */\n",
       "  border: var(--sklearn-color-fitted-level-1) 1pt solid;\n",
       "  color: var(--sklearn-color-fitted-level-1);\n",
       "}\n",
       "\n",
       "/* On hover */\n",
       "div.sk-estimator:hover .sk-estimator-doc-link:hover,\n",
       ".sk-estimator-doc-link:hover,\n",
       "div.sk-label-container:hover .sk-estimator-doc-link:hover,\n",
       ".sk-estimator-doc-link:hover {\n",
       "  /* unfitted */\n",
       "  background-color: var(--sklearn-color-unfitted-level-3);\n",
       "  color: var(--sklearn-color-background);\n",
       "  text-decoration: none;\n",
       "}\n",
       "\n",
       "div.sk-estimator.fitted:hover .sk-estimator-doc-link.fitted:hover,\n",
       ".sk-estimator-doc-link.fitted:hover,\n",
       "div.sk-label-container:hover .sk-estimator-doc-link.fitted:hover,\n",
       ".sk-estimator-doc-link.fitted:hover {\n",
       "  /* fitted */\n",
       "  background-color: var(--sklearn-color-fitted-level-3);\n",
       "  color: var(--sklearn-color-background);\n",
       "  text-decoration: none;\n",
       "}\n",
       "\n",
       "/* Span, style for the box shown on hovering the info icon */\n",
       ".sk-estimator-doc-link span {\n",
       "  display: none;\n",
       "  z-index: 9999;\n",
       "  position: relative;\n",
       "  font-weight: normal;\n",
       "  right: .2ex;\n",
       "  padding: .5ex;\n",
       "  margin: .5ex;\n",
       "  width: min-content;\n",
       "  min-width: 20ex;\n",
       "  max-width: 50ex;\n",
       "  color: var(--sklearn-color-text);\n",
       "  box-shadow: 2pt 2pt 4pt #999;\n",
       "  /* unfitted */\n",
       "  background: var(--sklearn-color-unfitted-level-0);\n",
       "  border: .5pt solid var(--sklearn-color-unfitted-level-3);\n",
       "}\n",
       "\n",
       ".sk-estimator-doc-link.fitted span {\n",
       "  /* fitted */\n",
       "  background: var(--sklearn-color-fitted-level-0);\n",
       "  border: var(--sklearn-color-fitted-level-3);\n",
       "}\n",
       "\n",
       ".sk-estimator-doc-link:hover span {\n",
       "  display: block;\n",
       "}\n",
       "\n",
       "/* \"?\"-specific style due to the `<a>` HTML tag */\n",
       "\n",
       "#sk-container-id-1 a.estimator_doc_link {\n",
       "  float: right;\n",
       "  font-size: 1rem;\n",
       "  line-height: 1em;\n",
       "  font-family: monospace;\n",
       "  background-color: var(--sklearn-color-background);\n",
       "  border-radius: 1rem;\n",
       "  height: 1rem;\n",
       "  width: 1rem;\n",
       "  text-decoration: none;\n",
       "  /* unfitted */\n",
       "  color: var(--sklearn-color-unfitted-level-1);\n",
       "  border: var(--sklearn-color-unfitted-level-1) 1pt solid;\n",
       "}\n",
       "\n",
       "#sk-container-id-1 a.estimator_doc_link.fitted {\n",
       "  /* fitted */\n",
       "  border: var(--sklearn-color-fitted-level-1) 1pt solid;\n",
       "  color: var(--sklearn-color-fitted-level-1);\n",
       "}\n",
       "\n",
       "/* On hover */\n",
       "#sk-container-id-1 a.estimator_doc_link:hover {\n",
       "  /* unfitted */\n",
       "  background-color: var(--sklearn-color-unfitted-level-3);\n",
       "  color: var(--sklearn-color-background);\n",
       "  text-decoration: none;\n",
       "}\n",
       "\n",
       "#sk-container-id-1 a.estimator_doc_link.fitted:hover {\n",
       "  /* fitted */\n",
       "  background-color: var(--sklearn-color-fitted-level-3);\n",
       "}\n",
       "</style><div id=\"sk-container-id-1\" class=\"sk-top-container\"><div class=\"sk-text-repr-fallback\"><pre>RandomForestClassifier(random_state=1)</pre><b>In a Jupyter environment, please rerun this cell to show the HTML representation or trust the notebook. <br />On GitHub, the HTML representation is unable to render, please try loading this page with nbviewer.org.</b></div><div class=\"sk-container\" hidden><div class=\"sk-item\"><div class=\"sk-estimator fitted sk-toggleable\"><input class=\"sk-toggleable__control sk-hidden--visually\" id=\"sk-estimator-id-1\" type=\"checkbox\" checked><label for=\"sk-estimator-id-1\" class=\"sk-toggleable__label fitted sk-toggleable__label-arrow fitted\">&nbsp;&nbsp;RandomForestClassifier<a class=\"sk-estimator-doc-link fitted\" rel=\"noreferrer\" target=\"_blank\" href=\"https://scikit-learn.org/1.5/modules/generated/sklearn.ensemble.RandomForestClassifier.html\">?<span>Documentation for RandomForestClassifier</span></a><span class=\"sk-estimator-doc-link fitted\">i<span>Fitted</span></span></label><div class=\"sk-toggleable__content fitted\"><pre>RandomForestClassifier(random_state=1)</pre></div> </div></div></div></div>"
      ],
      "text/plain": [
       "RandomForestClassifier(random_state=1)"
      ]
     },
     "execution_count": 38,
     "metadata": {},
     "output_type": "execute_result"
    }
   ],
   "source": [
    "from sklearn.ensemble import RandomForestClassifier\n",
    "\"\"\"\n",
    "This script demonstrates the use of the RandomForestClassifier from the sklearn.ensemble module.\n",
    "\n",
    "Steps:\n",
    "1. Import the RandomForestClassifier from sklearn.ensemble.\n",
    "2. Create an instance of RandomForestClassifier with a fixed random state for reproducibility.\n",
    "3. Fit the model to the training data (x_train, y_train).\n",
    "\n",
    "Variables:\n",
    "- model_rf: An instance of RandomForestClassifier.\n",
    "- x_train: Training feature set.\n",
    "- y_train: Training labels.\n",
    "\n",
    "Note:\n",
    "Ensure that x_train and y_train are defined and preprocessed before fitting the model.\n",
    "\"\"\"\n",
    "model_rf = RandomForestClassifier(random_state=1)\n",
    "model_rf.fit(x_train,y_train)\n"
   ]
  },
  {
   "cell_type": "code",
   "execution_count": 39,
   "id": "7d5c8de5",
   "metadata": {
    "execution": {
     "iopub.execute_input": "2022-11-08T18:14:47.225884Z",
     "iopub.status.busy": "2022-11-08T18:14:47.225366Z",
     "iopub.status.idle": "2022-11-08T18:14:47.315712Z",
     "shell.execute_reply": "2022-11-08T18:14:47.314707Z"
    },
    "papermill": {
     "duration": 0.108288,
     "end_time": "2022-11-08T18:14:47.318405",
     "exception": false,
     "start_time": "2022-11-08T18:14:47.210117",
     "status": "completed"
    },
    "tags": []
   },
   "outputs": [
    {
     "data": {
      "text/plain": [
       "'\\nPredict the target values using the trained Random Forest model.\\n\\nThis function uses the Random Forest model (`model_rf`) to predict the target values for the test dataset (`x_test`).\\n\\nReturns:\\n    numpy.ndarray: The predicted target values as a float array.\\n'"
      ]
     },
     "execution_count": 39,
     "metadata": {},
     "output_type": "execute_result"
    }
   ],
   "source": [
    "y_pred_rf = model_rf.predict(x_test) #float\n",
    "\"\"\"\n",
    "Predict the target values using the trained Random Forest model.\n",
    "\n",
    "This function uses the Random Forest model (`model_rf`) to predict the target values for the test dataset (`x_test`).\n",
    "\n",
    "Returns:\n",
    "    numpy.ndarray: The predicted target values as a float array.\n",
    "\"\"\""
   ]
  },
  {
   "cell_type": "code",
   "execution_count": 40,
   "id": "1e6478f5",
   "metadata": {
    "execution": {
     "iopub.execute_input": "2022-11-08T18:14:47.348653Z",
     "iopub.status.busy": "2022-11-08T18:14:47.347309Z",
     "iopub.status.idle": "2022-11-08T18:14:47.635245Z",
     "shell.execute_reply": "2022-11-08T18:14:47.633566Z"
    },
    "papermill": {
     "duration": 0.307309,
     "end_time": "2022-11-08T18:14:47.639006",
     "exception": false,
     "start_time": "2022-11-08T18:14:47.331697",
     "status": "completed"
    },
    "tags": []
   },
   "outputs": [
    {
     "data": {
      "image/png": "[encoded data removed]",
      "text/plain": [
       "<Figure size 640x480 with 2 Axes>"
      ]
     },
     "metadata": {},
     "output_type": "display_data"
    },
    {
     "name": "stdout",
     "output_type": "stream",
     "text": [
      " Accuracy is 0.9748743718592965\n",
      "              precision    recall  f1-score   support\n",
      "\n",
      "         ham       0.97      1.00      0.99      1208\n",
      "        spam       1.00      0.81      0.90       185\n",
      "\n",
      "    accuracy                           0.97      1393\n",
      "   macro avg       0.99      0.91      0.94      1393\n",
      "weighted avg       0.98      0.97      0.97      1393\n",
      "\n"
     ]
    }
   ],
   "source": [
    "ConfusionMatrixDisplay.from_predictions(y_test,y_pred_rf)\n",
    "\"\"\"\n",
    "This code snippet displays a confusion matrix for the predictions made by a Random Forest classifier,\n",
    "sets the title of the plot to 'Random Forest', and shows the plot. Additionally, it prints the accuracy\n",
    "score and the classification report for the predictions.\n",
    "\n",
    "Functions and Methods:\n",
    "- ConfusionMatrixDisplay.from_predictions(y_test, y_pred_rf): Generates a confusion matrix from the true labels (y_test) and predicted labels (y_pred_rf).\n",
    "- plt.title('Random Forest'): Sets the title of the plot to 'Random Forest'.\n",
    "- plt.show(): Displays the plot.\n",
    "- print(f\" Accuracy is {accuracy_score(y_test,y_pred_rf)}\"): Prints the accuracy score of the predictions.\n",
    "- print(classification_report(y_test,y_pred_rf)): Prints the classification report, which includes precision, recall, f1-score, and support for each class.\n",
    "\n",
    "Parameters:\n",
    "- y_test: Array-like of shape (n_samples,), True labels.\n",
    "- y_pred_rf: Array-like of shape (n_samples,), Predicted labels by the Random Forest classifier.\n",
    "\"\"\"\n",
    "plt.title('Random Forest')\n",
    "plt.show()\n",
    "print(f\" Accuracy is {accuracy_score(y_test,y_pred_rf)}\")\n",
    "print(classification_report(y_test,y_pred_rf))"
   ]
  },
  {
   "cell_type": "code",
   "execution_count": 41,
   "id": "4c8298d4",
   "metadata": {
    "execution": {
     "iopub.execute_input": "2022-11-08T18:14:47.670104Z",
     "iopub.status.busy": "2022-11-08T18:14:47.669709Z",
     "iopub.status.idle": "2022-11-08T18:14:47.744556Z",
     "shell.execute_reply": "2022-11-08T18:14:47.743082Z"
    },
    "papermill": {
     "duration": 0.093694,
     "end_time": "2022-11-08T18:14:47.747752",
     "exception": false,
     "start_time": "2022-11-08T18:14:47.654058",
     "status": "completed"
    },
    "tags": []
   },
   "outputs": [],
   "source": [
    "from sklearn.linear_model import LogisticRegression\n",
    "\"\"\"\n",
    "This script performs logistic regression using the scikit-learn library.\n",
    "\n",
    "Modules:\n",
    "    from sklearn.linear_model import LogisticRegression: Imports the LogisticRegression class from scikit-learn.\n",
    "\n",
    "Variables:\n",
    "    model_lr (LogisticRegression): An instance of the LogisticRegression class with a specified random state.\n",
    "\n",
    "Functions:\n",
    "    model_lr.fit(x_train, y_train): Fits the logistic regression model using the training data.\n",
    "    model_lr.predict(x_test): Predicts the target values for the test data.\n",
    "\n",
    "Usage:\n",
    "    Ensure that x_train, y_train, and x_test are defined before running this script.\n",
    "\"\"\"\n",
    "model_lr = LogisticRegression(random_state=1)\n",
    "\n",
    "model_lr.fit(x_train,y_train)\n",
    "y_pred_lr = model_lr.predict(x_test)"
   ]
  },
  {
   "cell_type": "code",
   "execution_count": 42,
   "id": "c4ec3c7b",
   "metadata": {
    "execution": {
     "iopub.execute_input": "2022-11-08T18:14:47.779184Z",
     "iopub.status.busy": "2022-11-08T18:14:47.778769Z",
     "iopub.status.idle": "2022-11-08T18:14:48.070046Z",
     "shell.execute_reply": "2022-11-08T18:14:48.067721Z"
    },
    "papermill": {
     "duration": 0.310222,
     "end_time": "2022-11-08T18:14:48.072879",
     "exception": false,
     "start_time": "2022-11-08T18:14:47.762657",
     "status": "completed"
    },
    "tags": []
   },
   "outputs": [
    {
     "data": {
      "image/png": "[encoded data removed]",
      "text/plain": [
       "<Figure size 640x480 with 2 Axes>"
      ]
     },
     "metadata": {},
     "output_type": "display_data"
    },
    {
     "name": "stdout",
     "output_type": "stream",
     "text": [
      " Accuracy is 0.9641062455132807\n",
      "              precision    recall  f1-score   support\n",
      "\n",
      "         ham       0.96      1.00      0.98      1208\n",
      "        spam       0.99      0.74      0.85       185\n",
      "\n",
      "    accuracy                           0.96      1393\n",
      "   macro avg       0.97      0.87      0.91      1393\n",
      "weighted avg       0.96      0.96      0.96      1393\n",
      "\n"
     ]
    }
   ],
   "source": [
    "ConfusionMatrixDisplay.from_predictions(y_test,y_pred_lr)\n",
    "\"\"\"\n",
    "This code snippet displays a confusion matrix for logistic regression predictions, \n",
    "sets the title of the plot, shows the plot, and prints the accuracy score and \n",
    "classification report.\n",
    "\n",
    "Functions and Methods:\n",
    "- ConfusionMatrixDisplay.from_predictions(y_test, y_pred_lr): Generates a confusion matrix plot from the true labels (y_test) and predicted labels (y_pred_lr).\n",
    "- plt.title('Logistic regression'): Sets the title of the plot to 'Logistic regression'.\n",
    "- plt.show(): Displays the plot.\n",
    "- print(f\" Accuracy is {accuracy_score(y_test, y_pred_lr)}\"): Prints the accuracy score of the logistic regression model.\n",
    "- print(classification_report(y_test, y_pred_lr)): Prints the classification report, which includes precision, recall, f1-score, and support for each class.\n",
    "\n",
    "Parameters:\n",
    "- y_test: Array-like of shape (n_samples,), True labels.\n",
    "- y_pred_lr: Array-like of shape (n_samples,), Predicted labels from the logistic regression model.\n",
    "\"\"\"\n",
    "plt.title('Logistic regression')\n",
    "plt.show()\n",
    "print(f\" Accuracy is {accuracy_score(y_test,y_pred_lr)}\")\n",
    "print(classification_report(y_test,y_pred_lr))"
   ]
  },
  {
   "cell_type": "markdown",
   "id": "f907dc50",
   "metadata": {
    "papermill": {
     "duration": 0.013419,
     "end_time": "2022-11-08T18:14:48.100086",
     "exception": false,
     "start_time": "2022-11-08T18:14:48.086667",
     "status": "completed"
    },
    "tags": []
   },
   "source": [
    "# Hyper parameter tunning"
   ]
  },
  {
   "cell_type": "code",
   "execution_count": 43,
   "id": "760fb237",
   "metadata": {
    "execution": {
     "iopub.execute_input": "2022-11-08T18:14:48.130534Z",
     "iopub.status.busy": "2022-11-08T18:14:48.129109Z",
     "iopub.status.idle": "2022-11-08T18:14:48.136504Z",
     "shell.execute_reply": "2022-11-08T18:14:48.135463Z"
    },
    "papermill": {
     "duration": 0.025469,
     "end_time": "2022-11-08T18:14:48.139400",
     "exception": false,
     "start_time": "2022-11-08T18:14:48.113931",
     "status": "completed"
    },
    "tags": []
   },
   "outputs": [
    {
     "data": {
      "text/plain": [
       "'\\nThis script imports the GridSearchCV class from the sklearn.model_selection module.\\n\\nGridSearchCV is used for hyperparameter tuning by performing an exhaustive search over specified parameter values for an estimator.\\n'"
      ]
     },
     "execution_count": 43,
     "metadata": {},
     "output_type": "execute_result"
    }
   ],
   "source": [
    "from sklearn.model_selection import GridSearchCV\n",
    "\"\"\"\n",
    "This script imports the GridSearchCV class from the sklearn.model_selection module.\n",
    "\n",
    "GridSearchCV is used for hyperparameter tuning by performing an exhaustive search over specified parameter values for an estimator.\n",
    "\"\"\""
   ]
  },
  {
   "cell_type": "code",
   "execution_count": 44,
   "id": "6be99044",
   "metadata": {
    "execution": {
     "iopub.execute_input": "2022-11-08T18:14:48.171800Z",
     "iopub.status.busy": "2022-11-08T18:14:48.171350Z",
     "iopub.status.idle": "2022-11-08T18:14:48.177790Z",
     "shell.execute_reply": "2022-11-08T18:14:48.176207Z"
    },
    "papermill": {
     "duration": 0.026377,
     "end_time": "2022-11-08T18:14:48.180602",
     "exception": false,
     "start_time": "2022-11-08T18:14:48.154225",
     "status": "completed"
    },
    "tags": []
   },
   "outputs": [],
   "source": [
    "# Define the parameter grid for hyperparameter tuning\n",
    "para = {\n",
    "    'criterion': ['gini', 'entropy', 'log_loss'],  # Criteria for splitting nodes\n",
    "    # 'max_features': ['sqrt', 'log2'],  # Number of features to consider for the best split\n",
    "    # 'random_state': [0, 1, 2, 3, 4],  # Seed used by the random number generator\n",
    "    'class_weight': ['balanced', 'balanced_subsample']  # Weights associated with classes\n",
    "}"
   ]
  },
  {
   "cell_type": "code",
   "execution_count": 45,
   "id": "28217c35",
   "metadata": {
    "execution": {
     "iopub.execute_input": "2022-11-08T18:14:48.212266Z",
     "iopub.status.busy": "2022-11-08T18:14:48.211813Z",
     "iopub.status.idle": "2022-11-08T18:14:48.219464Z",
     "shell.execute_reply": "2022-11-08T18:14:48.217573Z"
    },
    "papermill": {
     "duration": 0.027029,
     "end_time": "2022-11-08T18:14:48.222183",
     "exception": false,
     "start_time": "2022-11-08T18:14:48.195154",
     "status": "completed"
    },
    "tags": []
   },
   "outputs": [
    {
     "data": {
      "text/plain": [
       "\"\\nPerform a grid search with cross-validation to find the best hyperparameters for the given model.\\n\\nParameters:\\nmodel_rf : estimator object\\n    The object of the model for which hyperparameters need to be tuned.\\nparam_grid : dict or list of dictionaries\\n    Dictionary with parameters names (str) as keys and lists of parameter settings to try as values.\\ncv : int, cross-validation generator or an iterable, default=5\\n    Determines the cross-validation splitting strategy.\\nscoring : str, callable, list/tuple, or dict, default='accuracy'\\n    A single string or a callable to evaluate the predictions on the test set.\\n\\nReturns:\\ngrid : GridSearchCV object\\n    The GridSearchCV object after fitting the data with the best found parameters.\\n\""
      ]
     },
     "execution_count": 45,
     "metadata": {},
     "output_type": "execute_result"
    }
   ],
   "source": [
    "grid = GridSearchCV(model_rf, param_grid=para, cv=5, scoring='accuracy')\n",
    "\"\"\"\n",
    "Perform a grid search with cross-validation to find the best hyperparameters for the given model.\n",
    "\n",
    "Parameters:\n",
    "model_rf : estimator object\n",
    "    The object of the model for which hyperparameters need to be tuned.\n",
    "param_grid : dict or list of dictionaries\n",
    "    Dictionary with parameters names (str) as keys and lists of parameter settings to try as values.\n",
    "cv : int, cross-validation generator or an iterable, default=5\n",
    "    Determines the cross-validation splitting strategy.\n",
    "scoring : str, callable, list/tuple, or dict, default='accuracy'\n",
    "    A single string or a callable to evaluate the predictions on the test set.\n",
    "\n",
    "Returns:\n",
    "grid : GridSearchCV object\n",
    "    The GridSearchCV object after fitting the data with the best found parameters.\n",
    "\"\"\""
   ]
  },
  {
   "cell_type": "code",
   "execution_count": 46,
   "id": "386a7e43",
   "metadata": {
    "execution": {
     "iopub.execute_input": "2022-11-08T18:14:48.255280Z",
     "iopub.status.busy": "2022-11-08T18:14:48.254878Z",
     "iopub.status.idle": "2022-11-08T18:15:47.675963Z",
     "shell.execute_reply": "2022-11-08T18:15:47.674370Z"
    },
    "papermill": {
     "duration": 59.440443,
     "end_time": "2022-11-08T18:15:47.678803",
     "exception": false,
     "start_time": "2022-11-08T18:14:48.238360",
     "status": "completed"
    },
    "tags": []
   },
   "outputs": [
    {
     "data": {
      "text/plain": [
       "'\\nFits the grid search model to the training data.\\n\\nParameters:\\nx_train : array-like or sparse matrix of shape (n_samples, n_features)\\n    The training input samples.\\ny_train : array-like of shape (n_samples,) or (n_samples, n_outputs)\\n    The target values (class labels in classification, real numbers in regression).\\n\\nReturns:\\nNone\\n'"
      ]
     },
     "execution_count": 46,
     "metadata": {},
     "output_type": "execute_result"
    }
   ],
   "source": [
    "grid.fit(x_train,y_train)\n",
    "\"\"\"\n",
    "Fits the grid search model to the training data.\n",
    "\n",
    "Parameters:\n",
    "x_train : array-like or sparse matrix of shape (n_samples, n_features)\n",
    "    The training input samples.\n",
    "y_train : array-like of shape (n_samples,) or (n_samples, n_outputs)\n",
    "    The target values (class labels in classification, real numbers in regression).\n",
    "\n",
    "Returns:\n",
    "None\n",
    "\"\"\""
   ]
  },
  {
   "cell_type": "code",
   "execution_count": 47,
   "id": "54e9eba5",
   "metadata": {
    "execution": {
     "iopub.execute_input": "2022-11-08T18:15:47.709063Z",
     "iopub.status.busy": "2022-11-08T18:15:47.708364Z",
     "iopub.status.idle": "2022-11-08T18:15:47.715604Z",
     "shell.execute_reply": "2022-11-08T18:15:47.714322Z"
    },
    "papermill": {
     "duration": 0.025539,
     "end_time": "2022-11-08T18:15:47.718330",
     "exception": false,
     "start_time": "2022-11-08T18:15:47.692791",
     "status": "completed"
    },
    "tags": []
   },
   "outputs": [
    {
     "data": {
      "text/plain": [
       "'\\nAssigns the best estimator from the grid search to the variable `rf`.\\n\\nAttributes:\\n    rf (estimator object): The best estimator found by the grid search.\\n\\nNote:\\n    This code assumes that `grid.best_estimator_` has been previously defined and is the result of a grid search process.\\n'"
      ]
     },
     "execution_count": 47,
     "metadata": {},
     "output_type": "execute_result"
    }
   ],
   "source": [
    "rf = grid.best_estimator_\n",
    "\"\"\"\n",
    "Assigns the best estimator from the grid search to the variable `rf`.\n",
    "\n",
    "Attributes:\n",
    "    rf (estimator object): The best estimator found by the grid search.\n",
    "\n",
    "Note:\n",
    "    This code assumes that `grid.best_estimator_` has been previously defined and is the result of a grid search process.\n",
    "\"\"\""
   ]
  },
  {
   "cell_type": "code",
   "execution_count": 48,
   "id": "0fe0bf27",
   "metadata": {
    "execution": {
     "iopub.execute_input": "2022-11-08T18:15:47.747433Z",
     "iopub.status.busy": "2022-11-08T18:15:47.747025Z",
     "iopub.status.idle": "2022-11-08T18:15:47.830778Z",
     "shell.execute_reply": "2022-11-08T18:15:47.829386Z"
    },
    "papermill": {
     "duration": 0.101846,
     "end_time": "2022-11-08T18:15:47.833926",
     "exception": false,
     "start_time": "2022-11-08T18:15:47.732080",
     "status": "completed"
    },
    "tags": []
   },
   "outputs": [
    {
     "data": {
      "text/plain": [
       "'\\nPredict the target values for the test dataset using the trained Random Forest model.\\n\\nThis function uses the `predict` method of the Random Forest model (`rf`) to generate \\npredicted target values (`y_pred_grid`) for the provided test dataset (`x_test`).\\n\\nReturns:\\n    y_pred_grid (array-like): Predicted target values for the test dataset.\\n'"
      ]
     },
     "execution_count": 48,
     "metadata": {},
     "output_type": "execute_result"
    }
   ],
   "source": [
    "y_pred_grid = rf.predict(x_test)\n",
    "\"\"\"\n",
    "Predict the target values for the test dataset using the trained Random Forest model.\n",
    "\n",
    "This function uses the `predict` method of the Random Forest model (`rf`) to generate \n",
    "predicted target values (`y_pred_grid`) for the provided test dataset (`x_test`).\n",
    "\n",
    "Returns:\n",
    "    y_pred_grid (array-like): Predicted target values for the test dataset.\n",
    "\"\"\""
   ]
  },
  {
   "cell_type": "code",
   "execution_count": 49,
   "id": "28a37f8d",
   "metadata": {
    "execution": {
     "iopub.execute_input": "2022-11-08T18:15:47.863723Z",
     "iopub.status.busy": "2022-11-08T18:15:47.863263Z",
     "iopub.status.idle": "2022-11-08T18:15:48.167592Z",
     "shell.execute_reply": "2022-11-08T18:15:48.165538Z"
    },
    "papermill": {
     "duration": 0.322527,
     "end_time": "2022-11-08T18:15:48.170588",
     "exception": false,
     "start_time": "2022-11-08T18:15:47.848061",
     "status": "completed"
    },
    "tags": []
   },
   "outputs": [
    {
     "data": {
      "image/png": "[encoded data removed]",
      "text/plain": [
       "<Figure size 640x480 with 2 Axes>"
      ]
     },
     "metadata": {},
     "output_type": "display_data"
    },
    {
     "name": "stdout",
     "output_type": "stream",
     "text": [
      " Accuracy is 0.9763101220387652\n",
      "              precision    recall  f1-score   support\n",
      "\n",
      "         ham       0.97      1.00      0.99      1208\n",
      "        spam       1.00      0.82      0.90       185\n",
      "\n",
      "    accuracy                           0.98      1393\n",
      "   macro avg       0.99      0.91      0.94      1393\n",
      "weighted avg       0.98      0.98      0.98      1393\n",
      "\n"
     ]
    }
   ],
   "source": [
    "ConfusionMatrixDisplay.from_predictions(y_test,y_pred_grid)\n",
    "\"\"\"\n",
    "Displays a confusion matrix using the predictions and true labels, and prints the accuracy score and classification report.\n",
    "\n",
    "Parameters:\n",
    "y_test : array-like of shape (n_samples,)\n",
    "    True labels of the test data.\n",
    "y_pred_grid : array-like of shape (n_samples,)\n",
    "    Predicted labels from the grid search model.\n",
    "\n",
    "Displays:\n",
    "- A confusion matrix plot with the title 'Grid Search'.\n",
    "- The accuracy score of the predictions.\n",
    "- The classification report including precision, recall, f1-score, and support.\n",
    "\"\"\"\n",
    "plt.title('Gride Search')\n",
    "plt.show()\n",
    "print(f\" Accuracy is {accuracy_score(y_test,y_pred_grid)}\")\n",
    "print(classification_report(y_test,y_pred_grid))"
   ]
  },
  {
   "cell_type": "code",
   "execution_count": null,
   "id": "231257ac",
   "metadata": {
    "papermill": {
     "duration": 0.013783,
     "end_time": "2022-11-08T18:15:48.198870",
     "exception": false,
     "start_time": "2022-11-08T18:15:48.185087",
     "status": "completed"
    },
    "tags": []
   },
   "outputs": [],
   "source": []
  }
 ],
 "metadata": {
  "kernelspec": {
   "display_name": "Python 3",
   "language": "python",
   "name": "python3"
  },
  "language_info": {
   "codemirror_mode": {
    "name": "ipython",
    "version": 3
   },
   "file_extension": ".py",
   "mimetype": "text/x-python",
   "name": "python",
   "nbconvert_exporter": "python",
   "pygments_lexer": "ipython3",
   "version": "3.11.7"
  },
  "papermill": {
   "default_parameters": {},
   "duration": 84.975286,
   "end_time": "2022-11-08T18:15:49.138354",
   "environment_variables": {},
   "exception": null,
   "input_path": "__notebook__.ipynb",
   "output_path": "__notebook__.ipynb",
   "parameters": {},
   "start_time": "2022-11-08T18:14:24.163068",
   "version": "2.3.4"
  }
 },
 "nbformat": 4,
 "nbformat_minor": 5
}
